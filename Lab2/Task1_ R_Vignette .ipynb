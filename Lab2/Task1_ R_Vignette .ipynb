{
 "cells": [
  {
   "cell_type": "markdown",
   "metadata": {},
   "source": [
    "<h2> R Vignette and Titanic </h2>"
   ]
  },
  {
   "cell_type": "markdown",
   "metadata": {},
   "source": [
    "Importing the required package - dplyr"
   ]
  },
  {
   "cell_type": "code",
   "execution_count": 1,
   "metadata": {
    "collapsed": false
   },
   "outputs": [
    {
     "name": "stderr",
     "output_type": "stream",
     "text": [
      "\n",
      "Attaching package: 'dplyr'\n",
      "\n",
      "The following objects are masked from 'package:stats':\n",
      "\n",
      "    filter, lag\n",
      "\n",
      "The following objects are masked from 'package:base':\n",
      "\n",
      "    intersect, setdiff, setequal, union\n",
      "\n"
     ]
    }
   ],
   "source": [
    "library(dplyr)"
   ]
  },
  {
   "cell_type": "markdown",
   "metadata": {},
   "source": [
    "src is a collection of types of database tables. We can use src_sqlite(), src_mysql(), src_postgres() and src_bigquery() to connect to the specific types supported by dplyr."
   ]
  },
  {
   "cell_type": "code",
   "execution_count": 2,
   "metadata": {
    "collapsed": true
   },
   "outputs": [],
   "source": [
    "flightdatabase <- src_sqlite(\"database.sqlite3\", create = T)"
   ]
  },
  {
   "cell_type": "markdown",
   "metadata": {},
   "source": [
    "flightdatabase is empty right now. We will import flights database available in R and copy to our flighdatabase table."
   ]
  },
  {
   "cell_type": "code",
   "execution_count": 3,
   "metadata": {
    "collapsed": false
   },
   "outputs": [],
   "source": [
    "library(nycflights13)"
   ]
  },
  {
   "cell_type": "code",
   "execution_count": 4,
   "metadata": {
    "collapsed": false
   },
   "outputs": [],
   "source": [
    "flights_sqlite <- copy_to(flightdatabase, flights, temporary = FALSE, indexes = list(\n",
    "  c(\"year\", \"month\", \"day\"), \"carrier\", \"tailnum\"))"
   ]
  },
  {
   "cell_type": "markdown",
   "metadata": {},
   "source": [
    "For this particular dataset, there’s a built-in src that will cache flights in a standard location."
   ]
  },
  {
   "cell_type": "code",
   "execution_count": 5,
   "metadata": {
    "collapsed": false
   },
   "outputs": [
    {
     "name": "stderr",
     "output_type": "stream",
     "text": [
      "Caching nycflights db at C:\\Users\\Ashwini\\AppData\\Local\\Temp\\Rtmp8yXDPh/nycflights13.sqlite\n",
      "Creating table: airlines\n",
      "Creating table: airports\n",
      "Creating table: flights\n",
      "Creating table: planes\n",
      "Creating table: weather\n"
     ]
    }
   ],
   "source": [
    "flights_sqlite <- tbl(nycflights13_sqlite(), \"flights\")"
   ]
  },
  {
   "cell_type": "code",
   "execution_count": 6,
   "metadata": {
    "collapsed": false
   },
   "outputs": [
    {
     "data": {
      "text/plain": [
       "Source:   query [?? x 19]\n",
       "Database: sqlite 3.11.1 [C:\\Users\\Ashwini\\AppData\\Local\\Temp\\Rtmp8yXDPh/nycflights13.sqlite]\n",
       "\n",
       "    year month   day dep_time sched_dep_time dep_delay arr_time sched_arr_time\n",
       "   <int> <int> <int>    <int>          <int>     <dbl>    <int>          <int>\n",
       "1   2013     1     1      517            515         2      830            819\n",
       "2   2013     1     1      533            529         4      850            830\n",
       "3   2013     1     1      542            540         2      923            850\n",
       "4   2013     1     1      544            545        -1     1004           1022\n",
       "5   2013     1     1      554            600        -6      812            837\n",
       "6   2013     1     1      554            558        -4      740            728\n",
       "7   2013     1     1      555            600        -5      913            854\n",
       "8   2013     1     1      557            600        -3      709            723\n",
       "9   2013     1     1      557            600        -3      838            846\n",
       "10  2013     1     1      558            600        -2      753            745\n",
       "# ... with more rows, and 11 more variables: arr_delay <dbl>, carrier <chr>,\n",
       "#   flight <int>, tailnum <chr>, origin <chr>, dest <chr>, air_time <dbl>,\n",
       "#   distance <dbl>, hour <dbl>, minute <dbl>, time_hour <dbl>"
      ]
     },
     "metadata": {},
     "output_type": "display_data"
    }
   ],
   "source": [
    "flights_sqlite"
   ]
  },
  {
   "cell_type": "markdown",
   "metadata": {},
   "source": [
    "Or we can aslo use SQL query to get data from flights table. "
   ]
  },
  {
   "cell_type": "code",
   "execution_count": 7,
   "metadata": {
    "collapsed": false
   },
   "outputs": [
    {
     "data": {
      "text/plain": [
       "Source:   query [?? x 19]\n",
       "Database: sqlite 3.11.1 [database.sqlite3]\n",
       "\n",
       "    year month   day dep_time sched_dep_time dep_delay arr_time sched_arr_time\n",
       "   <int> <int> <int>    <int>          <int>     <dbl>    <int>          <int>\n",
       "1   2013     1     1      517            515         2      830            819\n",
       "2   2013     1     1      533            529         4      850            830\n",
       "3   2013     1     1      542            540         2      923            850\n",
       "4   2013     1     1      544            545        -1     1004           1022\n",
       "5   2013     1     1      554            600        -6      812            837\n",
       "6   2013     1     1      554            558        -4      740            728\n",
       "7   2013     1     1      555            600        -5      913            854\n",
       "8   2013     1     1      557            600        -3      709            723\n",
       "9   2013     1     1      557            600        -3      838            846\n",
       "10  2013     1     1      558            600        -2      753            745\n",
       "# ... with more rows, and 11 more variables: arr_delay <dbl>, carrier <chr>,\n",
       "#   flight <int>, tailnum <chr>, origin <chr>, dest <chr>, air_time <dbl>,\n",
       "#   distance <dbl>, hour <dbl>, minute <dbl>, time_hour <dbl>"
      ]
     },
     "metadata": {},
     "output_type": "display_data"
    }
   ],
   "source": [
    "tbl(flightdatabase, sql(\"SELECT * FROM flights\"))"
   ]
  },
  {
   "cell_type": "markdown",
   "metadata": {},
   "source": [
    "Whenever we are dealing with data  sources, we have five basic verbs : \n",
    "<ul>\n",
    "<li>select</li>\n",
    "<li>filter</li>\n",
    "<li>arrange</li>\n",
    "<li>mutate</li>\n",
    "<li>summarize</li>\n",
    "</ul>"
   ]
  },
  {
   "cell_type": "markdown",
   "metadata": {},
   "source": [
    "select : We can select the specific columns from the table."
   ]
  },
  {
   "cell_type": "code",
   "execution_count": 8,
   "metadata": {
    "collapsed": false
   },
   "outputs": [
    {
     "data": {
      "text/plain": [
       "Source:   query [?? x 5]\n",
       "Database: sqlite 3.11.1 [C:\\Users\\Ashwini\\AppData\\Local\\Temp\\Rtmp8yXDPh/nycflights13.sqlite]\n",
       "\n",
       "    year month   day dep_delay arr_delay\n",
       "   <int> <int> <int>     <dbl>     <dbl>\n",
       "1   2013     1     1         2        11\n",
       "2   2013     1     1         4        20\n",
       "3   2013     1     1         2        33\n",
       "4   2013     1     1        -1       -18\n",
       "5   2013     1     1        -6       -25\n",
       "6   2013     1     1        -4        12\n",
       "7   2013     1     1        -5        19\n",
       "8   2013     1     1        -3       -14\n",
       "9   2013     1     1        -3        -8\n",
       "10  2013     1     1        -2         8\n",
       "# ... with more rows"
      ]
     },
     "metadata": {},
     "output_type": "display_data"
    }
   ],
   "source": [
    "select(flights_sqlite, year:day, dep_delay, arr_delay)"
   ]
  },
  {
   "cell_type": "markdown",
   "metadata": {},
   "source": [
    "filter : We can filter the data based on the specific query using filter command with parameters like table_name and query."
   ]
  },
  {
   "cell_type": "code",
   "execution_count": 9,
   "metadata": {
    "collapsed": false
   },
   "outputs": [
    {
     "data": {
      "text/plain": [
       "Source:   query [?? x 19]\n",
       "Database: sqlite 3.11.1 [C:\\Users\\Ashwini\\AppData\\Local\\Temp\\Rtmp8yXDPh/nycflights13.sqlite]\n",
       "\n",
       "    year month   day dep_time sched_dep_time dep_delay arr_time sched_arr_time\n",
       "   <int> <int> <int>    <int>          <int>     <dbl>    <int>          <int>\n",
       "1   2013     1     1      848           1835       853     1001           1950\n",
       "2   2013     1     1     1815           1325       290     2120           1542\n",
       "3   2013     1     1     1842           1422       260     1958           1535\n",
       "4   2013     1     1     2115           1700       255     2330           1920\n",
       "5   2013     1     1     2205           1720       285       46           2040\n",
       "6   2013     1     1     2343           1724       379      314           1938\n",
       "7   2013     1     2     1332            904       268     1616           1128\n",
       "8   2013     1     2     1412            838       334     1710           1147\n",
       "9   2013     1     2     1607           1030       337     2003           1355\n",
       "10  2013     1     2     2131           1512       379     2340           1741\n",
       "# ... with more rows, and 11 more variables: arr_delay <dbl>, carrier <chr>,\n",
       "#   flight <int>, tailnum <chr>, origin <chr>, dest <chr>, air_time <dbl>,\n",
       "#   distance <dbl>, hour <dbl>, minute <dbl>, time_hour <dbl>"
      ]
     },
     "metadata": {},
     "output_type": "display_data"
    }
   ],
   "source": [
    "filter(flights_sqlite, dep_delay > 240)"
   ]
  },
  {
   "cell_type": "markdown",
   "metadata": {},
   "source": [
    "arrange : We can also sort the data using arrange command. It sorts the data in ascending order of the variables passed to the function."
   ]
  },
  {
   "cell_type": "code",
   "execution_count": 10,
   "metadata": {
    "collapsed": false
   },
   "outputs": [
    {
     "data": {
      "text/plain": [
       "Source:   query [?? x 19]\n",
       "Database: sqlite 3.11.1 [C:\\Users\\Ashwini\\AppData\\Local\\Temp\\Rtmp8yXDPh/nycflights13.sqlite]\n",
       "\n",
       "    year month   day dep_time sched_dep_time dep_delay arr_time sched_arr_time\n",
       "   <int> <int> <int>    <int>          <int>     <dbl>    <int>          <int>\n",
       "1   2013     1     1      517            515         2      830            819\n",
       "2   2013     1     1      533            529         4      850            830\n",
       "3   2013     1     1      542            540         2      923            850\n",
       "4   2013     1     1      544            545        -1     1004           1022\n",
       "5   2013     1     1      554            600        -6      812            837\n",
       "6   2013     1     1      554            558        -4      740            728\n",
       "7   2013     1     1      555            600        -5      913            854\n",
       "8   2013     1     1      557            600        -3      709            723\n",
       "9   2013     1     1      557            600        -3      838            846\n",
       "10  2013     1     1      558            600        -2      753            745\n",
       "# ... with more rows, and 11 more variables: arr_delay <dbl>, carrier <chr>,\n",
       "#   flight <int>, tailnum <chr>, origin <chr>, dest <chr>, air_time <dbl>,\n",
       "#   distance <dbl>, hour <dbl>, minute <dbl>, time_hour <dbl>"
      ]
     },
     "metadata": {},
     "output_type": "display_data"
    }
   ],
   "source": [
    "arrange(flights_sqlite, year, month, day)"
   ]
  },
  {
   "cell_type": "markdown",
   "metadata": {},
   "source": [
    "mutate : We can create new variables based on existing variables using mutate command. Like in the following command we are creating a new variable -> speed based on existing ones."
   ]
  },
  {
   "cell_type": "code",
   "execution_count": 11,
   "metadata": {
    "collapsed": false
   },
   "outputs": [
    {
     "data": {
      "text/plain": [
       "Source:   query [?? x 20]\n",
       "Database: sqlite 3.11.1 [C:\\Users\\Ashwini\\AppData\\Local\\Temp\\Rtmp8yXDPh/nycflights13.sqlite]\n",
       "\n",
       "    year month   day dep_time sched_dep_time dep_delay arr_time sched_arr_time\n",
       "   <int> <int> <int>    <int>          <int>     <dbl>    <int>          <int>\n",
       "1   2013     1     1      517            515         2      830            819\n",
       "2   2013     1     1      533            529         4      850            830\n",
       "3   2013     1     1      542            540         2      923            850\n",
       "4   2013     1     1      544            545        -1     1004           1022\n",
       "5   2013     1     1      554            600        -6      812            837\n",
       "6   2013     1     1      554            558        -4      740            728\n",
       "7   2013     1     1      555            600        -5      913            854\n",
       "8   2013     1     1      557            600        -3      709            723\n",
       "9   2013     1     1      557            600        -3      838            846\n",
       "10  2013     1     1      558            600        -2      753            745\n",
       "# ... with more rows, and 12 more variables: arr_delay <dbl>, carrier <chr>,\n",
       "#   flight <int>, tailnum <chr>, origin <chr>, dest <chr>, air_time <dbl>,\n",
       "#   distance <dbl>, hour <dbl>, minute <dbl>, time_hour <dbl>, speed <dbl>"
      ]
     },
     "metadata": {},
     "output_type": "display_data"
    }
   ],
   "source": [
    "mutate(flights_sqlite, speed = air_time / distance)"
   ]
  },
  {
   "cell_type": "markdown",
   "metadata": {},
   "source": [
    "summarise : We can perform various operations on particular column using summarise command. In the following command we have found the mean of departure time column."
   ]
  },
  {
   "cell_type": "code",
   "execution_count": 12,
   "metadata": {
    "collapsed": false
   },
   "outputs": [
    {
     "data": {
      "text/plain": [
       "Source:   query [?? x 1]\n",
       "Database: sqlite 3.11.1 [C:\\Users\\Ashwini\\AppData\\Local\\Temp\\Rtmp8yXDPh/nycflights13.sqlite]\n",
       "\n",
       "    delay\n",
       "    <dbl>\n",
       "1 1349.11"
      ]
     },
     "metadata": {},
     "output_type": "display_data"
    }
   ],
   "source": [
    "summarise(flights_sqlite, delay = mean(dep_time))"
   ]
  },
  {
   "cell_type": "markdown",
   "metadata": {},
   "source": [
    "When we execute series of commands, dplyr do not touch the table unless we ask for th specific variable.<br>\n",
    "In the following series of command, nothing has been executed unless we ask for a particular variable in next command."
   ]
  },
  {
   "cell_type": "code",
   "execution_count": 13,
   "metadata": {
    "collapsed": true
   },
   "outputs": [],
   "source": [
    "c1 <- filter(flights_sqlite, year == 2013, month == 1, day == 1)\n",
    "c2 <- select(c1, year, month, day, carrier, dep_delay, air_time, distance)\n",
    "c3 <- mutate(c2, speed = distance / air_time * 60)\n",
    "c4 <- arrange(c3, year, month, day, carrier)"
   ]
  },
  {
   "cell_type": "code",
   "execution_count": 14,
   "metadata": {
    "collapsed": false
   },
   "outputs": [
    {
     "data": {
      "text/plain": [
       "Source:   query [?? x 8]\n",
       "Database: sqlite 3.11.1 [C:\\Users\\Ashwini\\AppData\\Local\\Temp\\Rtmp8yXDPh/nycflights13.sqlite]\n",
       "\n",
       "    year month   day carrier dep_delay air_time distance    speed\n",
       "   <int> <int> <int>   <chr>     <dbl>    <dbl>    <dbl>    <dbl>\n",
       "1   2013     1     1      9E         0      189     1029 326.6667\n",
       "2   2013     1     1      9E        -9       57      228 240.0000\n",
       "3   2013     1     1      9E        -3       68      301 265.5882\n",
       "4   2013     1     1      9E        -6       57      209 220.0000\n",
       "5   2013     1     1      9E        -8       66      264 240.0000\n",
       "6   2013     1     1      9E         0       40      184 276.0000\n",
       "7   2013     1     1      9E         6      146      740 304.1096\n",
       "8   2013     1     1      9E         0      139      665 287.0504\n",
       "9   2013     1     1      9E        -8      150      765 306.0000\n",
       "10  2013     1     1      9E        -6       41      187 273.6585\n",
       "# ... with more rows"
      ]
     },
     "metadata": {},
     "output_type": "display_data"
    }
   ],
   "source": [
    "c4"
   ]
  },
  {
   "cell_type": "markdown",
   "metadata": {},
   "source": [
    "To see all the results of c4, we cab use collect command."
   ]
  },
  {
   "cell_type": "code",
   "execution_count": 15,
   "metadata": {
    "collapsed": false
   },
   "outputs": [
    {
     "data": {
      "text/html": [
       "<table>\n",
       "<thead><tr><th scope=col>year</th><th scope=col>month</th><th scope=col>day</th><th scope=col>carrier</th><th scope=col>dep_delay</th><th scope=col>air_time</th><th scope=col>distance</th><th scope=col>speed</th></tr></thead>\n",
       "<tbody>\n",
       "\t<tr><td>2013    </td><td>1       </td><td>1       </td><td>9E      </td><td>  0     </td><td>189     </td><td>1029    </td><td>326.6667</td></tr>\n",
       "\t<tr><td>2013    </td><td>1       </td><td>1       </td><td>9E      </td><td> -9     </td><td> 57     </td><td> 228    </td><td>240.0000</td></tr>\n",
       "\t<tr><td>2013    </td><td>1       </td><td>1       </td><td>9E      </td><td> -3     </td><td> 68     </td><td> 301    </td><td>265.5882</td></tr>\n",
       "\t<tr><td>2013    </td><td>1       </td><td>1       </td><td>9E      </td><td> -6     </td><td> 57     </td><td> 209    </td><td>220.0000</td></tr>\n",
       "\t<tr><td>2013    </td><td>1       </td><td>1       </td><td>9E      </td><td> -8     </td><td> 66     </td><td> 264    </td><td>240.0000</td></tr>\n",
       "\t<tr><td>2013    </td><td>1       </td><td>1       </td><td>9E      </td><td>  0     </td><td> 40     </td><td> 184    </td><td>276.0000</td></tr>\n",
       "\t<tr><td>2013    </td><td>1       </td><td>1       </td><td>9E      </td><td>  6     </td><td>146     </td><td> 740    </td><td>304.1096</td></tr>\n",
       "\t<tr><td>2013    </td><td>1       </td><td>1       </td><td>9E      </td><td>  0     </td><td>139     </td><td> 665    </td><td>287.0504</td></tr>\n",
       "\t<tr><td>2013    </td><td>1       </td><td>1       </td><td>9E      </td><td> -8     </td><td>150     </td><td> 765    </td><td>306.0000</td></tr>\n",
       "\t<tr><td>2013    </td><td>1       </td><td>1       </td><td>9E      </td><td> -6     </td><td> 41     </td><td> 187    </td><td>273.6585</td></tr>\n",
       "\t<tr><td>2013    </td><td>1       </td><td>1       </td><td>9E      </td><td>-10     </td><td> 35     </td><td>  94    </td><td>161.1429</td></tr>\n",
       "\t<tr><td>2013    </td><td>1       </td><td>1       </td><td>9E      </td><td> 52     </td><td>173     </td><td>1029    </td><td>356.8786</td></tr>\n",
       "\t<tr><td>2013    </td><td>1       </td><td>1       </td><td>9E      </td><td> 88     </td><td> 72     </td><td> 427    </td><td>355.8333</td></tr>\n",
       "\t<tr><td>2013    </td><td>1       </td><td>1       </td><td>9E      </td><td> -4     </td><td>107     </td><td> 509    </td><td>285.4206</td></tr>\n",
       "\t<tr><td>2013    </td><td>1       </td><td>1       </td><td>9E      </td><td> -3     </td><td>106     </td><td> 636    </td><td>360.0000</td></tr>\n",
       "\t<tr><td>2013    </td><td>1       </td><td>1       </td><td>9E      </td><td>  0     </td><td>207     </td><td>1182    </td><td>342.6087</td></tr>\n",
       "\t<tr><td>2013    </td><td>1       </td><td>1       </td><td>9E      </td><td>  0     </td><td>141     </td><td> 740    </td><td>314.8936</td></tr>\n",
       "\t<tr><td>2013    </td><td>1       </td><td>1       </td><td>9E      </td><td> -2     </td><td> 75     </td><td> 427    </td><td>341.6000</td></tr>\n",
       "\t<tr><td>2013    </td><td>1       </td><td>1       </td><td>9E      </td><td> 59     </td><td> NA     </td><td>1391    </td><td>      NA</td></tr>\n",
       "\t<tr><td>2013    </td><td>1       </td><td>1       </td><td>9E      </td><td>  5     </td><td>129     </td><td> 828    </td><td>385.1163</td></tr>\n",
       "\t<tr><td>2013    </td><td>1       </td><td>1       </td><td>9E      </td><td> -5     </td><td> 76     </td><td> 340    </td><td>268.4211</td></tr>\n",
       "\t<tr><td>2013    </td><td>1       </td><td>1       </td><td>9E      </td><td> -8     </td><td> 41     </td><td> 184    </td><td>269.2683</td></tr>\n",
       "\t<tr><td>2013    </td><td>1       </td><td>1       </td><td>9E      </td><td>  0     </td><td> 30     </td><td>  94    </td><td>188.0000</td></tr>\n",
       "\t<tr><td>2013    </td><td>1       </td><td>1       </td><td>9E      </td><td> 10     </td><td> 62     </td><td> 301    </td><td>291.2903</td></tr>\n",
       "\t<tr><td>2013    </td><td>1       </td><td>1       </td><td>9E      </td><td> 42     </td><td> 91     </td><td> 425    </td><td>280.2198</td></tr>\n",
       "\t<tr><td>2013    </td><td>1       </td><td>1       </td><td>9E      </td><td> 38     </td><td>118     </td><td> 589    </td><td>299.4915</td></tr>\n",
       "\t<tr><td>2013    </td><td>1       </td><td>1       </td><td>9E      </td><td> 11     </td><td> 43     </td><td> 213    </td><td>297.2093</td></tr>\n",
       "\t<tr><td>2013    </td><td>1       </td><td>1       </td><td>9E      </td><td>255     </td><td>115     </td><td> 589    </td><td>307.3043</td></tr>\n",
       "\t<tr><td>2013    </td><td>1       </td><td>1       </td><td>AA      </td><td>  2     </td><td>160     </td><td>1089    </td><td>408.3750</td></tr>\n",
       "\t<tr><td>2013    </td><td>1       </td><td>1       </td><td>AA      </td><td> -2     </td><td>138     </td><td> 733    </td><td>318.6957</td></tr>\n",
       "\t<tr><td>...</td><td>...</td><td>...</td><td>...</td><td>...</td><td>...</td><td>...</td><td>...</td></tr>\n",
       "\t<tr><td>2013    </td><td>1       </td><td>1       </td><td>VX      </td><td> 0      </td><td>362     </td><td>2475    </td><td>410.2210</td></tr>\n",
       "\t<tr><td>2013    </td><td>1       </td><td>1       </td><td>VX      </td><td> 0      </td><td>364     </td><td>2586    </td><td>426.2637</td></tr>\n",
       "\t<tr><td>2013    </td><td>1       </td><td>1       </td><td>VX      </td><td>-8      </td><td>349     </td><td>2475    </td><td>425.5014</td></tr>\n",
       "\t<tr><td>2013    </td><td>1       </td><td>1       </td><td>WN      </td><td>-1      </td><td> 40     </td><td> 185    </td><td>277.5000</td></tr>\n",
       "\t<tr><td>2013    </td><td>1       </td><td>1       </td><td>WN      </td><td>-1      </td><td>279     </td><td>1620    </td><td>348.3871</td></tr>\n",
       "\t<tr><td>2013    </td><td>1       </td><td>1       </td><td>WN      </td><td>-3      </td><td>146     </td><td> 711    </td><td>292.1918</td></tr>\n",
       "\t<tr><td>2013    </td><td>1       </td><td>1       </td><td>WN      </td><td> 4      </td><td>264     </td><td>1605    </td><td>364.7727</td></tr>\n",
       "\t<tr><td>2013    </td><td>1       </td><td>1       </td><td>WN      </td><td>-2      </td><td>145     </td><td> 725    </td><td>300.0000</td></tr>\n",
       "\t<tr><td>2013    </td><td>1       </td><td>1       </td><td>WN      </td><td>-3      </td><td>143     </td><td> 738    </td><td>309.6503</td></tr>\n",
       "\t<tr><td>2013    </td><td>1       </td><td>1       </td><td>WN      </td><td>-1      </td><td> 43     </td><td> 185    </td><td>258.1395</td></tr>\n",
       "\t<tr><td>2013    </td><td>1       </td><td>1       </td><td>WN      </td><td>-5      </td><td>176     </td><td> 888    </td><td>302.7273</td></tr>\n",
       "\t<tr><td>2013    </td><td>1       </td><td>1       </td><td>WN      </td><td>-2      </td><td> 38     </td><td> 169    </td><td>266.8421</td></tr>\n",
       "\t<tr><td>2013    </td><td>1       </td><td>1       </td><td>WN      </td><td> 0      </td><td>142     </td><td> 711    </td><td>300.4225</td></tr>\n",
       "\t<tr><td>2013    </td><td>1       </td><td>1       </td><td>WN      </td><td>-2      </td><td>137     </td><td> 738    </td><td>323.2117</td></tr>\n",
       "\t<tr><td>2013    </td><td>1       </td><td>1       </td><td>WN      </td><td> 0      </td><td>264     </td><td>1620    </td><td>368.1818</td></tr>\n",
       "\t<tr><td>2013    </td><td>1       </td><td>1       </td><td>WN      </td><td> 6      </td><td>239     </td><td>1411    </td><td>354.2259</td></tr>\n",
       "\t<tr><td>2013    </td><td>1       </td><td>1       </td><td>WN      </td><td>16      </td><td>334     </td><td>2133    </td><td>383.1737</td></tr>\n",
       "\t<tr><td>2013    </td><td>1       </td><td>1       </td><td>WN      </td><td> 5      </td><td>141     </td><td> 725    </td><td>308.5106</td></tr>\n",
       "\t<tr><td>2013    </td><td>1       </td><td>1       </td><td>WN      </td><td>-4      </td><td>141     </td><td> 711    </td><td>302.5532</td></tr>\n",
       "\t<tr><td>2013    </td><td>1       </td><td>1       </td><td>WN      </td><td>16      </td><td>133     </td><td> 738    </td><td>332.9323</td></tr>\n",
       "\t<tr><td>2013    </td><td>1       </td><td>1       </td><td>WN      </td><td> 3      </td><td>254     </td><td>1605    </td><td>379.1339</td></tr>\n",
       "\t<tr><td>2013    </td><td>1       </td><td>1       </td><td>WN      </td><td>-3      </td><td>181     </td><td> 888    </td><td>294.3646</td></tr>\n",
       "\t<tr><td>2013    </td><td>1       </td><td>1       </td><td>WN      </td><td> 7      </td><td>181     </td><td> 872    </td><td>289.0608</td></tr>\n",
       "\t<tr><td>2013    </td><td>1       </td><td>1       </td><td>WN      </td><td> 8      </td><td>245     </td><td>1411    </td><td>345.5510</td></tr>\n",
       "\t<tr><td>2013    </td><td>1       </td><td>1       </td><td>WN      </td><td>-1      </td><td>137     </td><td> 725    </td><td>317.5182</td></tr>\n",
       "\t<tr><td>2013    </td><td>1       </td><td>1       </td><td>WN      </td><td> 6      </td><td>148     </td><td> 711    </td><td>288.2432</td></tr>\n",
       "\t<tr><td>2013    </td><td>1       </td><td>1       </td><td>WN      </td><td>10      </td><td> 46     </td><td> 185    </td><td>241.3043</td></tr>\n",
       "\t<tr><td>2013    </td><td>1       </td><td>1       </td><td>WN      </td><td>-2      </td><td>131     </td><td> 738    </td><td>338.0153</td></tr>\n",
       "\t<tr><td>2013    </td><td>1       </td><td>1       </td><td>WN      </td><td>31      </td><td>134     </td><td> 711    </td><td>318.3582</td></tr>\n",
       "\t<tr><td>2013    </td><td>1       </td><td>1       </td><td>WN      </td><td>-2      </td><td>134     </td><td> 725    </td><td>324.6269</td></tr>\n",
       "</tbody>\n",
       "</table>\n"
      ],
      "text/latex": [
       "\\begin{tabular}{r|llllllll}\n",
       " year & month & day & carrier & dep\\_delay & air\\_time & distance & speed\\\\\n",
       "\\hline\n",
       "\t 2013     & 1        & 1        & 9E       &   0      & 189      & 1029     & 326.6667\\\\\n",
       "\t 2013     & 1        & 1        & 9E       &  -9      &  57      &  228     & 240.0000\\\\\n",
       "\t 2013     & 1        & 1        & 9E       &  -3      &  68      &  301     & 265.5882\\\\\n",
       "\t 2013     & 1        & 1        & 9E       &  -6      &  57      &  209     & 220.0000\\\\\n",
       "\t 2013     & 1        & 1        & 9E       &  -8      &  66      &  264     & 240.0000\\\\\n",
       "\t 2013     & 1        & 1        & 9E       &   0      &  40      &  184     & 276.0000\\\\\n",
       "\t 2013     & 1        & 1        & 9E       &   6      & 146      &  740     & 304.1096\\\\\n",
       "\t 2013     & 1        & 1        & 9E       &   0      & 139      &  665     & 287.0504\\\\\n",
       "\t 2013     & 1        & 1        & 9E       &  -8      & 150      &  765     & 306.0000\\\\\n",
       "\t 2013     & 1        & 1        & 9E       &  -6      &  41      &  187     & 273.6585\\\\\n",
       "\t 2013     & 1        & 1        & 9E       & -10      &  35      &   94     & 161.1429\\\\\n",
       "\t 2013     & 1        & 1        & 9E       &  52      & 173      & 1029     & 356.8786\\\\\n",
       "\t 2013     & 1        & 1        & 9E       &  88      &  72      &  427     & 355.8333\\\\\n",
       "\t 2013     & 1        & 1        & 9E       &  -4      & 107      &  509     & 285.4206\\\\\n",
       "\t 2013     & 1        & 1        & 9E       &  -3      & 106      &  636     & 360.0000\\\\\n",
       "\t 2013     & 1        & 1        & 9E       &   0      & 207      & 1182     & 342.6087\\\\\n",
       "\t 2013     & 1        & 1        & 9E       &   0      & 141      &  740     & 314.8936\\\\\n",
       "\t 2013     & 1        & 1        & 9E       &  -2      &  75      &  427     & 341.6000\\\\\n",
       "\t 2013     & 1        & 1        & 9E       &  59      &  NA      & 1391     &       NA\\\\\n",
       "\t 2013     & 1        & 1        & 9E       &   5      & 129      &  828     & 385.1163\\\\\n",
       "\t 2013     & 1        & 1        & 9E       &  -5      &  76      &  340     & 268.4211\\\\\n",
       "\t 2013     & 1        & 1        & 9E       &  -8      &  41      &  184     & 269.2683\\\\\n",
       "\t 2013     & 1        & 1        & 9E       &   0      &  30      &   94     & 188.0000\\\\\n",
       "\t 2013     & 1        & 1        & 9E       &  10      &  62      &  301     & 291.2903\\\\\n",
       "\t 2013     & 1        & 1        & 9E       &  42      &  91      &  425     & 280.2198\\\\\n",
       "\t 2013     & 1        & 1        & 9E       &  38      & 118      &  589     & 299.4915\\\\\n",
       "\t 2013     & 1        & 1        & 9E       &  11      &  43      &  213     & 297.2093\\\\\n",
       "\t 2013     & 1        & 1        & 9E       & 255      & 115      &  589     & 307.3043\\\\\n",
       "\t 2013     & 1        & 1        & AA       &   2      & 160      & 1089     & 408.3750\\\\\n",
       "\t 2013     & 1        & 1        & AA       &  -2      & 138      &  733     & 318.6957\\\\\n",
       "\t ... & ... & ... & ... & ... & ... & ... & ...\\\\\n",
       "\t 2013     & 1        & 1        & VX       &  0       & 362      & 2475     & 410.2210\\\\\n",
       "\t 2013     & 1        & 1        & VX       &  0       & 364      & 2586     & 426.2637\\\\\n",
       "\t 2013     & 1        & 1        & VX       & -8       & 349      & 2475     & 425.5014\\\\\n",
       "\t 2013     & 1        & 1        & WN       & -1       &  40      &  185     & 277.5000\\\\\n",
       "\t 2013     & 1        & 1        & WN       & -1       & 279      & 1620     & 348.3871\\\\\n",
       "\t 2013     & 1        & 1        & WN       & -3       & 146      &  711     & 292.1918\\\\\n",
       "\t 2013     & 1        & 1        & WN       &  4       & 264      & 1605     & 364.7727\\\\\n",
       "\t 2013     & 1        & 1        & WN       & -2       & 145      &  725     & 300.0000\\\\\n",
       "\t 2013     & 1        & 1        & WN       & -3       & 143      &  738     & 309.6503\\\\\n",
       "\t 2013     & 1        & 1        & WN       & -1       &  43      &  185     & 258.1395\\\\\n",
       "\t 2013     & 1        & 1        & WN       & -5       & 176      &  888     & 302.7273\\\\\n",
       "\t 2013     & 1        & 1        & WN       & -2       &  38      &  169     & 266.8421\\\\\n",
       "\t 2013     & 1        & 1        & WN       &  0       & 142      &  711     & 300.4225\\\\\n",
       "\t 2013     & 1        & 1        & WN       & -2       & 137      &  738     & 323.2117\\\\\n",
       "\t 2013     & 1        & 1        & WN       &  0       & 264      & 1620     & 368.1818\\\\\n",
       "\t 2013     & 1        & 1        & WN       &  6       & 239      & 1411     & 354.2259\\\\\n",
       "\t 2013     & 1        & 1        & WN       & 16       & 334      & 2133     & 383.1737\\\\\n",
       "\t 2013     & 1        & 1        & WN       &  5       & 141      &  725     & 308.5106\\\\\n",
       "\t 2013     & 1        & 1        & WN       & -4       & 141      &  711     & 302.5532\\\\\n",
       "\t 2013     & 1        & 1        & WN       & 16       & 133      &  738     & 332.9323\\\\\n",
       "\t 2013     & 1        & 1        & WN       &  3       & 254      & 1605     & 379.1339\\\\\n",
       "\t 2013     & 1        & 1        & WN       & -3       & 181      &  888     & 294.3646\\\\\n",
       "\t 2013     & 1        & 1        & WN       &  7       & 181      &  872     & 289.0608\\\\\n",
       "\t 2013     & 1        & 1        & WN       &  8       & 245      & 1411     & 345.5510\\\\\n",
       "\t 2013     & 1        & 1        & WN       & -1       & 137      &  725     & 317.5182\\\\\n",
       "\t 2013     & 1        & 1        & WN       &  6       & 148      &  711     & 288.2432\\\\\n",
       "\t 2013     & 1        & 1        & WN       & 10       &  46      &  185     & 241.3043\\\\\n",
       "\t 2013     & 1        & 1        & WN       & -2       & 131      &  738     & 338.0153\\\\\n",
       "\t 2013     & 1        & 1        & WN       & 31       & 134      &  711     & 318.3582\\\\\n",
       "\t 2013     & 1        & 1        & WN       & -2       & 134      &  725     & 324.6269\\\\\n",
       "\\end{tabular}\n"
      ],
      "text/markdown": [
       "\n",
       "year | month | day | carrier | dep_delay | air_time | distance | speed | \n",
       "|---|---|---|---|---|---|---|---|---|---|---|---|---|---|---|---|---|---|---|---|---|---|---|---|---|---|---|---|---|---|---|---|---|---|---|---|---|---|---|---|---|---|---|---|---|---|---|---|---|---|---|---|---|---|---|---|---|---|---|---|---|\n",
       "| 2013     | 1        | 1        | 9E       |   0      | 189      | 1029     | 326.6667 | \n",
       "| 2013     | 1        | 1        | 9E       |  -9      |  57      |  228     | 240.0000 | \n",
       "| 2013     | 1        | 1        | 9E       |  -3      |  68      |  301     | 265.5882 | \n",
       "| 2013     | 1        | 1        | 9E       |  -6      |  57      |  209     | 220.0000 | \n",
       "| 2013     | 1        | 1        | 9E       |  -8      |  66      |  264     | 240.0000 | \n",
       "| 2013     | 1        | 1        | 9E       |   0      |  40      |  184     | 276.0000 | \n",
       "| 2013     | 1        | 1        | 9E       |   6      | 146      |  740     | 304.1096 | \n",
       "| 2013     | 1        | 1        | 9E       |   0      | 139      |  665     | 287.0504 | \n",
       "| 2013     | 1        | 1        | 9E       |  -8      | 150      |  765     | 306.0000 | \n",
       "| 2013     | 1        | 1        | 9E       |  -6      |  41      |  187     | 273.6585 | \n",
       "| 2013     | 1        | 1        | 9E       | -10      |  35      |   94     | 161.1429 | \n",
       "| 2013     | 1        | 1        | 9E       |  52      | 173      | 1029     | 356.8786 | \n",
       "| 2013     | 1        | 1        | 9E       |  88      |  72      |  427     | 355.8333 | \n",
       "| 2013     | 1        | 1        | 9E       |  -4      | 107      |  509     | 285.4206 | \n",
       "| 2013     | 1        | 1        | 9E       |  -3      | 106      |  636     | 360.0000 | \n",
       "| 2013     | 1        | 1        | 9E       |   0      | 207      | 1182     | 342.6087 | \n",
       "| 2013     | 1        | 1        | 9E       |   0      | 141      |  740     | 314.8936 | \n",
       "| 2013     | 1        | 1        | 9E       |  -2      |  75      |  427     | 341.6000 | \n",
       "| 2013     | 1        | 1        | 9E       |  59      |  NA      | 1391     |       NA | \n",
       "| 2013     | 1        | 1        | 9E       |   5      | 129      |  828     | 385.1163 | \n",
       "| 2013     | 1        | 1        | 9E       |  -5      |  76      |  340     | 268.4211 | \n",
       "| 2013     | 1        | 1        | 9E       |  -8      |  41      |  184     | 269.2683 | \n",
       "| 2013     | 1        | 1        | 9E       |   0      |  30      |   94     | 188.0000 | \n",
       "| 2013     | 1        | 1        | 9E       |  10      |  62      |  301     | 291.2903 | \n",
       "| 2013     | 1        | 1        | 9E       |  42      |  91      |  425     | 280.2198 | \n",
       "| 2013     | 1        | 1        | 9E       |  38      | 118      |  589     | 299.4915 | \n",
       "| 2013     | 1        | 1        | 9E       |  11      |  43      |  213     | 297.2093 | \n",
       "| 2013     | 1        | 1        | 9E       | 255      | 115      |  589     | 307.3043 | \n",
       "| 2013     | 1        | 1        | AA       |   2      | 160      | 1089     | 408.3750 | \n",
       "| 2013     | 1        | 1        | AA       |  -2      | 138      |  733     | 318.6957 | \n",
       "| ... | ... | ... | ... | ... | ... | ... | ... | \n",
       "| 2013     | 1        | 1        | VX       |  0       | 362      | 2475     | 410.2210 | \n",
       "| 2013     | 1        | 1        | VX       |  0       | 364      | 2586     | 426.2637 | \n",
       "| 2013     | 1        | 1        | VX       | -8       | 349      | 2475     | 425.5014 | \n",
       "| 2013     | 1        | 1        | WN       | -1       |  40      |  185     | 277.5000 | \n",
       "| 2013     | 1        | 1        | WN       | -1       | 279      | 1620     | 348.3871 | \n",
       "| 2013     | 1        | 1        | WN       | -3       | 146      |  711     | 292.1918 | \n",
       "| 2013     | 1        | 1        | WN       |  4       | 264      | 1605     | 364.7727 | \n",
       "| 2013     | 1        | 1        | WN       | -2       | 145      |  725     | 300.0000 | \n",
       "| 2013     | 1        | 1        | WN       | -3       | 143      |  738     | 309.6503 | \n",
       "| 2013     | 1        | 1        | WN       | -1       |  43      |  185     | 258.1395 | \n",
       "| 2013     | 1        | 1        | WN       | -5       | 176      |  888     | 302.7273 | \n",
       "| 2013     | 1        | 1        | WN       | -2       |  38      |  169     | 266.8421 | \n",
       "| 2013     | 1        | 1        | WN       |  0       | 142      |  711     | 300.4225 | \n",
       "| 2013     | 1        | 1        | WN       | -2       | 137      |  738     | 323.2117 | \n",
       "| 2013     | 1        | 1        | WN       |  0       | 264      | 1620     | 368.1818 | \n",
       "| 2013     | 1        | 1        | WN       |  6       | 239      | 1411     | 354.2259 | \n",
       "| 2013     | 1        | 1        | WN       | 16       | 334      | 2133     | 383.1737 | \n",
       "| 2013     | 1        | 1        | WN       |  5       | 141      |  725     | 308.5106 | \n",
       "| 2013     | 1        | 1        | WN       | -4       | 141      |  711     | 302.5532 | \n",
       "| 2013     | 1        | 1        | WN       | 16       | 133      |  738     | 332.9323 | \n",
       "| 2013     | 1        | 1        | WN       |  3       | 254      | 1605     | 379.1339 | \n",
       "| 2013     | 1        | 1        | WN       | -3       | 181      |  888     | 294.3646 | \n",
       "| 2013     | 1        | 1        | WN       |  7       | 181      |  872     | 289.0608 | \n",
       "| 2013     | 1        | 1        | WN       |  8       | 245      | 1411     | 345.5510 | \n",
       "| 2013     | 1        | 1        | WN       | -1       | 137      |  725     | 317.5182 | \n",
       "| 2013     | 1        | 1        | WN       |  6       | 148      |  711     | 288.2432 | \n",
       "| 2013     | 1        | 1        | WN       | 10       |  46      |  185     | 241.3043 | \n",
       "| 2013     | 1        | 1        | WN       | -2       | 131      |  738     | 338.0153 | \n",
       "| 2013     | 1        | 1        | WN       | 31       | 134      |  711     | 318.3582 | \n",
       "| 2013     | 1        | 1        | WN       | -2       | 134      |  725     | 324.6269 | \n",
       "\n",
       "\n"
      ],
      "text/plain": [
       "    year month day carrier dep_delay air_time distance speed   \n",
       "1   2013 1     1   9E        0       189      1029     326.6667\n",
       "2   2013 1     1   9E       -9        57       228     240.0000\n",
       "3   2013 1     1   9E       -3        68       301     265.5882\n",
       "4   2013 1     1   9E       -6        57       209     220.0000\n",
       "5   2013 1     1   9E       -8        66       264     240.0000\n",
       "6   2013 1     1   9E        0        40       184     276.0000\n",
       "7   2013 1     1   9E        6       146       740     304.1096\n",
       "8   2013 1     1   9E        0       139       665     287.0504\n",
       "9   2013 1     1   9E       -8       150       765     306.0000\n",
       "10  2013 1     1   9E       -6        41       187     273.6585\n",
       "11  2013 1     1   9E      -10        35        94     161.1429\n",
       "12  2013 1     1   9E       52       173      1029     356.8786\n",
       "13  2013 1     1   9E       88        72       427     355.8333\n",
       "14  2013 1     1   9E       -4       107       509     285.4206\n",
       "15  2013 1     1   9E       -3       106       636     360.0000\n",
       "16  2013 1     1   9E        0       207      1182     342.6087\n",
       "17  2013 1     1   9E        0       141       740     314.8936\n",
       "18  2013 1     1   9E       -2        75       427     341.6000\n",
       "19  2013 1     1   9E       59        NA      1391           NA\n",
       "20  2013 1     1   9E        5       129       828     385.1163\n",
       "21  2013 1     1   9E       -5        76       340     268.4211\n",
       "22  2013 1     1   9E       -8        41       184     269.2683\n",
       "23  2013 1     1   9E        0        30        94     188.0000\n",
       "24  2013 1     1   9E       10        62       301     291.2903\n",
       "25  2013 1     1   9E       42        91       425     280.2198\n",
       "26  2013 1     1   9E       38       118       589     299.4915\n",
       "27  2013 1     1   9E       11        43       213     297.2093\n",
       "28  2013 1     1   9E      255       115       589     307.3043\n",
       "29  2013 1     1   AA        2       160      1089     408.3750\n",
       "30  2013 1     1   AA       -2       138       733     318.6957\n",
       "... ...  ...   ... ...     ...       ...      ...      ...     \n",
       "813 2013 1     1   VX       0        362      2475     410.2210\n",
       "814 2013 1     1   VX       0        364      2586     426.2637\n",
       "815 2013 1     1   VX      -8        349      2475     425.5014\n",
       "816 2013 1     1   WN      -1         40       185     277.5000\n",
       "817 2013 1     1   WN      -1        279      1620     348.3871\n",
       "818 2013 1     1   WN      -3        146       711     292.1918\n",
       "819 2013 1     1   WN       4        264      1605     364.7727\n",
       "820 2013 1     1   WN      -2        145       725     300.0000\n",
       "821 2013 1     1   WN      -3        143       738     309.6503\n",
       "822 2013 1     1   WN      -1         43       185     258.1395\n",
       "823 2013 1     1   WN      -5        176       888     302.7273\n",
       "824 2013 1     1   WN      -2         38       169     266.8421\n",
       "825 2013 1     1   WN       0        142       711     300.4225\n",
       "826 2013 1     1   WN      -2        137       738     323.2117\n",
       "827 2013 1     1   WN       0        264      1620     368.1818\n",
       "828 2013 1     1   WN       6        239      1411     354.2259\n",
       "829 2013 1     1   WN      16        334      2133     383.1737\n",
       "830 2013 1     1   WN       5        141       725     308.5106\n",
       "831 2013 1     1   WN      -4        141       711     302.5532\n",
       "832 2013 1     1   WN      16        133       738     332.9323\n",
       "833 2013 1     1   WN       3        254      1605     379.1339\n",
       "834 2013 1     1   WN      -3        181       888     294.3646\n",
       "835 2013 1     1   WN       7        181       872     289.0608\n",
       "836 2013 1     1   WN       8        245      1411     345.5510\n",
       "837 2013 1     1   WN      -1        137       725     317.5182\n",
       "838 2013 1     1   WN       6        148       711     288.2432\n",
       "839 2013 1     1   WN      10         46       185     241.3043\n",
       "840 2013 1     1   WN      -2        131       738     338.0153\n",
       "841 2013 1     1   WN      31        134       711     318.3582\n",
       "842 2013 1     1   WN      -2        134       725     324.6269"
      ]
     },
     "metadata": {},
     "output_type": "display_data"
    }
   ],
   "source": [
    "collect(c4)"
   ]
  },
  {
   "cell_type": "markdown",
   "metadata": {},
   "source": [
    "We can see the query dplyr has generated by looking at the query component of the object."
   ]
  },
  {
   "cell_type": "code",
   "execution_count": 16,
   "metadata": {
    "collapsed": false,
    "scrolled": true
   },
   "outputs": [
    {
     "data": {
      "text/plain": [
       "NULL"
      ]
     },
     "metadata": {},
     "output_type": "display_data"
    }
   ],
   "source": [
    "c4$query"
   ]
  },
  {
   "cell_type": "markdown",
   "metadata": {},
   "source": [
    "explain command tells us how the query is being executed."
   ]
  },
  {
   "cell_type": "code",
   "execution_count": 17,
   "metadata": {
    "collapsed": false,
    "scrolled": true
   },
   "outputs": [
    {
     "name": "stderr",
     "output_type": "stream",
     "text": [
      "<SQL>\n",
      "SELECT *\n",
      "FROM (SELECT `year`, `month`, `day`, `carrier`, `dep_delay`, `air_time`, `distance`, `distance` / `air_time` * 60.0 AS `speed`\n",
      "FROM (SELECT `year` AS `year`, `month` AS `month`, `day` AS `day`, `carrier` AS `carrier`, `dep_delay` AS `dep_delay`, `air_time` AS `air_time`, `distance` AS `distance`\n",
      "FROM (SELECT *\n",
      "FROM `flights`\n",
      "WHERE ((`year` = 2013.0) AND (`month` = 1.0) AND (`day` = 1.0)))))\n",
      "ORDER BY `year`, `month`, `day`, `carrier`\n",
      "\n",
      "\n",
      "<PLAN>\n",
      "   addr       opcode p1    p2 p3           p4 p5 comment\n",
      "1     0         Init  0    56  0              00      NA\n",
      "2     1   SorterOpen  4     9  0       k(1,B) 00      NA\n",
      "3     2     OpenRead  3   131  0           19 00      NA\n",
      "4     3     OpenRead  5 22656  0     k(4,,,,) 02      NA\n",
      "5     4         Real  0     1  0         2013 00      NA\n",
      "6     5         Real  0     2  0            1 00      NA\n",
      "7     6         Real  0     3  0            1 00      NA\n",
      "8     7     Affinity  1     3  0          DDD 00      NA\n",
      "9     8       SeekGE  5    36  1            3 00      NA\n",
      "10    9        IdxGT  5    36  1            3 00      NA\n",
      "11   10         Seek  5     0  3              00      NA\n",
      "12   11       Column  5     0  8              00      NA\n",
      "13   12       Column  5     1  9              00      NA\n",
      "14   13       Column  5     2 10              00      NA\n",
      "15   14       Column  3     9 11              00      NA\n",
      "16   15       Column  3     5 12              00      NA\n",
      "17   16 RealAffinity 12     0  0              00      NA\n",
      "18   17       Column  3    14 13              00      NA\n",
      "19   18 RealAffinity 13     0  0              00      NA\n",
      "20   19       Column  3    15 14              00      NA\n",
      "21   20 RealAffinity 14     0  0              00      NA\n",
      "22   21       Divide 13    14 16              00      NA\n",
      "23   22     Multiply 18    16 15              00      NA\n",
      "24   23         Copy  8     4  0              00      NA\n",
      "25   24         Copy  9     5  0              00      NA\n",
      "26   25         Copy 10     6  0              00      NA\n",
      "27   26         Copy 11     7  0              00      NA\n",
      "28   27   MakeRecord  7     9 19              00      NA\n",
      "29   28 SequenceTest  4    33  0              00      NA\n",
      "30   29      Compare 20     4  3 k(4,B,B,B,B) 00      NA\n",
      "31   30         Jump 31    34 31              00      NA\n",
      "32   31        Gosub 23    40  0              00      NA\n",
      "33   32  ResetSorter  4     0  0              00      NA\n",
      "34   33         Move  4    20  3              00      NA\n",
      "35   34 SorterInsert  4    19  0              00      NA\n",
      "36   35         Next  5     9  1              00      NA\n",
      "37   36        Close  3     0  0              00      NA\n",
      "38   37        Close  5     0  0              00      NA\n",
      "39   38        Gosub 23    40  0              00      NA\n",
      "40   39         Goto  0    55  0              00      NA\n",
      "41   40         Once  0    42  0              00      NA\n",
      "42   41   OpenPseudo  6    24 10              00      NA\n",
      "43   42   SorterSort  4    55  0              00      NA\n",
      "44   43   SorterData  4    24  6              00      NA\n",
      "45   44       Column  6     1  8              00      NA\n",
      "46   45       Column  6     2  9              00      NA\n",
      "47   46       Column  6     3 10              00      NA\n",
      "48   47       Column  6     4 11              00      NA\n",
      "49   48       Column  6     5 12              00      NA\n",
      "50   49       Column  6     6 13              00      NA\n",
      "51   50       Column  6     7 14              00      NA\n",
      "52   51       Column  6     8 15              00      NA\n",
      "53   52    ResultRow  8     8  0              00      NA\n",
      "54   53   SorterNext  4    43  0              00      NA\n",
      "55   54       Return 23     0  0              00      NA\n",
      "56   55         Halt  0     0  0              00      NA\n",
      "57   56  Transaction  0     0 16            0 01      NA\n",
      "58   57    TableLock  0   131  0      flights 00      NA\n",
      "59   58         Real  0    18  0           60 00      NA\n",
      "60   59         Goto  0     1  0              00      NA\n"
     ]
    }
   ],
   "source": [
    "explain(c4)"
   ]
  },
  {
   "cell_type": "markdown",
   "metadata": {},
   "source": [
    "In SQLite variable names are escaped by double quotes."
   ]
  },
  {
   "cell_type": "code",
   "execution_count": 18,
   "metadata": {
    "collapsed": false
   },
   "outputs": [
    {
     "data": {
      "text/html": [
       "'\"x\"'"
      ],
      "text/latex": [
       "'\"x\"'"
      ],
      "text/markdown": [
       "'\"x\"'"
      ],
      "text/plain": [
       "<SQL> \"x\""
      ]
     },
     "metadata": {},
     "output_type": "display_data"
    }
   ],
   "source": [
    "translate_sql(x)"
   ]
  },
  {
   "cell_type": "markdown",
   "metadata": {},
   "source": [
    "And strings are escaped by single quotes"
   ]
  },
  {
   "cell_type": "code",
   "execution_count": 19,
   "metadata": {
    "collapsed": false
   },
   "outputs": [
    {
     "data": {
      "text/html": [
       "'\\'x''"
      ],
      "text/latex": [
       "'\\textbackslash{}'x''"
      ],
      "text/markdown": [
       "'\\'x''"
      ],
      "text/plain": [
       "<SQL> 'x'"
      ]
     },
     "metadata": {},
     "output_type": "display_data"
    }
   ],
   "source": [
    "translate_sql(\"x\")"
   ]
  },
  {
   "cell_type": "markdown",
   "metadata": {},
   "source": [
    "Many functions have slightly different names.<br>"
   ]
  },
  {
   "cell_type": "code",
   "execution_count": 20,
   "metadata": {
    "collapsed": false
   },
   "outputs": [
    {
     "data": {
      "text/html": [
       "'\"x\" = 1.0 AND (\"y\" &lt; 2.0 OR \"z\" &gt; 3.0)'"
      ],
      "text/latex": [
       "'\"x\" = 1.0 AND (\"y\" < 2.0 OR \"z\" > 3.0)'"
      ],
      "text/markdown": [
       "'\"x\" = 1.0 AND (\"y\" &lt; 2.0 OR \"z\" &gt; 3.0)'"
      ],
      "text/plain": [
       "<SQL> \"x\" = 1.0 AND (\"y\" < 2.0 OR \"z\" > 3.0)"
      ]
     },
     "metadata": {},
     "output_type": "display_data"
    }
   ],
   "source": [
    "translate_sql(x == 1 && (y < 2 || z > 3))"
   ]
  },
  {
   "cell_type": "code",
   "execution_count": 21,
   "metadata": {
    "collapsed": false
   },
   "outputs": [
    {
     "data": {
      "text/html": [
       "'POWER(\"x\", 2.0) &lt; 10.0'"
      ],
      "text/latex": [
       "'POWER(\"x\", 2.0) < 10.0'"
      ],
      "text/markdown": [
       "'POWER(\"x\", 2.0) &lt; 10.0'"
      ],
      "text/plain": [
       "<SQL> POWER(\"x\", 2.0) < 10.0"
      ]
     },
     "metadata": {},
     "output_type": "display_data"
    }
   ],
   "source": [
    "translate_sql(x ^ 2 < 10)"
   ]
  },
  {
   "cell_type": "code",
   "execution_count": 22,
   "metadata": {
    "collapsed": false
   },
   "outputs": [
    {
     "data": {
      "text/html": [
       "'\"x\" % 2.0 = 10.0'"
      ],
      "text/latex": [
       "'\"x\" \\% 2.0 = 10.0'"
      ],
      "text/markdown": [
       "'\"x\" % 2.0 = 10.0'"
      ],
      "text/plain": [
       "<SQL> \"x\" % 2.0 = 10.0"
      ]
     },
     "metadata": {},
     "output_type": "display_data"
    }
   ],
   "source": [
    "translate_sql(x %% 2 == 10)"
   ]
  },
  {
   "cell_type": "markdown",
   "metadata": {},
   "source": [
    "R and SQL have different defaults for integers and reals.\n",
    "In R, 1 is a real, and 1L is an integer\n",
    "In SQL, 1 is an integer, and 1.0 is a real"
   ]
  },
  {
   "cell_type": "code",
   "execution_count": 23,
   "metadata": {
    "collapsed": false
   },
   "outputs": [
    {
     "data": {
      "text/html": [
       "'1.0'"
      ],
      "text/latex": [
       "'1.0'"
      ],
      "text/markdown": [
       "'1.0'"
      ],
      "text/plain": [
       "<SQL> 1.0"
      ]
     },
     "metadata": {},
     "output_type": "display_data"
    }
   ],
   "source": [
    "translate_sql(1)"
   ]
  },
  {
   "cell_type": "code",
   "execution_count": 24,
   "metadata": {
    "collapsed": false
   },
   "outputs": [
    {
     "data": {
      "text/html": [
       "'1'"
      ],
      "text/latex": [
       "'1'"
      ],
      "text/markdown": [
       "'1'"
      ],
      "text/plain": [
       "<SQL> 1"
      ]
     },
     "metadata": {},
     "output_type": "display_data"
    }
   ],
   "source": [
    "translate_sql(1L)"
   ]
  },
  {
   "cell_type": "code",
   "execution_count": 25,
   "metadata": {
    "collapsed": false
   },
   "outputs": [
    {
     "data": {
      "text/html": [
       "'GLOB(\"x\", \"y\")'"
      ],
      "text/latex": [
       "'GLOB(\"x\", \"y\")'"
      ],
      "text/markdown": [
       "'GLOB(\"x\", \"y\")'"
      ],
      "text/plain": [
       "<SQL> GLOB(\"x\", \"y\")"
      ]
     },
     "metadata": {},
     "output_type": "display_data"
    }
   ],
   "source": [
    "translate_sql(glob(x, y))"
   ]
  },
  {
   "cell_type": "code",
   "execution_count": 26,
   "metadata": {
    "collapsed": false
   },
   "outputs": [
    {
     "data": {
      "text/html": [
       "'\"x\" LIKE \\'ab*''"
      ],
      "text/latex": [
       "'\"x\" LIKE \\textbackslash{}'ab*''"
      ],
      "text/markdown": [
       "'\"x\" LIKE \\'ab*''"
      ],
      "text/plain": [
       "<SQL> \"x\" LIKE 'ab*'"
      ]
     },
     "metadata": {},
     "output_type": "display_data"
    }
   ],
   "source": [
    "translate_sql(x %like% \"ab*\")"
   ]
  },
  {
   "cell_type": "markdown",
   "metadata": {},
   "source": [
    "group_by help us to make groups of data based on the column we want."
   ]
  },
  {
   "cell_type": "code",
   "execution_count": 27,
   "metadata": {
    "collapsed": true
   },
   "outputs": [],
   "source": [
    "by_tailnum <- group_by(flights_sqlite, tailnum)"
   ]
  },
  {
   "cell_type": "markdown",
   "metadata": {},
   "source": [
    "summarize functions help us to make computations on columns such as count.mean,sum."
   ]
  },
  {
   "cell_type": "code",
   "execution_count": 28,
   "metadata": {
    "collapsed": true
   },
   "outputs": [],
   "source": [
    "delay <- summarise(by_tailnum,\n",
    "  count = n(),\n",
    "  dist = mean(distance),\n",
    "  delay = mean(arr_delay)\n",
    ")"
   ]
  },
  {
   "cell_type": "markdown",
   "metadata": {},
   "source": [
    "To get the data which we want, we can filter out the data based on the condition."
   ]
  },
  {
   "cell_type": "code",
   "execution_count": 29,
   "metadata": {
    "collapsed": true
   },
   "outputs": [],
   "source": [
    "delay <- filter(delay, count > 20, dist < 2000)\n",
    "delay_local <- collect(delay)"
   ]
  },
  {
   "cell_type": "code",
   "execution_count": 30,
   "metadata": {
    "collapsed": false
   },
   "outputs": [
    {
     "data": {
      "text/html": [
       "<table>\n",
       "<thead><tr><th scope=col>tailnum</th><th scope=col>count</th><th scope=col>dist</th><th scope=col>delay</th></tr></thead>\n",
       "<tbody>\n",
       "\t<tr><td>NA        </td><td>2512      </td><td>710.2576  </td><td>        NA</td></tr>\n",
       "\t<tr><td>N0EGMQ    </td><td> 371      </td><td>676.1887  </td><td> 9.9829545</td></tr>\n",
       "\t<tr><td>N10156    </td><td> 153      </td><td>757.9477  </td><td>12.7172414</td></tr>\n",
       "\t<tr><td>N102UW    </td><td>  48      </td><td>535.8750  </td><td> 2.9375000</td></tr>\n",
       "\t<tr><td>N103US    </td><td>  46      </td><td>535.1957  </td><td>-6.9347826</td></tr>\n",
       "\t<tr><td>N104UW    </td><td>  47      </td><td>535.2553  </td><td> 1.8043478</td></tr>\n",
       "\t<tr><td>N10575    </td><td> 289      </td><td>519.7024  </td><td>20.6914498</td></tr>\n",
       "\t<tr><td>N105UW    </td><td>  45      </td><td>524.8444  </td><td>-0.2666667</td></tr>\n",
       "\t<tr><td>N107US    </td><td>  41      </td><td>528.7073  </td><td>-5.7317073</td></tr>\n",
       "\t<tr><td>N108UW    </td><td>  60      </td><td>534.5000  </td><td>-1.2500000</td></tr>\n",
       "\t<tr><td>N109UW    </td><td>  48      </td><td>535.8750  </td><td>-2.5208333</td></tr>\n",
       "\t<tr><td>N110UW    </td><td>  40      </td><td>535.3750  </td><td> 2.8000000</td></tr>\n",
       "\t<tr><td>N11106    </td><td> 129      </td><td>771.4109  </td><td>14.8809524</td></tr>\n",
       "\t<tr><td>N11107    </td><td> 148      </td><td>705.8649  </td><td>15.0143885</td></tr>\n",
       "\t<tr><td>N11109    </td><td> 148      </td><td>714.0000  </td><td>14.8510638</td></tr>\n",
       "\t<tr><td>N11113    </td><td> 138      </td><td>719.7754  </td><td>15.7619048</td></tr>\n",
       "\t<tr><td>N11119    </td><td> 148      </td><td>723.3851  </td><td>30.3065693</td></tr>\n",
       "\t<tr><td>N11121    </td><td> 154      </td><td>719.3701  </td><td>10.3061224</td></tr>\n",
       "\t<tr><td>N11127    </td><td> 124      </td><td>748.1129  </td><td>13.6050420</td></tr>\n",
       "\t<tr><td>N11137    </td><td> 112      </td><td>726.5982  </td><td>20.5514019</td></tr>\n",
       "\t<tr><td>N11140    </td><td> 157      </td><td>747.2102  </td><td>18.3120567</td></tr>\n",
       "\t<tr><td>N11150    </td><td> 136      </td><td>775.5588  </td><td> 8.8914729</td></tr>\n",
       "\t<tr><td>N11155    </td><td>  98      </td><td>779.1224  </td><td>12.9895833</td></tr>\n",
       "\t<tr><td>N11164    </td><td> 143      </td><td>677.4476  </td><td>21.6496350</td></tr>\n",
       "\t<tr><td>N11165    </td><td> 159      </td><td>752.8805  </td><td> 8.3466667</td></tr>\n",
       "\t<tr><td>N11176    </td><td> 142      </td><td>729.0704  </td><td>20.4045802</td></tr>\n",
       "\t<tr><td>N11181    </td><td> 125      </td><td>705.4160  </td><td> 9.0750000</td></tr>\n",
       "\t<tr><td>N11184    </td><td> 136      </td><td>744.0515  </td><td> 6.9843750</td></tr>\n",
       "\t<tr><td>N11187    </td><td> 133      </td><td>733.8872  </td><td>11.1904762</td></tr>\n",
       "\t<tr><td>N11189    </td><td> 140      </td><td>684.2714  </td><td> 6.7372263</td></tr>\n",
       "\t<tr><td>...</td><td>...</td><td>...</td><td>...</td></tr>\n",
       "\t<tr><td>N984DL    </td><td> 58       </td><td>904.7414  </td><td> 4.2280702</td></tr>\n",
       "\t<tr><td>N985AT    </td><td> 29       </td><td>647.8966  </td><td>15.0384615</td></tr>\n",
       "\t<tr><td>N985DL    </td><td> 63       </td><td>905.1111  </td><td> 0.2539683</td></tr>\n",
       "\t<tr><td>N986AT    </td><td> 24       </td><td>654.5417  </td><td> 0.1250000</td></tr>\n",
       "\t<tr><td>N986DL    </td><td> 73       </td><td>943.7808  </td><td> 5.5833333</td></tr>\n",
       "\t<tr><td>N987AT    </td><td> 28       </td><td>618.6071  </td><td>37.3846154</td></tr>\n",
       "\t<tr><td>N987DL    </td><td> 55       </td><td>922.8727  </td><td>-3.2909091</td></tr>\n",
       "\t<tr><td>N988AT    </td><td> 37       </td><td>642.9730  </td><td>44.3428571</td></tr>\n",
       "\t<tr><td>N988DL    </td><td> 55       </td><td>864.2000  </td><td> 9.4716981</td></tr>\n",
       "\t<tr><td>N989AT    </td><td> 66       </td><td>694.8182  </td><td>28.1935484</td></tr>\n",
       "\t<tr><td>N989DL    </td><td> 89       </td><td>908.6854  </td><td>11.0340909</td></tr>\n",
       "\t<tr><td>N990AT    </td><td> 71       </td><td>731.6056  </td><td>16.3857143</td></tr>\n",
       "\t<tr><td>N990DL    </td><td> 56       </td><td>863.0357  </td><td>12.4285714</td></tr>\n",
       "\t<tr><td>N991AT    </td><td> 25       </td><td>659.8000  </td><td>15.6800000</td></tr>\n",
       "\t<tr><td>N991DL    </td><td> 92       </td><td>902.9239  </td><td> 7.3369565</td></tr>\n",
       "\t<tr><td>N992AT    </td><td> 38       </td><td>637.1316  </td><td>17.7837838</td></tr>\n",
       "\t<tr><td>N992DL    </td><td> 57       </td><td>902.7544  </td><td>-6.6491228</td></tr>\n",
       "\t<tr><td>N993AT    </td><td> 47       </td><td>606.6809  </td><td>10.4042553</td></tr>\n",
       "\t<tr><td>N993DL    </td><td> 55       </td><td>884.9091  </td><td>16.9811321</td></tr>\n",
       "\t<tr><td>N994AT    </td><td> 31       </td><td>698.4839  </td><td>31.4838710</td></tr>\n",
       "\t<tr><td>N994DL    </td><td> 61       </td><td>886.7869  </td><td> 5.0327869</td></tr>\n",
       "\t<tr><td>N995DL    </td><td> 57       </td><td>883.5789  </td><td> 1.9298246</td></tr>\n",
       "\t<tr><td>N996AT    </td><td> 29       </td><td>673.8966  </td><td> 6.5384615</td></tr>\n",
       "\t<tr><td>N996DL    </td><td>102       </td><td>897.3039  </td><td> 0.5247525</td></tr>\n",
       "\t<tr><td>N997AT    </td><td> 44       </td><td>679.0455  </td><td>16.3023256</td></tr>\n",
       "\t<tr><td>N997DL    </td><td> 63       </td><td>867.7619  </td><td> 4.9032258</td></tr>\n",
       "\t<tr><td>N998AT    </td><td> 26       </td><td>593.5385  </td><td>29.9600000</td></tr>\n",
       "\t<tr><td>N998DL    </td><td> 77       </td><td>857.8182  </td><td>16.3947368</td></tr>\n",
       "\t<tr><td>N999DN    </td><td> 61       </td><td>895.4590  </td><td>14.3114754</td></tr>\n",
       "\t<tr><td>N9EAMQ    </td><td>248       </td><td>674.6653  </td><td> 9.2352941</td></tr>\n",
       "</tbody>\n",
       "</table>\n"
      ],
      "text/latex": [
       "\\begin{tabular}{r|llll}\n",
       " tailnum & count & dist & delay\\\\\n",
       "\\hline\n",
       "\t NA         & 2512       & 710.2576   &         NA\\\\\n",
       "\t N0EGMQ     &  371       & 676.1887   &  9.9829545\\\\\n",
       "\t N10156     &  153       & 757.9477   & 12.7172414\\\\\n",
       "\t N102UW     &   48       & 535.8750   &  2.9375000\\\\\n",
       "\t N103US     &   46       & 535.1957   & -6.9347826\\\\\n",
       "\t N104UW     &   47       & 535.2553   &  1.8043478\\\\\n",
       "\t N10575     &  289       & 519.7024   & 20.6914498\\\\\n",
       "\t N105UW     &   45       & 524.8444   & -0.2666667\\\\\n",
       "\t N107US     &   41       & 528.7073   & -5.7317073\\\\\n",
       "\t N108UW     &   60       & 534.5000   & -1.2500000\\\\\n",
       "\t N109UW     &   48       & 535.8750   & -2.5208333\\\\\n",
       "\t N110UW     &   40       & 535.3750   &  2.8000000\\\\\n",
       "\t N11106     &  129       & 771.4109   & 14.8809524\\\\\n",
       "\t N11107     &  148       & 705.8649   & 15.0143885\\\\\n",
       "\t N11109     &  148       & 714.0000   & 14.8510638\\\\\n",
       "\t N11113     &  138       & 719.7754   & 15.7619048\\\\\n",
       "\t N11119     &  148       & 723.3851   & 30.3065693\\\\\n",
       "\t N11121     &  154       & 719.3701   & 10.3061224\\\\\n",
       "\t N11127     &  124       & 748.1129   & 13.6050420\\\\\n",
       "\t N11137     &  112       & 726.5982   & 20.5514019\\\\\n",
       "\t N11140     &  157       & 747.2102   & 18.3120567\\\\\n",
       "\t N11150     &  136       & 775.5588   &  8.8914729\\\\\n",
       "\t N11155     &   98       & 779.1224   & 12.9895833\\\\\n",
       "\t N11164     &  143       & 677.4476   & 21.6496350\\\\\n",
       "\t N11165     &  159       & 752.8805   &  8.3466667\\\\\n",
       "\t N11176     &  142       & 729.0704   & 20.4045802\\\\\n",
       "\t N11181     &  125       & 705.4160   &  9.0750000\\\\\n",
       "\t N11184     &  136       & 744.0515   &  6.9843750\\\\\n",
       "\t N11187     &  133       & 733.8872   & 11.1904762\\\\\n",
       "\t N11189     &  140       & 684.2714   &  6.7372263\\\\\n",
       "\t ... & ... & ... & ...\\\\\n",
       "\t N984DL     &  58        & 904.7414   &  4.2280702\\\\\n",
       "\t N985AT     &  29        & 647.8966   & 15.0384615\\\\\n",
       "\t N985DL     &  63        & 905.1111   &  0.2539683\\\\\n",
       "\t N986AT     &  24        & 654.5417   &  0.1250000\\\\\n",
       "\t N986DL     &  73        & 943.7808   &  5.5833333\\\\\n",
       "\t N987AT     &  28        & 618.6071   & 37.3846154\\\\\n",
       "\t N987DL     &  55        & 922.8727   & -3.2909091\\\\\n",
       "\t N988AT     &  37        & 642.9730   & 44.3428571\\\\\n",
       "\t N988DL     &  55        & 864.2000   &  9.4716981\\\\\n",
       "\t N989AT     &  66        & 694.8182   & 28.1935484\\\\\n",
       "\t N989DL     &  89        & 908.6854   & 11.0340909\\\\\n",
       "\t N990AT     &  71        & 731.6056   & 16.3857143\\\\\n",
       "\t N990DL     &  56        & 863.0357   & 12.4285714\\\\\n",
       "\t N991AT     &  25        & 659.8000   & 15.6800000\\\\\n",
       "\t N991DL     &  92        & 902.9239   &  7.3369565\\\\\n",
       "\t N992AT     &  38        & 637.1316   & 17.7837838\\\\\n",
       "\t N992DL     &  57        & 902.7544   & -6.6491228\\\\\n",
       "\t N993AT     &  47        & 606.6809   & 10.4042553\\\\\n",
       "\t N993DL     &  55        & 884.9091   & 16.9811321\\\\\n",
       "\t N994AT     &  31        & 698.4839   & 31.4838710\\\\\n",
       "\t N994DL     &  61        & 886.7869   &  5.0327869\\\\\n",
       "\t N995DL     &  57        & 883.5789   &  1.9298246\\\\\n",
       "\t N996AT     &  29        & 673.8966   &  6.5384615\\\\\n",
       "\t N996DL     & 102        & 897.3039   &  0.5247525\\\\\n",
       "\t N997AT     &  44        & 679.0455   & 16.3023256\\\\\n",
       "\t N997DL     &  63        & 867.7619   &  4.9032258\\\\\n",
       "\t N998AT     &  26        & 593.5385   & 29.9600000\\\\\n",
       "\t N998DL     &  77        & 857.8182   & 16.3947368\\\\\n",
       "\t N999DN     &  61        & 895.4590   & 14.3114754\\\\\n",
       "\t N9EAMQ     & 248        & 674.6653   &  9.2352941\\\\\n",
       "\\end{tabular}\n"
      ],
      "text/markdown": [
       "\n",
       "tailnum | count | dist | delay | \n",
       "|---|---|---|---|---|---|---|---|---|---|---|---|---|---|---|---|---|---|---|---|---|---|---|---|---|---|---|---|---|---|---|---|---|---|---|---|---|---|---|---|---|---|---|---|---|---|---|---|---|---|---|---|---|---|---|---|---|---|---|---|---|\n",
       "| NA         | 2512       | 710.2576   |         NA | \n",
       "| N0EGMQ     |  371       | 676.1887   |  9.9829545 | \n",
       "| N10156     |  153       | 757.9477   | 12.7172414 | \n",
       "| N102UW     |   48       | 535.8750   |  2.9375000 | \n",
       "| N103US     |   46       | 535.1957   | -6.9347826 | \n",
       "| N104UW     |   47       | 535.2553   |  1.8043478 | \n",
       "| N10575     |  289       | 519.7024   | 20.6914498 | \n",
       "| N105UW     |   45       | 524.8444   | -0.2666667 | \n",
       "| N107US     |   41       | 528.7073   | -5.7317073 | \n",
       "| N108UW     |   60       | 534.5000   | -1.2500000 | \n",
       "| N109UW     |   48       | 535.8750   | -2.5208333 | \n",
       "| N110UW     |   40       | 535.3750   |  2.8000000 | \n",
       "| N11106     |  129       | 771.4109   | 14.8809524 | \n",
       "| N11107     |  148       | 705.8649   | 15.0143885 | \n",
       "| N11109     |  148       | 714.0000   | 14.8510638 | \n",
       "| N11113     |  138       | 719.7754   | 15.7619048 | \n",
       "| N11119     |  148       | 723.3851   | 30.3065693 | \n",
       "| N11121     |  154       | 719.3701   | 10.3061224 | \n",
       "| N11127     |  124       | 748.1129   | 13.6050420 | \n",
       "| N11137     |  112       | 726.5982   | 20.5514019 | \n",
       "| N11140     |  157       | 747.2102   | 18.3120567 | \n",
       "| N11150     |  136       | 775.5588   |  8.8914729 | \n",
       "| N11155     |   98       | 779.1224   | 12.9895833 | \n",
       "| N11164     |  143       | 677.4476   | 21.6496350 | \n",
       "| N11165     |  159       | 752.8805   |  8.3466667 | \n",
       "| N11176     |  142       | 729.0704   | 20.4045802 | \n",
       "| N11181     |  125       | 705.4160   |  9.0750000 | \n",
       "| N11184     |  136       | 744.0515   |  6.9843750 | \n",
       "| N11187     |  133       | 733.8872   | 11.1904762 | \n",
       "| N11189     |  140       | 684.2714   |  6.7372263 | \n",
       "| ... | ... | ... | ... | \n",
       "| N984DL     |  58        | 904.7414   |  4.2280702 | \n",
       "| N985AT     |  29        | 647.8966   | 15.0384615 | \n",
       "| N985DL     |  63        | 905.1111   |  0.2539683 | \n",
       "| N986AT     |  24        | 654.5417   |  0.1250000 | \n",
       "| N986DL     |  73        | 943.7808   |  5.5833333 | \n",
       "| N987AT     |  28        | 618.6071   | 37.3846154 | \n",
       "| N987DL     |  55        | 922.8727   | -3.2909091 | \n",
       "| N988AT     |  37        | 642.9730   | 44.3428571 | \n",
       "| N988DL     |  55        | 864.2000   |  9.4716981 | \n",
       "| N989AT     |  66        | 694.8182   | 28.1935484 | \n",
       "| N989DL     |  89        | 908.6854   | 11.0340909 | \n",
       "| N990AT     |  71        | 731.6056   | 16.3857143 | \n",
       "| N990DL     |  56        | 863.0357   | 12.4285714 | \n",
       "| N991AT     |  25        | 659.8000   | 15.6800000 | \n",
       "| N991DL     |  92        | 902.9239   |  7.3369565 | \n",
       "| N992AT     |  38        | 637.1316   | 17.7837838 | \n",
       "| N992DL     |  57        | 902.7544   | -6.6491228 | \n",
       "| N993AT     |  47        | 606.6809   | 10.4042553 | \n",
       "| N993DL     |  55        | 884.9091   | 16.9811321 | \n",
       "| N994AT     |  31        | 698.4839   | 31.4838710 | \n",
       "| N994DL     |  61        | 886.7869   |  5.0327869 | \n",
       "| N995DL     |  57        | 883.5789   |  1.9298246 | \n",
       "| N996AT     |  29        | 673.8966   |  6.5384615 | \n",
       "| N996DL     | 102        | 897.3039   |  0.5247525 | \n",
       "| N997AT     |  44        | 679.0455   | 16.3023256 | \n",
       "| N997DL     |  63        | 867.7619   |  4.9032258 | \n",
       "| N998AT     |  26        | 593.5385   | 29.9600000 | \n",
       "| N998DL     |  77        | 857.8182   | 16.3947368 | \n",
       "| N999DN     |  61        | 895.4590   | 14.3114754 | \n",
       "| N9EAMQ     | 248        | 674.6653   |  9.2352941 | \n",
       "\n",
       "\n"
      ],
      "text/plain": [
       "     tailnum count dist     delay     \n",
       "1    NA      2512  710.2576         NA\n",
       "2    N0EGMQ   371  676.1887  9.9829545\n",
       "3    N10156   153  757.9477 12.7172414\n",
       "4    N102UW    48  535.8750  2.9375000\n",
       "5    N103US    46  535.1957 -6.9347826\n",
       "6    N104UW    47  535.2553  1.8043478\n",
       "7    N10575   289  519.7024 20.6914498\n",
       "8    N105UW    45  524.8444 -0.2666667\n",
       "9    N107US    41  528.7073 -5.7317073\n",
       "10   N108UW    60  534.5000 -1.2500000\n",
       "11   N109UW    48  535.8750 -2.5208333\n",
       "12   N110UW    40  535.3750  2.8000000\n",
       "13   N11106   129  771.4109 14.8809524\n",
       "14   N11107   148  705.8649 15.0143885\n",
       "15   N11109   148  714.0000 14.8510638\n",
       "16   N11113   138  719.7754 15.7619048\n",
       "17   N11119   148  723.3851 30.3065693\n",
       "18   N11121   154  719.3701 10.3061224\n",
       "19   N11127   124  748.1129 13.6050420\n",
       "20   N11137   112  726.5982 20.5514019\n",
       "21   N11140   157  747.2102 18.3120567\n",
       "22   N11150   136  775.5588  8.8914729\n",
       "23   N11155    98  779.1224 12.9895833\n",
       "24   N11164   143  677.4476 21.6496350\n",
       "25   N11165   159  752.8805  8.3466667\n",
       "26   N11176   142  729.0704 20.4045802\n",
       "27   N11181   125  705.4160  9.0750000\n",
       "28   N11184   136  744.0515  6.9843750\n",
       "29   N11187   133  733.8872 11.1904762\n",
       "30   N11189   140  684.2714  6.7372263\n",
       "...  ...     ...   ...      ...       \n",
       "2933 N984DL   58   904.7414  4.2280702\n",
       "2934 N985AT   29   647.8966 15.0384615\n",
       "2935 N985DL   63   905.1111  0.2539683\n",
       "2936 N986AT   24   654.5417  0.1250000\n",
       "2937 N986DL   73   943.7808  5.5833333\n",
       "2938 N987AT   28   618.6071 37.3846154\n",
       "2939 N987DL   55   922.8727 -3.2909091\n",
       "2940 N988AT   37   642.9730 44.3428571\n",
       "2941 N988DL   55   864.2000  9.4716981\n",
       "2942 N989AT   66   694.8182 28.1935484\n",
       "2943 N989DL   89   908.6854 11.0340909\n",
       "2944 N990AT   71   731.6056 16.3857143\n",
       "2945 N990DL   56   863.0357 12.4285714\n",
       "2946 N991AT   25   659.8000 15.6800000\n",
       "2947 N991DL   92   902.9239  7.3369565\n",
       "2948 N992AT   38   637.1316 17.7837838\n",
       "2949 N992DL   57   902.7544 -6.6491228\n",
       "2950 N993AT   47   606.6809 10.4042553\n",
       "2951 N993DL   55   884.9091 16.9811321\n",
       "2952 N994AT   31   698.4839 31.4838710\n",
       "2953 N994DL   61   886.7869  5.0327869\n",
       "2954 N995DL   57   883.5789  1.9298246\n",
       "2955 N996AT   29   673.8966  6.5384615\n",
       "2956 N996DL  102   897.3039  0.5247525\n",
       "2957 N997AT   44   679.0455 16.3023256\n",
       "2958 N997DL   63   867.7619  4.9032258\n",
       "2959 N998AT   26   593.5385 29.9600000\n",
       "2960 N998DL   77   857.8182 16.3947368\n",
       "2961 N999DN   61   895.4590 14.3114754\n",
       "2962 N9EAMQ  248   674.6653  9.2352941"
      ]
     },
     "metadata": {},
     "output_type": "display_data"
    }
   ],
   "source": [
    "delay_local"
   ]
  },
  {
   "cell_type": "markdown",
   "metadata": {},
   "source": [
    "<h2><b> Titanic </h2>"
   ]
  },
  {
   "cell_type": "markdown",
   "metadata": {},
   "source": [
    "Read the required files."
   ]
  },
  {
   "cell_type": "code",
   "execution_count": 2,
   "metadata": {
    "collapsed": true
   },
   "outputs": [],
   "source": [
    "train <- read.csv(\"titanic-selected/train.csv\", header=TRUE)\n",
    "test <- read.csv(\"titanic-selected/test.csv\", header=TRUE)"
   ]
  },
  {
   "cell_type": "code",
   "execution_count": 3,
   "metadata": {
    "collapsed": false
   },
   "outputs": [
    {
     "data": {
      "text/html": [
       "<table>\n",
       "<thead><tr><th scope=col>PassengerId</th><th scope=col>Survived</th><th scope=col>Pclass</th><th scope=col>Name</th><th scope=col>Sex</th><th scope=col>Age</th><th scope=col>SibSp</th><th scope=col>Parch</th><th scope=col>Ticket</th><th scope=col>Fare</th><th scope=col>Cabin</th><th scope=col>Embarked</th></tr></thead>\n",
       "<tbody>\n",
       "\t<tr><td>1                                                  </td><td>0                                                  </td><td>3                                                  </td><td>Braund, Mr. Owen Harris                            </td><td>male                                               </td><td>22                                                 </td><td>1                                                  </td><td>0                                                  </td><td>A/5 21171                                          </td><td> 7.2500                                            </td><td>                                                   </td><td>S                                                  </td></tr>\n",
       "\t<tr><td>2                                                  </td><td>1                                                  </td><td>1                                                  </td><td>Cumings, Mrs. John Bradley (Florence Briggs Thayer)</td><td>female                                             </td><td>38                                                 </td><td>1                                                  </td><td>0                                                  </td><td>PC 17599                                           </td><td>71.2833                                            </td><td>C85                                                </td><td>C                                                  </td></tr>\n",
       "\t<tr><td>3                                                  </td><td>1                                                  </td><td>3                                                  </td><td>Heikkinen, Miss. Laina                             </td><td>female                                             </td><td>26                                                 </td><td>0                                                  </td><td>0                                                  </td><td>STON/O2. 3101282                                   </td><td> 7.9250                                            </td><td>                                                   </td><td>S                                                  </td></tr>\n",
       "\t<tr><td>4                                                  </td><td>1                                                  </td><td>1                                                  </td><td>Futrelle, Mrs. Jacques Heath (Lily May Peel)       </td><td>female                                             </td><td>35                                                 </td><td>1                                                  </td><td>0                                                  </td><td>113803                                             </td><td>53.1000                                            </td><td>C123                                               </td><td>S                                                  </td></tr>\n",
       "\t<tr><td>5                                                  </td><td>0                                                  </td><td>3                                                  </td><td>Allen, Mr. William Henry                           </td><td>male                                               </td><td>35                                                 </td><td>0                                                  </td><td>0                                                  </td><td>373450                                             </td><td> 8.0500                                            </td><td>                                                   </td><td>S                                                  </td></tr>\n",
       "\t<tr><td>6                                                  </td><td>0                                                  </td><td>3                                                  </td><td>Moran, Mr. James                                   </td><td>male                                               </td><td>NA                                                 </td><td>0                                                  </td><td>0                                                  </td><td>330877                                             </td><td> 8.4583                                            </td><td>                                                   </td><td>Q                                                  </td></tr>\n",
       "</tbody>\n",
       "</table>\n"
      ],
      "text/latex": [
       "\\begin{tabular}{r|llllllllllll}\n",
       " PassengerId & Survived & Pclass & Name & Sex & Age & SibSp & Parch & Ticket & Fare & Cabin & Embarked\\\\\n",
       "\\hline\n",
       "\t 1                                                   & 0                                                   & 3                                                   & Braund, Mr. Owen Harris                             & male                                                & 22                                                  & 1                                                   & 0                                                   & A/5 21171                                           &  7.2500                                             &                                                     & S                                                  \\\\\n",
       "\t 2                                                   & 1                                                   & 1                                                   & Cumings, Mrs. John Bradley (Florence Briggs Thayer) & female                                              & 38                                                  & 1                                                   & 0                                                   & PC 17599                                            & 71.2833                                             & C85                                                 & C                                                  \\\\\n",
       "\t 3                                                   & 1                                                   & 3                                                   & Heikkinen, Miss. Laina                              & female                                              & 26                                                  & 0                                                   & 0                                                   & STON/O2. 3101282                                    &  7.9250                                             &                                                     & S                                                  \\\\\n",
       "\t 4                                                   & 1                                                   & 1                                                   & Futrelle, Mrs. Jacques Heath (Lily May Peel)        & female                                              & 35                                                  & 1                                                   & 0                                                   & 113803                                              & 53.1000                                             & C123                                                & S                                                  \\\\\n",
       "\t 5                                                   & 0                                                   & 3                                                   & Allen, Mr. William Henry                            & male                                                & 35                                                  & 0                                                   & 0                                                   & 373450                                              &  8.0500                                             &                                                     & S                                                  \\\\\n",
       "\t 6                                                   & 0                                                   & 3                                                   & Moran, Mr. James                                    & male                                                & NA                                                  & 0                                                   & 0                                                   & 330877                                              &  8.4583                                             &                                                     & Q                                                  \\\\\n",
       "\\end{tabular}\n"
      ],
      "text/markdown": [
       "\n",
       "PassengerId | Survived | Pclass | Name | Sex | Age | SibSp | Parch | Ticket | Fare | Cabin | Embarked | \n",
       "|---|---|---|---|---|---|\n",
       "| 1                                                   | 0                                                   | 3                                                   | Braund, Mr. Owen Harris                             | male                                                | 22                                                  | 1                                                   | 0                                                   | A/5 21171                                           |  7.2500                                             |                                                     | S                                                   | \n",
       "| 2                                                   | 1                                                   | 1                                                   | Cumings, Mrs. John Bradley (Florence Briggs Thayer) | female                                              | 38                                                  | 1                                                   | 0                                                   | PC 17599                                            | 71.2833                                             | C85                                                 | C                                                   | \n",
       "| 3                                                   | 1                                                   | 3                                                   | Heikkinen, Miss. Laina                              | female                                              | 26                                                  | 0                                                   | 0                                                   | STON/O2. 3101282                                    |  7.9250                                             |                                                     | S                                                   | \n",
       "| 4                                                   | 1                                                   | 1                                                   | Futrelle, Mrs. Jacques Heath (Lily May Peel)        | female                                              | 35                                                  | 1                                                   | 0                                                   | 113803                                              | 53.1000                                             | C123                                                | S                                                   | \n",
       "| 5                                                   | 0                                                   | 3                                                   | Allen, Mr. William Henry                            | male                                                | 35                                                  | 0                                                   | 0                                                   | 373450                                              |  8.0500                                             |                                                     | S                                                   | \n",
       "| 6                                                   | 0                                                   | 3                                                   | Moran, Mr. James                                    | male                                                | NA                                                  | 0                                                   | 0                                                   | 330877                                              |  8.4583                                             |                                                     | Q                                                   | \n",
       "\n",
       "\n"
      ],
      "text/plain": [
       "  PassengerId Survived Pclass\n",
       "1 1           0        3     \n",
       "2 2           1        1     \n",
       "3 3           1        3     \n",
       "4 4           1        1     \n",
       "5 5           0        3     \n",
       "6 6           0        3     \n",
       "  Name                                                Sex    Age SibSp Parch\n",
       "1 Braund, Mr. Owen Harris                             male   22  1     0    \n",
       "2 Cumings, Mrs. John Bradley (Florence Briggs Thayer) female 38  1     0    \n",
       "3 Heikkinen, Miss. Laina                              female 26  0     0    \n",
       "4 Futrelle, Mrs. Jacques Heath (Lily May Peel)        female 35  1     0    \n",
       "5 Allen, Mr. William Henry                            male   35  0     0    \n",
       "6 Moran, Mr. James                                    male   NA  0     0    \n",
       "  Ticket           Fare    Cabin Embarked\n",
       "1 A/5 21171         7.2500       S       \n",
       "2 PC 17599         71.2833 C85   C       \n",
       "3 STON/O2. 3101282  7.9250       S       \n",
       "4 113803           53.1000 C123  S       \n",
       "5 373450            8.0500       S       \n",
       "6 330877            8.4583       Q       "
      ]
     },
     "metadata": {},
     "output_type": "display_data"
    }
   ],
   "source": [
    "head(train)"
   ]
  },
  {
   "cell_type": "markdown",
   "metadata": {},
   "source": [
    "Factoring plcass and survived variables.<br>\n",
    "Survived :\n",
    "0 = No\n",
    "1 = Yes"
   ]
  },
  {
   "cell_type": "code",
   "execution_count": 4,
   "metadata": {
    "collapsed": true
   },
   "outputs": [],
   "source": [
    "train <- within(train, Survived <- factor(Survived, labels = c(\"No\", \"Yes\")))\n",
    "train <- within(train, Pclass <- factor(Pclass))\n",
    "test <- within(test, Pclass <- factor(Pclass))"
   ]
  },
  {
   "cell_type": "code",
   "execution_count": 5,
   "metadata": {
    "collapsed": false
   },
   "outputs": [
    {
     "data": {
      "text/html": [
       "<table>\n",
       "<thead><tr><th scope=col>PassengerId</th><th scope=col>Survived</th><th scope=col>Pclass</th><th scope=col>Name</th><th scope=col>Sex</th><th scope=col>Age</th><th scope=col>SibSp</th><th scope=col>Parch</th><th scope=col>Ticket</th><th scope=col>Fare</th><th scope=col>Cabin</th><th scope=col>Embarked</th></tr></thead>\n",
       "<tbody>\n",
       "\t<tr><td>1                                                  </td><td>No                                                 </td><td>3                                                  </td><td>Braund, Mr. Owen Harris                            </td><td>male                                               </td><td>22                                                 </td><td>1                                                  </td><td>0                                                  </td><td>A/5 21171                                          </td><td> 7.2500                                            </td><td>                                                   </td><td>S                                                  </td></tr>\n",
       "\t<tr><td>2                                                  </td><td>Yes                                                </td><td>1                                                  </td><td>Cumings, Mrs. John Bradley (Florence Briggs Thayer)</td><td>female                                             </td><td>38                                                 </td><td>1                                                  </td><td>0                                                  </td><td>PC 17599                                           </td><td>71.2833                                            </td><td>C85                                                </td><td>C                                                  </td></tr>\n",
       "\t<tr><td>3                                                  </td><td>Yes                                                </td><td>3                                                  </td><td>Heikkinen, Miss. Laina                             </td><td>female                                             </td><td>26                                                 </td><td>0                                                  </td><td>0                                                  </td><td>STON/O2. 3101282                                   </td><td> 7.9250                                            </td><td>                                                   </td><td>S                                                  </td></tr>\n",
       "\t<tr><td>4                                                  </td><td>Yes                                                </td><td>1                                                  </td><td>Futrelle, Mrs. Jacques Heath (Lily May Peel)       </td><td>female                                             </td><td>35                                                 </td><td>1                                                  </td><td>0                                                  </td><td>113803                                             </td><td>53.1000                                            </td><td>C123                                               </td><td>S                                                  </td></tr>\n",
       "\t<tr><td>5                                                  </td><td>No                                                 </td><td>3                                                  </td><td>Allen, Mr. William Henry                           </td><td>male                                               </td><td>35                                                 </td><td>0                                                  </td><td>0                                                  </td><td>373450                                             </td><td> 8.0500                                            </td><td>                                                   </td><td>S                                                  </td></tr>\n",
       "\t<tr><td>6                                                  </td><td>No                                                 </td><td>3                                                  </td><td>Moran, Mr. James                                   </td><td>male                                               </td><td>NA                                                 </td><td>0                                                  </td><td>0                                                  </td><td>330877                                             </td><td> 8.4583                                            </td><td>                                                   </td><td>Q                                                  </td></tr>\n",
       "</tbody>\n",
       "</table>\n"
      ],
      "text/latex": [
       "\\begin{tabular}{r|llllllllllll}\n",
       " PassengerId & Survived & Pclass & Name & Sex & Age & SibSp & Parch & Ticket & Fare & Cabin & Embarked\\\\\n",
       "\\hline\n",
       "\t 1                                                   & No                                                  & 3                                                   & Braund, Mr. Owen Harris                             & male                                                & 22                                                  & 1                                                   & 0                                                   & A/5 21171                                           &  7.2500                                             &                                                     & S                                                  \\\\\n",
       "\t 2                                                   & Yes                                                 & 1                                                   & Cumings, Mrs. John Bradley (Florence Briggs Thayer) & female                                              & 38                                                  & 1                                                   & 0                                                   & PC 17599                                            & 71.2833                                             & C85                                                 & C                                                  \\\\\n",
       "\t 3                                                   & Yes                                                 & 3                                                   & Heikkinen, Miss. Laina                              & female                                              & 26                                                  & 0                                                   & 0                                                   & STON/O2. 3101282                                    &  7.9250                                             &                                                     & S                                                  \\\\\n",
       "\t 4                                                   & Yes                                                 & 1                                                   & Futrelle, Mrs. Jacques Heath (Lily May Peel)        & female                                              & 35                                                  & 1                                                   & 0                                                   & 113803                                              & 53.1000                                             & C123                                                & S                                                  \\\\\n",
       "\t 5                                                   & No                                                  & 3                                                   & Allen, Mr. William Henry                            & male                                                & 35                                                  & 0                                                   & 0                                                   & 373450                                              &  8.0500                                             &                                                     & S                                                  \\\\\n",
       "\t 6                                                   & No                                                  & 3                                                   & Moran, Mr. James                                    & male                                                & NA                                                  & 0                                                   & 0                                                   & 330877                                              &  8.4583                                             &                                                     & Q                                                  \\\\\n",
       "\\end{tabular}\n"
      ],
      "text/markdown": [
       "\n",
       "PassengerId | Survived | Pclass | Name | Sex | Age | SibSp | Parch | Ticket | Fare | Cabin | Embarked | \n",
       "|---|---|---|---|---|---|\n",
       "| 1                                                   | No                                                  | 3                                                   | Braund, Mr. Owen Harris                             | male                                                | 22                                                  | 1                                                   | 0                                                   | A/5 21171                                           |  7.2500                                             |                                                     | S                                                   | \n",
       "| 2                                                   | Yes                                                 | 1                                                   | Cumings, Mrs. John Bradley (Florence Briggs Thayer) | female                                              | 38                                                  | 1                                                   | 0                                                   | PC 17599                                            | 71.2833                                             | C85                                                 | C                                                   | \n",
       "| 3                                                   | Yes                                                 | 3                                                   | Heikkinen, Miss. Laina                              | female                                              | 26                                                  | 0                                                   | 0                                                   | STON/O2. 3101282                                    |  7.9250                                             |                                                     | S                                                   | \n",
       "| 4                                                   | Yes                                                 | 1                                                   | Futrelle, Mrs. Jacques Heath (Lily May Peel)        | female                                              | 35                                                  | 1                                                   | 0                                                   | 113803                                              | 53.1000                                             | C123                                                | S                                                   | \n",
       "| 5                                                   | No                                                  | 3                                                   | Allen, Mr. William Henry                            | male                                                | 35                                                  | 0                                                   | 0                                                   | 373450                                              |  8.0500                                             |                                                     | S                                                   | \n",
       "| 6                                                   | No                                                  | 3                                                   | Moran, Mr. James                                    | male                                                | NA                                                  | 0                                                   | 0                                                   | 330877                                              |  8.4583                                             |                                                     | Q                                                   | \n",
       "\n",
       "\n"
      ],
      "text/plain": [
       "  PassengerId Survived Pclass\n",
       "1 1           No       3     \n",
       "2 2           Yes      1     \n",
       "3 3           Yes      3     \n",
       "4 4           Yes      1     \n",
       "5 5           No       3     \n",
       "6 6           No       3     \n",
       "  Name                                                Sex    Age SibSp Parch\n",
       "1 Braund, Mr. Owen Harris                             male   22  1     0    \n",
       "2 Cumings, Mrs. John Bradley (Florence Briggs Thayer) female 38  1     0    \n",
       "3 Heikkinen, Miss. Laina                              female 26  0     0    \n",
       "4 Futrelle, Mrs. Jacques Heath (Lily May Peel)        female 35  1     0    \n",
       "5 Allen, Mr. William Henry                            male   35  0     0    \n",
       "6 Moran, Mr. James                                    male   NA  0     0    \n",
       "  Ticket           Fare    Cabin Embarked\n",
       "1 A/5 21171         7.2500       S       \n",
       "2 PC 17599         71.2833 C85   C       \n",
       "3 STON/O2. 3101282  7.9250       S       \n",
       "4 113803           53.1000 C123  S       \n",
       "5 373450            8.0500       S       \n",
       "6 330877            8.4583       Q       "
      ]
     },
     "metadata": {},
     "output_type": "display_data"
    }
   ],
   "source": [
    "head(train)"
   ]
  },
  {
   "cell_type": "code",
   "execution_count": 6,
   "metadata": {
    "collapsed": false
   },
   "outputs": [
    {
     "data": {},
     "metadata": {},
     "output_type": "display_data"
    },
    {
     "data": {
      "image/png": "[encoded data removed]",
      "text/plain": [
       "plot without title"
      ]
     },
     "metadata": {},
     "output_type": "display_data"
    }
   ],
   "source": [
    "library(ggplot2)\n",
    "qplot(Sex, Pclass, colour = Survived, data=train, geom=\"jitter\")"
   ]
  },
  {
   "cell_type": "code",
   "execution_count": 7,
   "metadata": {
    "collapsed": false
   },
   "outputs": [
    {
     "data": {},
     "metadata": {},
     "output_type": "display_data"
    },
    {
     "data": {
      "image/png": "[encoded data removed]",
      "text/plain": [
       "plot without title"
      ]
     },
     "metadata": {},
     "output_type": "display_data"
    }
   ],
   "source": [
    "qplot(Survived, data=train, geom=\"bar\", facets = . ~ Sex, fill=Pclass)"
   ]
  },
  {
   "cell_type": "code",
   "execution_count": 8,
   "metadata": {
    "collapsed": false
   },
   "outputs": [
    {
     "name": "stderr",
     "output_type": "stream",
     "text": [
      "\n",
      "Attaching package: 'dplyr'\n",
      "\n",
      "The following objects are masked from 'package:stats':\n",
      "\n",
      "    filter, lag\n",
      "\n",
      "The following objects are masked from 'package:base':\n",
      "\n",
      "    intersect, setdiff, setequal, union\n",
      "\n",
      "`stat_bin()` using `bins = 30`. Pick better value with `binwidth`.\n"
     ]
    },
    {
     "data": {},
     "metadata": {},
     "output_type": "display_data"
    },
    {
     "data": {
      "image/png": "[encoded data removed]",
      "text/plain": [
       "plot without title"
      ]
     },
     "metadata": {},
     "output_type": "display_data"
    }
   ],
   "source": [
    "library(dplyr)\n",
    "qplot(Age, data=filter(train,Age<30), geom=\"histogram\", facets = . ~ Survived, fill=Pclass)"
   ]
  },
  {
   "cell_type": "code",
   "execution_count": 9,
   "metadata": {
    "collapsed": false
   },
   "outputs": [
    {
     "data": {},
     "metadata": {},
     "output_type": "display_data"
    },
    {
     "data": {
      "image/png": "[encoded data removed]",
      "text/plain": [
       "plot without title"
      ]
     },
     "metadata": {},
     "output_type": "display_data"
    }
   ],
   "source": [
    "ggplot(train, aes(SibSp, fill = Pclass),) +geom_histogram(binwidth = 0.1)+facet_grid(. ~ Survived)"
   ]
  },
  {
   "cell_type": "code",
   "execution_count": 10,
   "metadata": {
    "collapsed": false
   },
   "outputs": [
    {
     "name": "stderr",
     "output_type": "stream",
     "text": [
      "`stat_bin()` using `bins = 30`. Pick better value with `binwidth`.\n"
     ]
    },
    {
     "data": {},
     "metadata": {},
     "output_type": "display_data"
    },
    {
     "data": {
      "image/png": "[encoded data removed]",
      "text/plain": [
       "plot without title"
      ]
     },
     "metadata": {},
     "output_type": "display_data"
    }
   ],
   "source": [
    "qplot(SibSp, data=filter(train,SibSp<9), geom=\"histogram\", facets = . ~ Survived, fill=Pclass)"
   ]
  },
  {
   "cell_type": "code",
   "execution_count": 20,
   "metadata": {
    "collapsed": false
   },
   "outputs": [
    {
     "data": {},
     "metadata": {},
     "output_type": "display_data"
    },
    {
     "data": {
      "image/png": "[encoded data removed]",
      "text/plain": [
       "plot without title"
      ]
     },
     "metadata": {},
     "output_type": "display_data"
    }
   ],
   "source": [
    "ggplot(train, aes(SibSp, fill = Pclass),) +geom_histogram(binwidth = 0.3)+facet_grid(Sex ~ Survived)"
   ]
  },
  {
   "cell_type": "markdown",
   "metadata": {},
   "source": [
    "randomForest consist of machine learning algorithms. For this first we will fit the data into two variables, train the model and aplly it on test data."
   ]
  },
  {
   "cell_type": "code",
   "execution_count": 12,
   "metadata": {
    "collapsed": false
   },
   "outputs": [
    {
     "name": "stderr",
     "output_type": "stream",
     "text": [
      "randomForest 4.6-12\n",
      "Type rfNews() to see new features/changes/bug fixes.\n",
      "\n",
      "Attaching package: 'randomForest'\n",
      "\n",
      "The following object is masked from 'package:dplyr':\n",
      "\n",
      "    combine\n",
      "\n",
      "The following object is masked from 'package:ggplot2':\n",
      "\n",
      "    margin\n",
      "\n"
     ]
    }
   ],
   "source": [
    "library(\"randomForest\")\n",
    "fit <- randomForest(Survived ~Pclass + Sex, data=train)\n",
    "prediction.1 <- predict(fit, test)"
   ]
  },
  {
   "cell_type": "code",
   "execution_count": 14,
   "metadata": {
    "collapsed": false
   },
   "outputs": [
    {
     "data": {
      "text/html": [
       "<table>\n",
       "<thead><tr><th scope=col>PassengerId</th><th scope=col>Pclass</th><th scope=col>Name</th><th scope=col>Sex</th><th scope=col>Age</th><th scope=col>SibSp</th><th scope=col>Parch</th><th scope=col>Ticket</th><th scope=col>Fare</th><th scope=col>Cabin</th><th scope=col>Embarked</th><th scope=col>Survival_Prediction</th></tr></thead>\n",
       "<tbody>\n",
       "\t<tr><td>892                                         </td><td>3                                           </td><td>Kelly, Mr. James                            </td><td>male                                        </td><td>34.5                                        </td><td>0                                           </td><td>0                                           </td><td>330911                                      </td><td> 7.8292                                     </td><td>                                            </td><td>Q                                           </td><td>No                                          </td></tr>\n",
       "\t<tr><td>893                                         </td><td>3                                           </td><td>Wilkes, Mrs. James (Ellen Needs)            </td><td>female                                      </td><td>47.0                                        </td><td>1                                           </td><td>0                                           </td><td>363272                                      </td><td> 7.0000                                     </td><td>                                            </td><td>S                                           </td><td>No                                          </td></tr>\n",
       "\t<tr><td>894                                         </td><td>2                                           </td><td>Myles, Mr. Thomas Francis                   </td><td>male                                        </td><td>62.0                                        </td><td>0                                           </td><td>0                                           </td><td>240276                                      </td><td> 9.6875                                     </td><td>                                            </td><td>Q                                           </td><td>No                                          </td></tr>\n",
       "\t<tr><td>895                                         </td><td>3                                           </td><td>Wirz, Mr. Albert                            </td><td>male                                        </td><td>27.0                                        </td><td>0                                           </td><td>0                                           </td><td>315154                                      </td><td> 8.6625                                     </td><td>                                            </td><td>S                                           </td><td>No                                          </td></tr>\n",
       "\t<tr><td>896                                         </td><td>3                                           </td><td>Hirvonen, Mrs. Alexander (Helga E Lindqvist)</td><td>female                                      </td><td>22.0                                        </td><td>1                                           </td><td>1                                           </td><td>3101298                                     </td><td>12.2875                                     </td><td>                                            </td><td>S                                           </td><td>No                                          </td></tr>\n",
       "\t<tr><td>897                                         </td><td>3                                           </td><td>Svensson, Mr. Johan Cervin                  </td><td>male                                        </td><td>14.0                                        </td><td>0                                           </td><td>0                                           </td><td>7538                                        </td><td> 9.2250                                     </td><td>                                            </td><td>S                                           </td><td>No                                          </td></tr>\n",
       "</tbody>\n",
       "</table>\n"
      ],
      "text/latex": [
       "\\begin{tabular}{r|llllllllllll}\n",
       " PassengerId & Pclass & Name & Sex & Age & SibSp & Parch & Ticket & Fare & Cabin & Embarked & Survival\\_Prediction\\\\\n",
       "\\hline\n",
       "\t 892                                          & 3                                            & Kelly, Mr. James                             & male                                         & 34.5                                         & 0                                            & 0                                            & 330911                                       &  7.8292                                      &                                              & Q                                            & No                                          \\\\\n",
       "\t 893                                          & 3                                            & Wilkes, Mrs. James (Ellen Needs)             & female                                       & 47.0                                         & 1                                            & 0                                            & 363272                                       &  7.0000                                      &                                              & S                                            & No                                          \\\\\n",
       "\t 894                                          & 2                                            & Myles, Mr. Thomas Francis                    & male                                         & 62.0                                         & 0                                            & 0                                            & 240276                                       &  9.6875                                      &                                              & Q                                            & No                                          \\\\\n",
       "\t 895                                          & 3                                            & Wirz, Mr. Albert                             & male                                         & 27.0                                         & 0                                            & 0                                            & 315154                                       &  8.6625                                      &                                              & S                                            & No                                          \\\\\n",
       "\t 896                                          & 3                                            & Hirvonen, Mrs. Alexander (Helga E Lindqvist) & female                                       & 22.0                                         & 1                                            & 1                                            & 3101298                                      & 12.2875                                      &                                              & S                                            & No                                          \\\\\n",
       "\t 897                                          & 3                                            & Svensson, Mr. Johan Cervin                   & male                                         & 14.0                                         & 0                                            & 0                                            & 7538                                         &  9.2250                                      &                                              & S                                            & No                                          \\\\\n",
       "\\end{tabular}\n"
      ],
      "text/markdown": [
       "\n",
       "PassengerId | Pclass | Name | Sex | Age | SibSp | Parch | Ticket | Fare | Cabin | Embarked | Survival_Prediction | \n",
       "|---|---|---|---|---|---|\n",
       "| 892                                          | 3                                            | Kelly, Mr. James                             | male                                         | 34.5                                         | 0                                            | 0                                            | 330911                                       |  7.8292                                      |                                              | Q                                            | No                                           | \n",
       "| 893                                          | 3                                            | Wilkes, Mrs. James (Ellen Needs)             | female                                       | 47.0                                         | 1                                            | 0                                            | 363272                                       |  7.0000                                      |                                              | S                                            | No                                           | \n",
       "| 894                                          | 2                                            | Myles, Mr. Thomas Francis                    | male                                         | 62.0                                         | 0                                            | 0                                            | 240276                                       |  9.6875                                      |                                              | Q                                            | No                                           | \n",
       "| 895                                          | 3                                            | Wirz, Mr. Albert                             | male                                         | 27.0                                         | 0                                            | 0                                            | 315154                                       |  8.6625                                      |                                              | S                                            | No                                           | \n",
       "| 896                                          | 3                                            | Hirvonen, Mrs. Alexander (Helga E Lindqvist) | female                                       | 22.0                                         | 1                                            | 1                                            | 3101298                                      | 12.2875                                      |                                              | S                                            | No                                           | \n",
       "| 897                                          | 3                                            | Svensson, Mr. Johan Cervin                   | male                                         | 14.0                                         | 0                                            | 0                                            | 7538                                         |  9.2250                                      |                                              | S                                            | No                                           | \n",
       "\n",
       "\n"
      ],
      "text/plain": [
       "  PassengerId Pclass Name                                         Sex    Age \n",
       "1 892         3      Kelly, Mr. James                             male   34.5\n",
       "2 893         3      Wilkes, Mrs. James (Ellen Needs)             female 47.0\n",
       "3 894         2      Myles, Mr. Thomas Francis                    male   62.0\n",
       "4 895         3      Wirz, Mr. Albert                             male   27.0\n",
       "5 896         3      Hirvonen, Mrs. Alexander (Helga E Lindqvist) female 22.0\n",
       "6 897         3      Svensson, Mr. Johan Cervin                   male   14.0\n",
       "  SibSp Parch Ticket  Fare    Cabin Embarked Survival_Prediction\n",
       "1 0     0     330911   7.8292       Q        No                 \n",
       "2 1     0     363272   7.0000       S        No                 \n",
       "3 0     0     240276   9.6875       Q        No                 \n",
       "4 0     0     315154   8.6625       S        No                 \n",
       "5 1     1     3101298 12.2875       S        No                 \n",
       "6 0     0     7538     9.2250       S        No                 "
      ]
     },
     "metadata": {},
     "output_type": "display_data"
    }
   ],
   "source": [
    "predlist=data.frame(test, Survival_Prediction=prediction.1)\n",
    "head(predlist)"
   ]
  },
  {
   "cell_type": "code",
   "execution_count": 15,
   "metadata": {
    "collapsed": false
   },
   "outputs": [
    {
     "data": {},
     "metadata": {},
     "output_type": "display_data"
    },
    {
     "data": {
      "image/png": "[encoded data removed]",
      "text/plain": [
       "plot without title"
      ]
     },
     "metadata": {},
     "output_type": "display_data"
    }
   ],
   "source": [
    "qplot(Survival_Prediction, data=predlist, geom=\"bar\", facets = . ~ Sex, fill=Pclass)"
   ]
  },
  {
   "cell_type": "code",
   "execution_count": 17,
   "metadata": {
    "collapsed": false
   },
   "outputs": [
    {
     "data": {
      "text/html": [
       "<table>\n",
       "<thead><tr><th scope=col>PassengerId</th><th scope=col>Pclass</th><th scope=col>Name</th><th scope=col>Sex</th><th scope=col>Age</th><th scope=col>SibSp</th><th scope=col>Parch</th><th scope=col>Ticket</th><th scope=col>Fare</th><th scope=col>Cabin</th><th scope=col>Embarked</th><th scope=col>Survival_Prediction</th></tr></thead>\n",
       "<tbody>\n",
       "\t<tr><td>892                                         </td><td>3                                           </td><td>Kelly, Mr. James                            </td><td>male                                        </td><td>34.5                                        </td><td>0                                           </td><td>0                                           </td><td>330911                                      </td><td> 7.8292                                     </td><td>                                            </td><td>Q                                           </td><td>No                                          </td></tr>\n",
       "\t<tr><td>893                                         </td><td>3                                           </td><td>Wilkes, Mrs. James (Ellen Needs)            </td><td>female                                      </td><td>47.0                                        </td><td>1                                           </td><td>0                                           </td><td>363272                                      </td><td> 7.0000                                     </td><td>                                            </td><td>S                                           </td><td>Yes                                         </td></tr>\n",
       "\t<tr><td>894                                         </td><td>2                                           </td><td>Myles, Mr. Thomas Francis                   </td><td>male                                        </td><td>62.0                                        </td><td>0                                           </td><td>0                                           </td><td>240276                                      </td><td> 9.6875                                     </td><td>                                            </td><td>Q                                           </td><td>No                                          </td></tr>\n",
       "\t<tr><td>895                                         </td><td>3                                           </td><td>Wirz, Mr. Albert                            </td><td>male                                        </td><td>27.0                                        </td><td>0                                           </td><td>0                                           </td><td>315154                                      </td><td> 8.6625                                     </td><td>                                            </td><td>S                                           </td><td>No                                          </td></tr>\n",
       "\t<tr><td>896                                         </td><td>3                                           </td><td>Hirvonen, Mrs. Alexander (Helga E Lindqvist)</td><td>female                                      </td><td>22.0                                        </td><td>1                                           </td><td>1                                           </td><td>3101298                                     </td><td>12.2875                                     </td><td>                                            </td><td>S                                           </td><td>Yes                                         </td></tr>\n",
       "\t<tr><td>897                                         </td><td>3                                           </td><td>Svensson, Mr. Johan Cervin                  </td><td>male                                        </td><td>14.0                                        </td><td>0                                           </td><td>0                                           </td><td>7538                                        </td><td> 9.2250                                     </td><td>                                            </td><td>S                                           </td><td>No                                          </td></tr>\n",
       "</tbody>\n",
       "</table>\n"
      ],
      "text/latex": [
       "\\begin{tabular}{r|llllllllllll}\n",
       " PassengerId & Pclass & Name & Sex & Age & SibSp & Parch & Ticket & Fare & Cabin & Embarked & Survival\\_Prediction\\\\\n",
       "\\hline\n",
       "\t 892                                          & 3                                            & Kelly, Mr. James                             & male                                         & 34.5                                         & 0                                            & 0                                            & 330911                                       &  7.8292                                      &                                              & Q                                            & No                                          \\\\\n",
       "\t 893                                          & 3                                            & Wilkes, Mrs. James (Ellen Needs)             & female                                       & 47.0                                         & 1                                            & 0                                            & 363272                                       &  7.0000                                      &                                              & S                                            & Yes                                         \\\\\n",
       "\t 894                                          & 2                                            & Myles, Mr. Thomas Francis                    & male                                         & 62.0                                         & 0                                            & 0                                            & 240276                                       &  9.6875                                      &                                              & Q                                            & No                                          \\\\\n",
       "\t 895                                          & 3                                            & Wirz, Mr. Albert                             & male                                         & 27.0                                         & 0                                            & 0                                            & 315154                                       &  8.6625                                      &                                              & S                                            & No                                          \\\\\n",
       "\t 896                                          & 3                                            & Hirvonen, Mrs. Alexander (Helga E Lindqvist) & female                                       & 22.0                                         & 1                                            & 1                                            & 3101298                                      & 12.2875                                      &                                              & S                                            & Yes                                         \\\\\n",
       "\t 897                                          & 3                                            & Svensson, Mr. Johan Cervin                   & male                                         & 14.0                                         & 0                                            & 0                                            & 7538                                         &  9.2250                                      &                                              & S                                            & No                                          \\\\\n",
       "\\end{tabular}\n"
      ],
      "text/markdown": [
       "\n",
       "PassengerId | Pclass | Name | Sex | Age | SibSp | Parch | Ticket | Fare | Cabin | Embarked | Survival_Prediction | \n",
       "|---|---|---|---|---|---|\n",
       "| 892                                          | 3                                            | Kelly, Mr. James                             | male                                         | 34.5                                         | 0                                            | 0                                            | 330911                                       |  7.8292                                      |                                              | Q                                            | No                                           | \n",
       "| 893                                          | 3                                            | Wilkes, Mrs. James (Ellen Needs)             | female                                       | 47.0                                         | 1                                            | 0                                            | 363272                                       |  7.0000                                      |                                              | S                                            | Yes                                          | \n",
       "| 894                                          | 2                                            | Myles, Mr. Thomas Francis                    | male                                         | 62.0                                         | 0                                            | 0                                            | 240276                                       |  9.6875                                      |                                              | Q                                            | No                                           | \n",
       "| 895                                          | 3                                            | Wirz, Mr. Albert                             | male                                         | 27.0                                         | 0                                            | 0                                            | 315154                                       |  8.6625                                      |                                              | S                                            | No                                           | \n",
       "| 896                                          | 3                                            | Hirvonen, Mrs. Alexander (Helga E Lindqvist) | female                                       | 22.0                                         | 1                                            | 1                                            | 3101298                                      | 12.2875                                      |                                              | S                                            | Yes                                          | \n",
       "| 897                                          | 3                                            | Svensson, Mr. Johan Cervin                   | male                                         | 14.0                                         | 0                                            | 0                                            | 7538                                         |  9.2250                                      |                                              | S                                            | No                                           | \n",
       "\n",
       "\n"
      ],
      "text/plain": [
       "  PassengerId Pclass Name                                         Sex    Age \n",
       "1 892         3      Kelly, Mr. James                             male   34.5\n",
       "2 893         3      Wilkes, Mrs. James (Ellen Needs)             female 47.0\n",
       "3 894         2      Myles, Mr. Thomas Francis                    male   62.0\n",
       "4 895         3      Wirz, Mr. Albert                             male   27.0\n",
       "5 896         3      Hirvonen, Mrs. Alexander (Helga E Lindqvist) female 22.0\n",
       "6 897         3      Svensson, Mr. Johan Cervin                   male   14.0\n",
       "  SibSp Parch Ticket  Fare    Cabin Embarked Survival_Prediction\n",
       "1 0     0     330911   7.8292       Q        No                 \n",
       "2 1     0     363272   7.0000       S        Yes                \n",
       "3 0     0     240276   9.6875       Q        No                 \n",
       "4 0     0     315154   8.6625       S        No                 \n",
       "5 1     1     3101298 12.2875       S        Yes                \n",
       "6 0     0     7538     9.2250       S        No                 "
      ]
     },
     "metadata": {},
     "output_type": "display_data"
    }
   ],
   "source": [
    "fit <- randomForest(Survived ~Pclass + Sex + SibSp + Parch, data=train)\n",
    "prediction.2 <- predict(fit, test)\n",
    "predictlist2=data.frame(test, Survival_Prediction=prediction.2)\n",
    "head(predictlist2)"
   ]
  },
  {
   "cell_type": "code",
   "execution_count": 19,
   "metadata": {
    "collapsed": false
   },
   "outputs": [
    {
     "data": {},
     "metadata": {},
     "output_type": "display_data"
    },
    {
     "data": {
      "image/png": "[encoded data removed]",
      "text/plain": [
       "plot without title"
      ]
     },
     "metadata": {},
     "output_type": "display_data"
    }
   ],
   "source": [
    "qplot(Survival_Prediction, data=predictlist2, geom=\"bar\", facets = . ~ Sex, fill=Pclass)"
   ]
  }
 ],
 "metadata": {
  "kernelspec": {
   "display_name": "R",
   "language": "R",
   "name": "ir"
  },
  "language_info": {
   "codemirror_mode": "r",
   "file_extension": ".r",
   "mimetype": "text/x-r-source",
   "name": "R",
   "pygments_lexer": "r",
   "version": "3.3.2"
  }
 },
 "nbformat": 4,
 "nbformat_minor": 2
}
