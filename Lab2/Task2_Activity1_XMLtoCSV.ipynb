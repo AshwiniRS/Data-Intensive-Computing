{
 "cells": [
  {
   "cell_type": "markdown",
   "metadata": {},
   "source": [
    "<h2> Activity 1: Transform XML to data frame to CSV </h2>"
   ]
  },
  {
   "cell_type": "markdown",
   "metadata": {},
   "source": [
    "<b>Step 1:</b> xml package has to be installed using cran repository"
   ]
  },
  {
   "cell_type": "code",
   "execution_count": 3,
   "metadata": {
    "collapsed": false
   },
   "outputs": [
    {
     "name": "stderr",
     "output_type": "stream",
     "text": [
      "Installing package into 'C:/Users/Ashwini/Documents/R/win-library/3.3'\n",
      "(as 'lib' is unspecified)\n"
     ]
    },
    {
     "name": "stdout",
     "output_type": "stream",
     "text": [
      "package 'XML' successfully unpacked and MD5 sums checked\n",
      "\n",
      "The downloaded binary packages are in\n",
      "\tC:\\Users\\Ashwini\\AppData\\Local\\Temp\\RtmpsNxuOm\\downloaded_packages\n"
     ]
    }
   ],
   "source": [
    "install.packages(\"XML\" , repos=\"http://cran.r-project.org\")"
   ]
  },
  {
   "cell_type": "markdown",
   "metadata": {},
   "source": [
    "<b>Step 2:</b> Load the XML package."
   ]
  },
  {
   "cell_type": "code",
   "execution_count": 8,
   "metadata": {
    "collapsed": false
   },
   "outputs": [
    {
     "name": "stderr",
     "output_type": "stream",
     "text": [
      "Loading required package: XML\n"
     ]
    }
   ],
   "source": [
    "require(\"XML\")"
   ]
  },
  {
   "cell_type": "markdown",
   "metadata": {},
   "source": [
    "<b>Step 3:</b> Initializing url variable with the link of Washington XML file."
   ]
  },
  {
   "cell_type": "code",
   "execution_count": 5,
   "metadata": {
    "collapsed": true
   },
   "outputs": [],
   "source": [
    "url <- \"http://aiweb.cs.washington.edu/research/projects/xmltk/xmldata/data/courses/reed.xml\""
   ]
  },
  {
   "cell_type": "markdown",
   "metadata": {},
   "source": [
    "<b>Step 4:</b> Converting the XML file to data frame using xmlToDataFrame function of XML package </p>"
   ]
  },
  {
   "cell_type": "code",
   "execution_count": 14,
   "metadata": {
    "collapsed": false
   },
   "outputs": [],
   "source": [
    "data_df <- xmlToDataFrame(url)"
   ]
  },
  {
   "cell_type": "code",
   "execution_count": 15,
   "metadata": {
    "collapsed": false
   },
   "outputs": [
    {
     "data": {
      "text/html": [
       "<table>\n",
       "<thead><tr><th scope=col>reg_num</th><th scope=col>subj</th><th scope=col>crse</th><th scope=col>sect</th><th scope=col>title</th><th scope=col>units</th><th scope=col>instructor</th><th scope=col>days</th><th scope=col>time</th><th scope=col>place</th></tr></thead>\n",
       "<tbody>\n",
       "\t<tr><td>10577                                        </td><td>ANTH                                         </td><td>211                                          </td><td>F01                                          </td><td>Introduction to Anthropology                 </td><td>1.0                                          </td><td>Brightman                                    </td><td>M-W                                          </td><td>03:10PM04:30                                 </td><td>ELIOT414                                     </td></tr>\n",
       "\t<tr><td>20573                                        </td><td>ANTH                                         </td><td>344                                          </td><td>S01                                          </td><td>Sex and Gender                               </td><td>1.0                                          </td><td>Makley                                       </td><td>T-Th                                         </td><td>10:30AM11:50                                 </td><td>VOLLUM120                                    </td></tr>\n",
       "\t<tr><td>10624                                        </td><td>BIOL                                         </td><td>431                                          </td><td>F01                                          </td><td>Field Biology of Amphibians                  </td><td>0.5                                          </td><td>Kaplan                                       </td><td>T                                            </td><td>06:10PM08:00                                 </td><td>PHYSIC240A                                   </td></tr>\n",
       "\t<tr><td>10626                                        </td><td>BIOL                                         </td><td>431                                          </td><td>F03                                          </td><td>Bacterial Pathogenesis                       </td><td>0.5                                          </td><td>                                             </td><td>                                             </td><td>                                             </td><td>Mellies         RESCHEDULED TO OTHER SEMESTER</td></tr>\n",
       "\t<tr><td>20626                                        </td><td>BIOL                                         </td><td>431                                          </td><td>S04                                          </td><td>Seminar in Biology                           </td><td>0.5                                          </td><td>Yezerinac                                    </td><td>Th                                           </td><td>06:10PM08:00                                 </td><td>BIOL200A                                     </td></tr>\n",
       "\t<tr><td>10543                                        </td><td>CHEM                                         </td><td>101                                          </td><td>F                                            </td><td>MolecularStructure and Properties            </td><td>1.0                                          </td><td>Geselbracht                                  </td><td>M-W-F                                        </td><td>11:00AM11:50                                 </td><td>VOLLUMVLH                                    </td></tr>\n",
       "</tbody>\n",
       "</table>\n"
      ],
      "text/latex": [
       "\\begin{tabular}{r|llllllllll}\n",
       " reg\\_num & subj & crse & sect & title & units & instructor & days & time & place\\\\\n",
       "\\hline\n",
       "\t 10577                                         & ANTH                                          & 211                                           & F01                                           & Introduction to Anthropology                  & 1.0                                           & Brightman                                     & M-W                                           & 03:10PM04:30                                  & ELIOT414                                     \\\\\n",
       "\t 20573                                         & ANTH                                          & 344                                           & S01                                           & Sex and Gender                                & 1.0                                           & Makley                                        & T-Th                                          & 10:30AM11:50                                  & VOLLUM120                                    \\\\\n",
       "\t 10624                                         & BIOL                                          & 431                                           & F01                                           & Field Biology of Amphibians                   & 0.5                                           & Kaplan                                        & T                                             & 06:10PM08:00                                  & PHYSIC240A                                   \\\\\n",
       "\t 10626                                         & BIOL                                          & 431                                           & F03                                           & Bacterial Pathogenesis                        & 0.5                                           &                                               &                                               &                                               & Mellies         RESCHEDULED TO OTHER SEMESTER\\\\\n",
       "\t 20626                                         & BIOL                                          & 431                                           & S04                                           & Seminar in Biology                            & 0.5                                           & Yezerinac                                     & Th                                            & 06:10PM08:00                                  & BIOL200A                                     \\\\\n",
       "\t 10543                                         & CHEM                                          & 101                                           & F                                             & MolecularStructure and Properties             & 1.0                                           & Geselbracht                                   & M-W-F                                         & 11:00AM11:50                                  & VOLLUMVLH                                    \\\\\n",
       "\\end{tabular}\n"
      ],
      "text/markdown": [
       "\n",
       "reg_num | subj | crse | sect | title | units | instructor | days | time | place | \n",
       "|---|---|---|---|---|---|\n",
       "| 10577                                         | ANTH                                          | 211                                           | F01                                           | Introduction to Anthropology                  | 1.0                                           | Brightman                                     | M-W                                           | 03:10PM04:30                                  | ELIOT414                                      | \n",
       "| 20573                                         | ANTH                                          | 344                                           | S01                                           | Sex and Gender                                | 1.0                                           | Makley                                        | T-Th                                          | 10:30AM11:50                                  | VOLLUM120                                     | \n",
       "| 10624                                         | BIOL                                          | 431                                           | F01                                           | Field Biology of Amphibians                   | 0.5                                           | Kaplan                                        | T                                             | 06:10PM08:00                                  | PHYSIC240A                                    | \n",
       "| 10626                                         | BIOL                                          | 431                                           | F03                                           | Bacterial Pathogenesis                        | 0.5                                           |                                               |                                               |                                               | Mellies         RESCHEDULED TO OTHER SEMESTER | \n",
       "| 20626                                         | BIOL                                          | 431                                           | S04                                           | Seminar in Biology                            | 0.5                                           | Yezerinac                                     | Th                                            | 06:10PM08:00                                  | BIOL200A                                      | \n",
       "| 10543                                         | CHEM                                          | 101                                           | F                                             | MolecularStructure and Properties             | 1.0                                           | Geselbracht                                   | M-W-F                                         | 11:00AM11:50                                  | VOLLUMVLH                                     | \n",
       "\n",
       "\n"
      ],
      "text/plain": [
       "  reg_num subj crse sect title                             units instructor \n",
       "1 10577   ANTH 211  F01  Introduction to Anthropology      1.0   Brightman  \n",
       "2 20573   ANTH 344  S01  Sex and Gender                    1.0   Makley     \n",
       "3 10624   BIOL 431  F01  Field Biology of Amphibians       0.5   Kaplan     \n",
       "4 10626   BIOL 431  F03  Bacterial Pathogenesis            0.5              \n",
       "5 20626   BIOL 431  S04  Seminar in Biology                0.5   Yezerinac  \n",
       "6 10543   CHEM 101  F    MolecularStructure and Properties 1.0   Geselbracht\n",
       "  days  time         place                                        \n",
       "1 M-W   03:10PM04:30 ELIOT414                                     \n",
       "2 T-Th  10:30AM11:50 VOLLUM120                                    \n",
       "3 T     06:10PM08:00 PHYSIC240A                                   \n",
       "4                    Mellies         RESCHEDULED TO OTHER SEMESTER\n",
       "5 Th    06:10PM08:00 BIOL200A                                     \n",
       "6 M-W-F 11:00AM11:50 VOLLUMVLH                                    "
      ]
     },
     "metadata": {},
     "output_type": "display_data"
    }
   ],
   "source": [
    "head(data_df)"
   ]
  },
  {
   "cell_type": "markdown",
   "metadata": {},
   "source": [
    "<b>Step 5:</b> Write the data frame to csv file using write.csv function of R"
   ]
  },
  {
   "cell_type": "code",
   "execution_count": 16,
   "metadata": {
    "collapsed": false
   },
   "outputs": [],
   "source": [
    "write.csv(data_df, \"xmldata.csv\", row.names=FALSE, na=\"\")"
   ]
  },
  {
   "cell_type": "markdown",
   "metadata": {},
   "source": [
    "<b>Conclusion:</b> In this way we have converted the XML file to data frame, and then from data frame stored it in csv file."
   ]
  }
 ],
 "metadata": {
  "kernelspec": {
   "display_name": "R",
   "language": "R",
   "name": "ir"
  },
  "language_info": {
   "codemirror_mode": "r",
   "file_extension": ".r",
   "mimetype": "text/x-r-source",
   "name": "R",
   "pygments_lexer": "r",
   "version": "3.3.2"
  }
 },
 "nbformat": 4,
 "nbformat_minor": 2
}
