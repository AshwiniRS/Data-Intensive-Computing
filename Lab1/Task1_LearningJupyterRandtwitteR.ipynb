{
 "cells": [
  {
   "cell_type": "markdown",
   "metadata": {},
   "source": [
    "<b><h1> Task 1 :  Learning Jupyter, R and twitteR"
   ]
  },
  {
   "cell_type": "markdown",
   "metadata": {
    "collapsed": true
   },
   "source": [
    "<b> Step 1 : Import twitteR library </b>\n",
    "\n",
    "<i> twitteR package is intended to provide access to Twitter API within R which allows users to grab interesting subsets of Twitter data to perform their analytics."
   ]
  },
  {
   "cell_type": "code",
   "execution_count": 7,
   "metadata": {
    "collapsed": true
   },
   "outputs": [],
   "source": [
    "library(twitteR)"
   ]
  },
  {
   "cell_type": "markdown",
   "metadata": {
    "collapsed": true
   },
   "source": [
    "<b> Step 2 : Setup authentication for twitter </b>\n",
    "\n",
    "<i> OAuth is an authentication mechanism which allows applications to provide client functionality to a web service \n",
    "without granting an end user’s credentials to the client itself.\n",
    "\n",
    "<br>\n",
    "\n",
    "<i> Insert your keys in the following variables. </i>"
   ]
  },
  {
   "cell_type": "code",
   "execution_count": 8,
   "metadata": {
    "collapsed": false
   },
   "outputs": [
    {
     "name": "stdout",
     "output_type": "stream",
     "text": [
      "[1] \"Using direct authentication\"\n"
     ]
    }
   ],
   "source": [
    "consumer_key <- \"\"\n",
    "consumer_secret <- \"\"\n",
    "access_token <- \"\"\n",
    "access_secret <- \"\"\n",
    "setup_twitter_oauth(consumer_key, consumer_secret, access_token, access_secret)"
   ]
  },
  {
   "cell_type": "markdown",
   "metadata": {
    "collapsed": true
   },
   "source": [
    "<b> Step 3 : Search some topic on twitter using twitteR function </b>\n",
    "\n",
    "<i> searchTwitter - used to search tweets that match desired term. We can specify number of tweets to be returned,\n",
    "default tweets returned = 25"
   ]
  },
  {
   "cell_type": "code",
   "execution_count": 9,
   "metadata": {
    "collapsed": false
   },
   "outputs": [
    {
     "data": {
      "text/plain": [
       "[[1]]\n",
       "[1] \"iampatelji: RT @AAOLion: @narendramodi worked hardest2 earn FDI #MakeInIndia,\\n&amp; @realDonaldTrump is at #GreenCardOnSale just in Half Million? https://t",
       "\"\n",
       "\n",
       "[[2]]\n",
       "[1] \"ArVr9: RT @noconversion: Christianity is falling in WEST\\nthy failed miserably \\nINDIA 8% GDP growth is JUICY target \\n#IncredibleIndia \\n#MakeInIndia",
       "\"\n",
       "\n",
       "[[3]]\n",
       "[1] \"Roshan31730891: RT @AAOLion: @narendramodi worked hardest2 earn FDI #MakeInIndia,\\n&amp; @realDonaldTrump is at #GreenCardOnSale just in Half Million? https://t",
       "\"\n",
       "\n",
       "[[4]]\n",
       "[1] \"nirbhaisingh07: RT @AAOLion: @narendramodi worked hardest2 earn FDI #MakeInIndia,\\n&amp; @realDonaldTrump is at #GreenCardOnSale just in Half Million? https://t",
       "\"\n",
       "\n",
       "[[5]]\n",
       "[1] \"_dharam_vir: RT @noconversion: Christianity is falling in WEST\\nthy failed miserably \\nINDIA 8% GDP growth is JUICY target \\n#IncredibleIndia \\n#MakeInIndia",
       "\"\n",
       "\n",
       "[[6]]\n",
       "[1] \"mayank4bjp: RT @AAOLion: @narendramodi worked hardest2 earn FDI #MakeInIndia,\\n&amp; @realDonaldTrump is at #GreenCardOnSale just in Half Million? https://t",
       "\"\n"
      ]
     },
     "metadata": {},
     "output_type": "display_data"
    },
    {
     "name": "stdout",
     "output_type": "stream",
     "text": [
      "Number of tweets retrieved :  25"
     ]
    }
   ],
   "source": [
    "tweets <- searchTwitter('#MakeInIndia', n=25)\n",
    "head(tweets)\n",
    "cat (\"Number of tweets retrieved : \",length(tweets))"
   ]
  },
  {
   "cell_type": "markdown",
   "metadata": {
    "collapsed": true
   },
   "source": [
    "<i> strip_retweets - as the name suggest it will remove official API based tweets from Twitter <i>"
   ]
  },
  {
   "cell_type": "code",
   "execution_count": 10,
   "metadata": {
    "collapsed": false
   },
   "outputs": [
    {
     "data": {
      "text/plain": [
       "[[1]]\n",
       "[1] \"kunapanda: This is #MakeInIndia @yogrishiramdev https://t.co/rERC5QNrK0\"\n",
       "\n",
       "[[2]]\n",
       "[1] \"zahidpatka: #MakeInIndia \\nTop American aerospace, defence firms support 'Make in India'\\nhttps://t.co/gsUO0VXoei https://t.co/snhxwr2mNs\"\n",
       "\n",
       "[[3]]\n",
       "[1] \"kalpanabenpatel: Top American Aerospace, Defence Firms Support PM Narendra Modi's 'Make in India' Initiative\\n#MakeInIndia \\n\\nvia NMApp https://t.co/w31VCkYcK4\"\n",
       "\n",
       "[[4]]\n",
       "[1] \"prakashdangar: This goal of last two year has been realised now. #MakingIndiaDigital #DigitalIndia #MakeinIndia #Digital #Goal... https://t.co/qHFmOpS0z7\"\n",
       "\n",
       "[[5]]\n",
       "[1] \"AmitDeshmukhFC: @AmitV_Deshmukh @BWBusinessworld yes, cause it's #MadeinIndia &amp; not #MakeInIndia . govt &amp; @narendramodi  will support only Make in.\"\n"
      ]
     },
     "metadata": {},
     "output_type": "display_data"
    }
   ],
   "source": [
    "head(strip_retweets(tweets, strip_manual=TRUE, strip_mt=TRUE))"
   ]
  },
  {
   "cell_type": "markdown",
   "metadata": {
    "collapsed": true
   },
   "source": [
    "<i> In the above example the results may or may not change depending upon the rewteets present or not in your data"
   ]
  },
  {
   "cell_type": "markdown",
   "metadata": {
    "collapsed": true
   },
   "source": [
    "<b> Step 4 : To get information about twitter user </b>\n",
    "\n",
    "<i> getUser - to get information of any Twitter user who has profile public and granted access. \n",
    "It returns a user object. </i>"
   ]
  },
  {
   "cell_type": "code",
   "execution_count": 11,
   "metadata": {
    "collapsed": false
   },
   "outputs": [
    {
     "data": {
      "text/html": [
       "'Dad, husband, President, citizen.'"
      ],
      "text/latex": [
       "'Dad, husband, President, citizen.'"
      ],
      "text/markdown": [
       "'Dad, husband, President, citizen.'"
      ],
      "text/plain": [
       "[1] \"Dad, husband, President, citizen.\""
      ]
     },
     "metadata": {},
     "output_type": "display_data"
    }
   ],
   "source": [
    "user <- getUser('BarackObama')\n",
    "user$getDescription()"
   ]
  },
  {
   "cell_type": "markdown",
   "metadata": {
    "collapsed": true
   },
   "source": [
    "<i> user object can be polled for further information such as followers count, favourites etc. </i>\n",
    "\n",
    "\n",
    "<i>name: Name of the user <br>\n",
    "screenName: Screen name of the user <br>\n",
    "id: ID value for this user <br>\n",
    "lastStatus: Last status update for the user <br>\n",
    "description: User's description <br>\n",
    "statusesCount: Number of status updates this user has had <br>\n",
    "followersCount: Number of followers for this user <br>\n",
    "favoritesCount: Number of favorites for this user <br>\n",
    "friendsCount: Number of followees for this user <br>\n",
    "url: A URL associated with this user <br>\n",
    "created: When this user was created <br>\n",
    "protected: Whether or not this user is protected <br>\n",
    "verified: Whether or not this user is verified <br>\n",
    "location: Location of the user <br>\n",
    "listedCount: The number of times this user appears in public lists <br>\n",
    "followRequestSent: If authenticated via OAuth, will be TRUE if you've sent a friend request to this user <br>\n",
    "profileImageUrl: URL of the user's profile image, if one exists <br></i>"
   ]
  },
  {
   "cell_type": "code",
   "execution_count": 12,
   "metadata": {
    "collapsed": false
   },
   "outputs": [
    {
     "data": {
      "text/html": [
       "84686951"
      ],
      "text/latex": [
       "84686951"
      ],
      "text/markdown": [
       "84686951"
      ],
      "text/plain": [
       "[1] 84686951"
      ]
     },
     "metadata": {},
     "output_type": "display_data"
    }
   ],
   "source": [
    "user$getFollowersCount()"
   ]
  },
  {
   "cell_type": "code",
   "execution_count": 13,
   "metadata": {
    "collapsed": false
   },
   "outputs": [
    {
     "data": {
      "text/plain": [
       "[[1]]\n",
       "[1] \"HamiltonMusical: One last time.  https://t.co/u9DvWe7RGD\"\n",
       "\n",
       "[[2]]\n",
       "[1] \"pitchfork: .@BarackObama<U+200B> is the only American @POTUS you could reliably trust to DJ a party http://t.co/enrqMsVeQB http://t.co/sIG1nmVtsk\"\n",
       "\n",
       "[[3]]\n",
       "[1] \"NancyPelosi: If too much #girlpower can break the Internet, we might be in trouble. #progress4women #womensucceed http://t.co/ekid9fFAsH\"\n",
       "\n",
       "[[4]]\n",
       "[1] \"funnyordie: One girl saves the world from junk food. Starring @ChloeGMoretz @TylerGPosey &amp; @MichelleObama: http://t.co/NvM9rUC0uJ http://t.co/lEM1XTGAaX\"\n",
       "\n",
       "[[5]]\n",
       "[1] \"DeptofDefense: From 1 SecDef to another: Hagel calls @timhowardgk to say thanks for defending USA. We (USA) are proud of @ussoccer! http://t.co/M8nsYdlXFn\"\n"
      ]
     },
     "metadata": {},
     "output_type": "display_data"
    }
   ],
   "source": [
    "user$getFavorites(n=5)"
   ]
  },
  {
   "cell_type": "code",
   "execution_count": 14,
   "metadata": {
    "collapsed": false
   },
   "outputs": [
    {
     "data": {
      "text/plain": [
       "[1] \"2007-03-05 22:08:25 UTC\""
      ]
     },
     "metadata": {},
     "output_type": "display_data"
    }
   ],
   "source": [
    "user$created"
   ]
  },
  {
   "cell_type": "code",
   "execution_count": 15,
   "metadata": {
    "collapsed": false
   },
   "outputs": [
    {
     "data": {
      "text/html": [
       "15435"
      ],
      "text/latex": [
       "15435"
      ],
      "text/markdown": [
       "15435"
      ],
      "text/plain": [
       "[1] 15435"
      ]
     },
     "metadata": {},
     "output_type": "display_data"
    }
   ],
   "source": [
    "user$statusesCount"
   ]
  },
  {
   "cell_type": "code",
   "execution_count": 16,
   "metadata": {
    "collapsed": false
   },
   "outputs": [
    {
     "data": {
      "text/html": [
       "'BarackObama'"
      ],
      "text/latex": [
       "'BarackObama'"
      ],
      "text/markdown": [
       "'BarackObama'"
      ],
      "text/plain": [
       "[1] \"BarackObama\""
      ]
     },
     "metadata": {},
     "output_type": "display_data"
    }
   ],
   "source": [
    "user$getScreenName()"
   ]
  },
  {
   "cell_type": "code",
   "execution_count": 17,
   "metadata": {
    "collapsed": false
   },
   "outputs": [
    {
     "data": {
      "text/html": [
       "'http://pbs.twimg.com/profile_images/822547732376207360/5g0FC8XX_normal.jpg'"
      ],
      "text/latex": [
       "'http://pbs.twimg.com/profile\\_images/822547732376207360/5g0FC8XX\\_normal.jpg'"
      ],
      "text/markdown": [
       "'http://pbs.twimg.com/profile_images/822547732376207360/5g0FC8XX_normal.jpg'"
      ],
      "text/plain": [
       "[1] \"http://pbs.twimg.com/profile_images/822547732376207360/5g0FC8XX_normal.jpg\""
      ]
     },
     "metadata": {},
     "output_type": "display_data"
    }
   ],
   "source": [
    "user$getProfileImageUrl()"
   ]
  },
  {
   "cell_type": "code",
   "execution_count": 18,
   "metadata": {
    "collapsed": false
   },
   "outputs": [
    {
     "data": {
      "text/html": [
       "'Washington, DC'"
      ],
      "text/latex": [
       "'Washington, DC'"
      ],
      "text/markdown": [
       "'Washington, DC'"
      ],
      "text/plain": [
       "[1] \"Washington, DC\""
      ]
     },
     "metadata": {},
     "output_type": "display_data"
    }
   ],
   "source": [
    "user$getLocation()"
   ]
  },
  {
   "cell_type": "code",
   "execution_count": 19,
   "metadata": {
    "collapsed": false
   },
   "outputs": [
    {
     "data": {
      "text/plain": [
       "[1] \"Unknown: Happy Valentines Day, @michelleobama! Almost 28 years with you, but it always feels new. https://t.co/O0UhJWoqGN\""
      ]
     },
     "metadata": {},
     "output_type": "display_data"
    }
   ],
   "source": [
    "user$getLastStatus()"
   ]
  },
  {
   "cell_type": "markdown",
   "metadata": {
    "collapsed": true
   },
   "source": [
    "<b> Step 5 : To convert list to data frame </b>\n",
    "\n",
    "<i> This function will take a list of objects from a single twitteR class and return a data.frame version of the members. </i>"
   ]
  },
  {
   "cell_type": "code",
   "execution_count": 20,
   "metadata": {
    "collapsed": false
   },
   "outputs": [
    {
     "data": {
      "text/html": [
       "<table>\n",
       "<thead><tr><th scope=col>text</th><th scope=col>favorited</th><th scope=col>favoriteCount</th><th scope=col>replyToSN</th><th scope=col>created</th><th scope=col>truncated</th><th scope=col>replyToSID</th><th scope=col>id</th><th scope=col>replyToUID</th><th scope=col>statusSource</th><th scope=col>screenName</th><th scope=col>retweetCount</th><th scope=col>isRetweet</th><th scope=col>retweeted</th><th scope=col>longitude</th><th scope=col>latitude</th></tr></thead>\n",
       "<tbody>\n",
       "\t<tr><td>RT @AAOLion: @narendramodi worked hardest2 earn FDI #MakeInIndia,\n",
       "&amp;amp; @realDonaldTrump is at #GreenCardOnSale just in Half Million? https://t…</td><td>FALSE                                                                                                                                                </td><td>0                                                                                                                                                    </td><td>NA                                                                                                                                                   </td><td>2017-02-17 04:10:46                                                                                                                                  </td><td>FALSE                                                                                                                                                </td><td>NA                                                                                                                                                   </td><td>832442137098801153                                                                                                                                   </td><td>NA                                                                                                                                                   </td><td>&lt;a href=\"http://twitter.com/download/android\" rel=\"nofollow\"&gt;Twitter for Android&lt;/a&gt;                                                     </td><td><span style=white-space:pre-wrap>iampatelji    </span>                                                                                               </td><td>37                                                                                                                                                   </td><td>TRUE                                                                                                                                                 </td><td>FALSE                                                                                                                                                </td><td>NA                                                                                                                                                   </td><td>NA                                                                                                                                                   </td></tr>\n",
       "\t<tr><td>RT @noconversion: Christianity is falling in WEST\n",
       "thy failed miserably \n",
       "INDIA 8% GDP growth is JUICY target \n",
       "#IncredibleIndia \n",
       "#MakeInIndia… </td><td>FALSE                                                                                                                                            </td><td>0                                                                                                                                                </td><td>NA                                                                                                                                               </td><td>2017-02-17 04:10:27                                                                                                                              </td><td>FALSE                                                                                                                                            </td><td>NA                                                                                                                                               </td><td>832442058782687232                                                                                                                               </td><td>NA                                                                                                                                               </td><td>&lt;a href=\"http://twitter.com/download/android\" rel=\"nofollow\"&gt;Twitter for Android&lt;/a&gt;                                                 </td><td><span style=white-space:pre-wrap>ArVr9         </span>                                                                                           </td><td>96                                                                                                                                               </td><td>TRUE                                                                                                                                             </td><td>FALSE                                                                                                                                            </td><td>NA                                                                                                                                               </td><td>NA                                                                                                                                               </td></tr>\n",
       "\t<tr><td>RT @AAOLion: @narendramodi worked hardest2 earn FDI #MakeInIndia,\n",
       "&amp;amp; @realDonaldTrump is at #GreenCardOnSale just in Half Million? https://t…</td><td>FALSE                                                                                                                                                </td><td>0                                                                                                                                                    </td><td>NA                                                                                                                                                   </td><td>2017-02-17 04:10:13                                                                                                                                  </td><td>FALSE                                                                                                                                                </td><td>NA                                                                                                                                                   </td><td>832442001081659393                                                                                                                                   </td><td>NA                                                                                                                                                   </td><td>&lt;a href=\"http://twitter.com/download/android\" rel=\"nofollow\"&gt;Twitter for Android&lt;/a&gt;                                                     </td><td>Roshan31730891                                                                                                                                       </td><td>37                                                                                                                                                   </td><td>TRUE                                                                                                                                                 </td><td>FALSE                                                                                                                                                </td><td>NA                                                                                                                                                   </td><td>NA                                                                                                                                                   </td></tr>\n",
       "\t<tr><td>RT @AAOLion: @narendramodi worked hardest2 earn FDI #MakeInIndia,\n",
       "&amp;amp; @realDonaldTrump is at #GreenCardOnSale just in Half Million? https://t…</td><td>FALSE                                                                                                                                                </td><td>0                                                                                                                                                    </td><td>NA                                                                                                                                                   </td><td>2017-02-17 04:10:04                                                                                                                                  </td><td>FALSE                                                                                                                                                </td><td>NA                                                                                                                                                   </td><td>832441960950558721                                                                                                                                   </td><td>NA                                                                                                                                                   </td><td>&lt;a href=\"http://twitter.com/download/android\" rel=\"nofollow\"&gt;Twitter for Android&lt;/a&gt;                                                     </td><td>nirbhaisingh07                                                                                                                                       </td><td>37                                                                                                                                                   </td><td>TRUE                                                                                                                                                 </td><td>FALSE                                                                                                                                                </td><td>NA                                                                                                                                                   </td><td>NA                                                                                                                                                   </td></tr>\n",
       "\t<tr><td>RT @noconversion: Christianity is falling in WEST\n",
       "thy failed miserably \n",
       "INDIA 8% GDP growth is JUICY target \n",
       "#IncredibleIndia \n",
       "#MakeInIndia… </td><td>FALSE                                                                                                                                            </td><td>0                                                                                                                                                </td><td>NA                                                                                                                                               </td><td>2017-02-17 04:09:20                                                                                                                              </td><td>FALSE                                                                                                                                            </td><td>NA                                                                                                                                               </td><td>832441776673849345                                                                                                                               </td><td>NA                                                                                                                                               </td><td><span style=white-space:pre-wrap>&lt;a href=\"http://twitter.com/download/iphone\" rel=\"nofollow\"&gt;Twitter for iPhone&lt;/a&gt;  </span>         </td><td><span style=white-space:pre-wrap>_dharam_vir   </span>                                                                                           </td><td>96                                                                                                                                               </td><td>TRUE                                                                                                                                             </td><td>FALSE                                                                                                                                            </td><td>NA                                                                                                                                               </td><td>NA                                                                                                                                               </td></tr>\n",
       "\t<tr><td>RT @AAOLion: @narendramodi worked hardest2 earn FDI #MakeInIndia,\n",
       "&amp;amp; @realDonaldTrump is at #GreenCardOnSale just in Half Million? https://t…</td><td>FALSE                                                                                                                                                </td><td>0                                                                                                                                                    </td><td>NA                                                                                                                                                   </td><td>2017-02-17 04:08:04                                                                                                                                  </td><td>FALSE                                                                                                                                                </td><td>NA                                                                                                                                                   </td><td>832441460985208833                                                                                                                                   </td><td>NA                                                                                                                                                   </td><td>&lt;a href=\"http://twitter.com/download/android\" rel=\"nofollow\"&gt;Twitter for Android&lt;/a&gt;                                                     </td><td><span style=white-space:pre-wrap>mayank4bjp    </span>                                                                                               </td><td>37                                                                                                                                                   </td><td>TRUE                                                                                                                                                 </td><td>FALSE                                                                                                                                                </td><td>NA                                                                                                                                                   </td><td>NA                                                                                                                                                   </td></tr>\n",
       "</tbody>\n",
       "</table>\n"
      ],
      "text/latex": [
       "\\begin{tabular}{r|llllllllllllllll}\n",
       " text & favorited & favoriteCount & replyToSN & created & truncated & replyToSID & id & replyToUID & statusSource & screenName & retweetCount & isRetweet & retweeted & longitude & latitude\\\\\n",
       "\\hline\n",
       "\t RT @AAOLion: @narendramodi worked hardest2 earn FDI \\#MakeInIndia,\n",
       "\\&amp; @realDonaldTrump is at \\#GreenCardOnSale just in Half Million? https://t… & FALSE                                                                                                                                                   & 0                                                                                                                                                       & NA                                                                                                                                                      & 2017-02-17 04:10:46                                                                                                                                     & FALSE                                                                                                                                                   & NA                                                                                                                                                      & 832442137098801153                                                                                                                                      & NA                                                                                                                                                      & <a href=\"http://twitter.com/download/android\" rel=\"nofollow\">Twitter for Android</a>                                                                    & iampatelji                                                                                                                                              & 37                                                                                                                                                      & TRUE                                                                                                                                                    & FALSE                                                                                                                                                   & NA                                                                                                                                                      & NA                                                                                                                                                     \\\\\n",
       "\t RT @noconversion: Christianity is falling in WEST\n",
       "thy failed miserably \n",
       "INDIA 8\\% GDP growth is JUICY target \n",
       "\\#IncredibleIndia \n",
       "\\#MakeInIndia…  & FALSE                                                                                                                                                   & 0                                                                                                                                                       & NA                                                                                                                                                      & 2017-02-17 04:10:27                                                                                                                                     & FALSE                                                                                                                                                   & NA                                                                                                                                                      & 832442058782687232                                                                                                                                      & NA                                                                                                                                                      & <a href=\"http://twitter.com/download/android\" rel=\"nofollow\">Twitter for Android</a>                                                                    & ArVr9                                                                                                                                                   & 96                                                                                                                                                      & TRUE                                                                                                                                                    & FALSE                                                                                                                                                   & NA                                                                                                                                                      & NA                                                                                                                                                     \\\\\n",
       "\t RT @AAOLion: @narendramodi worked hardest2 earn FDI \\#MakeInIndia,\n",
       "\\&amp; @realDonaldTrump is at \\#GreenCardOnSale just in Half Million? https://t… & FALSE                                                                                                                                                   & 0                                                                                                                                                       & NA                                                                                                                                                      & 2017-02-17 04:10:13                                                                                                                                     & FALSE                                                                                                                                                   & NA                                                                                                                                                      & 832442001081659393                                                                                                                                      & NA                                                                                                                                                      & <a href=\"http://twitter.com/download/android\" rel=\"nofollow\">Twitter for Android</a>                                                                    & Roshan31730891                                                                                                                                          & 37                                                                                                                                                      & TRUE                                                                                                                                                    & FALSE                                                                                                                                                   & NA                                                                                                                                                      & NA                                                                                                                                                     \\\\\n",
       "\t RT @AAOLion: @narendramodi worked hardest2 earn FDI \\#MakeInIndia,\n",
       "\\&amp; @realDonaldTrump is at \\#GreenCardOnSale just in Half Million? https://t… & FALSE                                                                                                                                                   & 0                                                                                                                                                       & NA                                                                                                                                                      & 2017-02-17 04:10:04                                                                                                                                     & FALSE                                                                                                                                                   & NA                                                                                                                                                      & 832441960950558721                                                                                                                                      & NA                                                                                                                                                      & <a href=\"http://twitter.com/download/android\" rel=\"nofollow\">Twitter for Android</a>                                                                    & nirbhaisingh07                                                                                                                                          & 37                                                                                                                                                      & TRUE                                                                                                                                                    & FALSE                                                                                                                                                   & NA                                                                                                                                                      & NA                                                                                                                                                     \\\\\n",
       "\t RT @noconversion: Christianity is falling in WEST\n",
       "thy failed miserably \n",
       "INDIA 8\\% GDP growth is JUICY target \n",
       "\\#IncredibleIndia \n",
       "\\#MakeInIndia…  & FALSE                                                                                                                                                   & 0                                                                                                                                                       & NA                                                                                                                                                      & 2017-02-17 04:09:20                                                                                                                                     & FALSE                                                                                                                                                   & NA                                                                                                                                                      & 832441776673849345                                                                                                                                      & NA                                                                                                                                                      & <a href=\"http://twitter.com/download/iphone\" rel=\"nofollow\">Twitter for iPhone</a>                                                                      & \\_dharam\\_vir                                                                                                                                         & 96                                                                                                                                                      & TRUE                                                                                                                                                    & FALSE                                                                                                                                                   & NA                                                                                                                                                      & NA                                                                                                                                                     \\\\\n",
       "\t RT @AAOLion: @narendramodi worked hardest2 earn FDI \\#MakeInIndia,\n",
       "\\&amp; @realDonaldTrump is at \\#GreenCardOnSale just in Half Million? https://t… & FALSE                                                                                                                                                   & 0                                                                                                                                                       & NA                                                                                                                                                      & 2017-02-17 04:08:04                                                                                                                                     & FALSE                                                                                                                                                   & NA                                                                                                                                                      & 832441460985208833                                                                                                                                      & NA                                                                                                                                                      & <a href=\"http://twitter.com/download/android\" rel=\"nofollow\">Twitter for Android</a>                                                                    & mayank4bjp                                                                                                                                              & 37                                                                                                                                                      & TRUE                                                                                                                                                    & FALSE                                                                                                                                                   & NA                                                                                                                                                      & NA                                                                                                                                                     \\\\\n",
       "\\end{tabular}\n"
      ],
      "text/markdown": [
       "\n",
       "text | favorited | favoriteCount | replyToSN | created | truncated | replyToSID | id | replyToUID | statusSource | screenName | retweetCount | isRetweet | retweeted | longitude | latitude | \n",
       "|---|---|---|---|---|---|\n",
       "| RT @AAOLion: @narendramodi worked hardest2 earn FDI #MakeInIndia,\n",
       "&amp; @realDonaldTrump is at #GreenCardOnSale just in Half Million? https://t… | FALSE                                                                                                                                             | 0                                                                                                                                                 | NA                                                                                                                                                | 2017-02-17 04:10:46                                                                                                                               | FALSE                                                                                                                                             | NA                                                                                                                                                | 832442137098801153                                                                                                                                | NA                                                                                                                                                | <a href=\"http://twitter.com/download/android\" rel=\"nofollow\">Twitter for Android</a>                                                              | iampatelji                                                                                                                                        | 37                                                                                                                                                | TRUE                                                                                                                                              | FALSE                                                                                                                                             | NA                                                                                                                                                | NA                                                                                                                                                | \n",
       "| RT @noconversion: Christianity is falling in WEST\n",
       "thy failed miserably \n",
       "INDIA 8% GDP growth is JUICY target \n",
       "#IncredibleIndia \n",
       "#MakeInIndia…  | FALSE                                                                                                                                             | 0                                                                                                                                                 | NA                                                                                                                                                | 2017-02-17 04:10:27                                                                                                                               | FALSE                                                                                                                                             | NA                                                                                                                                                | 832442058782687232                                                                                                                                | NA                                                                                                                                                | <a href=\"http://twitter.com/download/android\" rel=\"nofollow\">Twitter for Android</a>                                                              | ArVr9                                                                                                                                             | 96                                                                                                                                                | TRUE                                                                                                                                              | FALSE                                                                                                                                             | NA                                                                                                                                                | NA                                                                                                                                                | \n",
       "| RT @AAOLion: @narendramodi worked hardest2 earn FDI #MakeInIndia,\n",
       "&amp; @realDonaldTrump is at #GreenCardOnSale just in Half Million? https://t… | FALSE                                                                                                                                             | 0                                                                                                                                                 | NA                                                                                                                                                | 2017-02-17 04:10:13                                                                                                                               | FALSE                                                                                                                                             | NA                                                                                                                                                | 832442001081659393                                                                                                                                | NA                                                                                                                                                | <a href=\"http://twitter.com/download/android\" rel=\"nofollow\">Twitter for Android</a>                                                              | Roshan31730891                                                                                                                                    | 37                                                                                                                                                | TRUE                                                                                                                                              | FALSE                                                                                                                                             | NA                                                                                                                                                | NA                                                                                                                                                | \n",
       "| RT @AAOLion: @narendramodi worked hardest2 earn FDI #MakeInIndia,\n",
       "&amp; @realDonaldTrump is at #GreenCardOnSale just in Half Million? https://t… | FALSE                                                                                                                                             | 0                                                                                                                                                 | NA                                                                                                                                                | 2017-02-17 04:10:04                                                                                                                               | FALSE                                                                                                                                             | NA                                                                                                                                                | 832441960950558721                                                                                                                                | NA                                                                                                                                                | <a href=\"http://twitter.com/download/android\" rel=\"nofollow\">Twitter for Android</a>                                                              | nirbhaisingh07                                                                                                                                    | 37                                                                                                                                                | TRUE                                                                                                                                              | FALSE                                                                                                                                             | NA                                                                                                                                                | NA                                                                                                                                                | \n",
       "| RT @noconversion: Christianity is falling in WEST\n",
       "thy failed miserably \n",
       "INDIA 8% GDP growth is JUICY target \n",
       "#IncredibleIndia \n",
       "#MakeInIndia…  | FALSE                                                                                                                                             | 0                                                                                                                                                 | NA                                                                                                                                                | 2017-02-17 04:09:20                                                                                                                               | FALSE                                                                                                                                             | NA                                                                                                                                                | 832441776673849345                                                                                                                                | NA                                                                                                                                                | <a href=\"http://twitter.com/download/iphone\" rel=\"nofollow\">Twitter for iPhone</a>                                                                | _dharam_vir                                                                                                                                       | 96                                                                                                                                                | TRUE                                                                                                                                              | FALSE                                                                                                                                             | NA                                                                                                                                                | NA                                                                                                                                                | \n",
       "| RT @AAOLion: @narendramodi worked hardest2 earn FDI #MakeInIndia,\n",
       "&amp; @realDonaldTrump is at #GreenCardOnSale just in Half Million? https://t… | FALSE                                                                                                                                             | 0                                                                                                                                                 | NA                                                                                                                                                | 2017-02-17 04:08:04                                                                                                                               | FALSE                                                                                                                                             | NA                                                                                                                                                | 832441460985208833                                                                                                                                | NA                                                                                                                                                | <a href=\"http://twitter.com/download/android\" rel=\"nofollow\">Twitter for Android</a>                                                              | mayank4bjp                                                                                                                                        | 37                                                                                                                                                | TRUE                                                                                                                                              | FALSE                                                                                                                                             | NA                                                                                                                                                | NA                                                                                                                                                | \n",
       "\n",
       "\n"
      ],
      "text/plain": [
       "  text                                                                                                                                             \n",
       "1 RT @AAOLion: @narendramodi worked hardest2 earn FDI #MakeInIndia,\\n&amp; @realDonaldTrump is at #GreenCardOnSale just in Half Million? https://t",
       "\n",
       "2 RT @noconversion: Christianity is falling in WEST\\nthy failed miserably \\nINDIA 8% GDP growth is JUICY target \\n#IncredibleIndia \\n#MakeInIndia",
       " \n",
       "3 RT @AAOLion: @narendramodi worked hardest2 earn FDI #MakeInIndia,\\n&amp; @realDonaldTrump is at #GreenCardOnSale just in Half Million? https://t",
       "\n",
       "4 RT @AAOLion: @narendramodi worked hardest2 earn FDI #MakeInIndia,\\n&amp; @realDonaldTrump is at #GreenCardOnSale just in Half Million? https://t",
       "\n",
       "5 RT @noconversion: Christianity is falling in WEST\\nthy failed miserably \\nINDIA 8% GDP growth is JUICY target \\n#IncredibleIndia \\n#MakeInIndia",
       " \n",
       "6 RT @AAOLion: @narendramodi worked hardest2 earn FDI #MakeInIndia,\\n&amp; @realDonaldTrump is at #GreenCardOnSale just in Half Million? https://t",
       "\n",
       "  favorited favoriteCount replyToSN created             truncated replyToSID\n",
       "1 FALSE     0             NA        2017-02-17 04:10:46 FALSE     NA        \n",
       "2 FALSE     0             NA        2017-02-17 04:10:27 FALSE     NA        \n",
       "3 FALSE     0             NA        2017-02-17 04:10:13 FALSE     NA        \n",
       "4 FALSE     0             NA        2017-02-17 04:10:04 FALSE     NA        \n",
       "5 FALSE     0             NA        2017-02-17 04:09:20 FALSE     NA        \n",
       "6 FALSE     0             NA        2017-02-17 04:08:04 FALSE     NA        \n",
       "  id                 replyToUID\n",
       "1 832442137098801153 NA        \n",
       "2 832442058782687232 NA        \n",
       "3 832442001081659393 NA        \n",
       "4 832441960950558721 NA        \n",
       "5 832441776673849345 NA        \n",
       "6 832441460985208833 NA        \n",
       "  statusSource                                                                        \n",
       "1 <a href=\"http://twitter.com/download/android\" rel=\"nofollow\">Twitter for Android</a>\n",
       "2 <a href=\"http://twitter.com/download/android\" rel=\"nofollow\">Twitter for Android</a>\n",
       "3 <a href=\"http://twitter.com/download/android\" rel=\"nofollow\">Twitter for Android</a>\n",
       "4 <a href=\"http://twitter.com/download/android\" rel=\"nofollow\">Twitter for Android</a>\n",
       "5 <a href=\"http://twitter.com/download/iphone\" rel=\"nofollow\">Twitter for iPhone</a>  \n",
       "6 <a href=\"http://twitter.com/download/android\" rel=\"nofollow\">Twitter for Android</a>\n",
       "  screenName     retweetCount isRetweet retweeted longitude latitude\n",
       "1 iampatelji     37           TRUE      FALSE     NA        NA      \n",
       "2 ArVr9          96           TRUE      FALSE     NA        NA      \n",
       "3 Roshan31730891 37           TRUE      FALSE     NA        NA      \n",
       "4 nirbhaisingh07 37           TRUE      FALSE     NA        NA      \n",
       "5 _dharam_vir    96           TRUE      FALSE     NA        NA      \n",
       "6 mayank4bjp     37           TRUE      FALSE     NA        NA      "
      ]
     },
     "metadata": {},
     "output_type": "display_data"
    }
   ],
   "source": [
    " df <- twListToDF(tweets)\n",
    " head(df)"
   ]
  },
  {
   "cell_type": "markdown",
   "metadata": {
    "collapsed": true
   },
   "source": [
    "<b> Step 6 : To store data in RSQLite database </b>\n",
    "\n",
    "<i> We can store the data from twitteR into RDBMS. \n",
    "dplyr- it provides some revolutionary tools for interacting with data stored in a database backend. </i>"
   ]
  },
  {
   "cell_type": "code",
   "execution_count": 21,
   "metadata": {
    "collapsed": true
   },
   "outputs": [],
   "source": [
    " sql_lite_file = tempfile()"
   ]
  },
  {
   "cell_type": "markdown",
   "metadata": {
    "collapsed": true
   },
   "source": [
    "<i> twitteR can have a database backend registered from which to store and load tweet and user data. \n",
    "These functions provide mechanisms for setting up the connection within twitteR Currently only RSQLite and RMySQL are supported. To use either of these DBI implementations the appropriate packages will need to be installed. The register_sqlite_backend and register_mysql_backend are convenience wrappers to both create the DBI connection and call register_db_backend.</i>"
   ]
  },
  {
   "cell_type": "code",
   "execution_count": 23,
   "metadata": {
    "collapsed": false
   },
   "outputs": [
    {
     "name": "stderr",
     "output_type": "stream",
     "text": [
      "Loading required namespace: RSQLite\n"
     ]
    }
   ],
   "source": [
    "register_sqlite_backend(sql_lite_file)"
   ]
  },
  {
   "cell_type": "code",
   "execution_count": 24,
   "metadata": {
    "collapsed": false
   },
   "outputs": [
    {
     "data": {
      "text/html": [
       "TRUE"
      ],
      "text/latex": [
       "TRUE"
      ],
      "text/markdown": [
       "TRUE"
      ],
      "text/plain": [
       "[1] TRUE"
      ]
     },
     "metadata": {},
     "output_type": "display_data"
    }
   ],
   "source": [
    "store_tweets_db(tweets)"
   ]
  },
  {
   "cell_type": "markdown",
   "metadata": {
    "collapsed": true
   },
   "source": [
    "<i> Now as we have stored data in our named tweets_db we retrieve it using load function. </i>"
   ]
  },
  {
   "cell_type": "code",
   "execution_count": 25,
   "metadata": {
    "collapsed": true
   },
   "outputs": [],
   "source": [
    "from_db = load_tweets_db()"
   ]
  },
  {
   "cell_type": "code",
   "execution_count": 26,
   "metadata": {
    "collapsed": false
   },
   "outputs": [
    {
     "data": {
      "text/plain": [
       "[[1]]\n",
       "[1] \"iampatelji: RT @AAOLion: @narendramodi worked hardest2 earn FDI #MakeInIndia,\\n&amp; @realDonaldTrump is at #GreenCardOnSale just in Half Million? https://t",
       "\"\n",
       "\n",
       "[[2]]\n",
       "[1] \"ArVr9: RT @noconversion: Christianity is falling in WEST\\nthy failed miserably \\nINDIA 8% GDP growth is JUICY target \\n#IncredibleIndia \\n#MakeInIndia",
       "\"\n",
       "\n",
       "[[3]]\n",
       "[1] \"Roshan31730891: RT @AAOLion: @narendramodi worked hardest2 earn FDI #MakeInIndia,\\n&amp; @realDonaldTrump is at #GreenCardOnSale just in Half Million? https://t",
       "\"\n",
       "\n",
       "[[4]]\n",
       "[1] \"nirbhaisingh07: RT @AAOLion: @narendramodi worked hardest2 earn FDI #MakeInIndia,\\n&amp; @realDonaldTrump is at #GreenCardOnSale just in Half Million? https://t",
       "\"\n",
       "\n",
       "[[5]]\n",
       "[1] \"_dharam_vir: RT @noconversion: Christianity is falling in WEST\\nthy failed miserably \\nINDIA 8% GDP growth is JUICY target \\n#IncredibleIndia \\n#MakeInIndia",
       "\"\n",
       "\n",
       "[[6]]\n",
       "[1] \"mayank4bjp: RT @AAOLion: @narendramodi worked hardest2 earn FDI #MakeInIndia,\\n&amp; @realDonaldTrump is at #GreenCardOnSale just in Half Million? https://t",
       "\"\n"
      ]
     },
     "metadata": {},
     "output_type": "display_data"
    }
   ],
   "source": [
    "head(from_db)"
   ]
  },
  {
   "cell_type": "markdown",
   "metadata": {
    "collapsed": true
   },
   "source": [
    "<i> A Twitter timeline is simply a stream of tweets. We support two timelines,the user timeline and the home timeline.\n",
    "The former provides the most recenttweets of a specified user while the latter is used to display your own most recent tweets. These both return a list of status objects. </i>"
   ]
  },
  {
   "cell_type": "code",
   "execution_count": 27,
   "metadata": {
    "collapsed": true
   },
   "outputs": [],
   "source": [
    "obama_tweets <- userTimeline('BarackObama')"
   ]
  },
  {
   "cell_type": "code",
   "execution_count": 28,
   "metadata": {
    "collapsed": false
   },
   "outputs": [
    {
     "data": {
      "text/plain": [
       "[[1]]\n",
       "[1] \"BarackObama: Happy Valentines Day, @michelleobama! Almost 28 years with you, but it always feels new. https://t.co/O0UhJWoqGN\"\n",
       "\n",
       "[[2]]\n",
       "[1] \"BarackObama: I read letters like these every single day. It was one of the best parts of the job  hearing from you. https://t.co/so1luBcszV\"\n",
       "\n",
       "[[3]]\n",
       "[1] \"BarackObama: In the meantime, I want to hear what you're thinking about the road ahead. So share your ideas with me here: https://t.co/GYkEOK8EuT\"\n",
       "\n",
       "[[4]]\n",
       "[1] \"BarackObama: Hi everybody! Back to the original handle. Is this thing still on? Michelle and I are off on a quick vacation, then well get back to work.\"\n",
       "\n",
       "[[5]]\n",
       "[1] \"BarackObama: Tonight, President Obama reflects on eight years of progress. Watch the #FarewellAddress at 9 pm ET: https://t.co/ZnwTsg155B #ObamaFarewell\"\n"
      ]
     },
     "metadata": {},
     "output_type": "display_data"
    }
   ],
   "source": [
    "obama_tweets[1:5]"
   ]
  },
  {
   "cell_type": "code",
   "execution_count": 29,
   "metadata": {
    "collapsed": false
   },
   "outputs": [
    {
     "data": {
      "text/plain": [
       "[[1]]\n",
       "[1] \"narendramodi: Received insightful &amp; enriching suggestions for this months #MannKiBaat. Keep sharing your ideas on the App. https://t.co/TYuxNNJfIf\"\n",
       "\n",
       "[[2]]\n",
       "[1] \"narendramodi: Warm birthday wishes to Telangana CM Shri K Chandrashekar Rao Garu. May he be blessed with a long life and good health.\"\n",
       "\n",
       "[[3]]\n",
       "[1] \"NASA: The Aesthetics &amp; Astronomy project studies how people from different walks of life interpret scientific imagery:",
       " https://t.co/ARMiAqqvC7\"\n",
       "\n",
       "[[4]]\n",
       "[1] \"NASA: RT @NASAEuropa: Curiouser and curiouser! How a puzzling sensor reading led to a new target in the search for habitable worlds https://t.co/",
       "\"\n",
       "\n",
       "[[5]]\n",
       "[1] \"NASA: How do you power a small satellite like the toaster-sized CubeSat? Maybe with these next generation batteries:",
       " https://t.co/IYgYnM5HAA\"\n"
      ]
     },
     "metadata": {},
     "output_type": "display_data"
    }
   ],
   "source": [
    "my_tweets <- homeTimeline()\n",
    "my_tweets[1:5]"
   ]
  },
  {
   "cell_type": "markdown",
   "metadata": {
    "collapsed": true
   },
   "source": [
    "<b> Step 7 : Find trends for a given location </b>\n",
    "\n",
    "\n",
    "<i> Twitter keeps track of topics that are popular at any given point of time, and allows one to extract that data. The getTrends function is used to pull current trend information from a given location using woeid. </i>"
   ]
  },
  {
   "cell_type": "markdown",
   "metadata": {
    "collapsed": true
   },
   "source": [
    "<i> The availableTrendLocations and closestTrendLocations functions will return a data.frame with three columns - name, country and woeid.\n",
    "\n",
    "The closestTrendLocations function will returnthe locations closest to the specified latitude and longitude. \n",
    "The getTrends function takes a specified woeid and returns the trending topics associated with that woeid. \n",
    "It returns a data.frame with the columns being name, url,promoted_content, query and woeid - one row per trend. </i>"
   ]
  },
  {
   "cell_type": "code",
   "execution_count": 30,
   "metadata": {
    "collapsed": false
   },
   "outputs": [],
   "source": [
    "avail_trends = availableTrendLocations()"
   ]
  },
  {
   "cell_type": "code",
   "execution_count": 31,
   "metadata": {
    "collapsed": false
   },
   "outputs": [
    {
     "data": {
      "text/html": [
       "<table>\n",
       "<thead><tr><th scope=col>name</th><th scope=col>country</th><th scope=col>woeid</th></tr></thead>\n",
       "<tbody>\n",
       "\t<tr><td>Worldwide</td><td>         </td><td>1        </td></tr>\n",
       "\t<tr><td>Winnipeg </td><td>Canada   </td><td>2972     </td></tr>\n",
       "\t<tr><td>Ottawa   </td><td>Canada   </td><td>3369     </td></tr>\n",
       "\t<tr><td>Quebec   </td><td>Canada   </td><td>3444     </td></tr>\n",
       "\t<tr><td>Montreal </td><td>Canada   </td><td>3534     </td></tr>\n",
       "\t<tr><td>Toronto  </td><td>Canada   </td><td>4118     </td></tr>\n",
       "</tbody>\n",
       "</table>\n"
      ],
      "text/latex": [
       "\\begin{tabular}{r|lll}\n",
       " name & country & woeid\\\\\n",
       "\\hline\n",
       "\t Worldwide &           & 1        \\\\\n",
       "\t Winnipeg  & Canada    & 2972     \\\\\n",
       "\t Ottawa    & Canada    & 3369     \\\\\n",
       "\t Quebec    & Canada    & 3444     \\\\\n",
       "\t Montreal  & Canada    & 3534     \\\\\n",
       "\t Toronto   & Canada    & 4118     \\\\\n",
       "\\end{tabular}\n"
      ],
      "text/markdown": [
       "\n",
       "name | country | woeid | \n",
       "|---|---|---|---|---|---|\n",
       "| Worldwide |           | 1         | \n",
       "| Winnipeg  | Canada    | 2972      | \n",
       "| Ottawa    | Canada    | 3369      | \n",
       "| Quebec    | Canada    | 3444      | \n",
       "| Montreal  | Canada    | 3534      | \n",
       "| Toronto   | Canada    | 4118      | \n",
       "\n",
       "\n"
      ],
      "text/plain": [
       "  name      country woeid\n",
       "1 Worldwide         1    \n",
       "2 Winnipeg  Canada  2972 \n",
       "3 Ottawa    Canada  3369 \n",
       "4 Quebec    Canada  3444 \n",
       "5 Montreal  Canada  3534 \n",
       "6 Toronto   Canada  4118 "
      ]
     },
     "metadata": {},
     "output_type": "display_data"
    }
   ],
   "source": [
    " head(avail_trends)"
   ]
  },
  {
   "cell_type": "code",
   "execution_count": 32,
   "metadata": {
    "collapsed": false
   },
   "outputs": [],
   "source": [
    "avail_trendsCountry = subset(avail_trends, country == \"India\")"
   ]
  },
  {
   "cell_type": "code",
   "execution_count": 33,
   "metadata": {
    "collapsed": true
   },
   "outputs": [],
   "source": [
    "woeidDelhi = subset(avail_trendsCountry, name == \"Delhi\")$woeid"
   ]
  },
  {
   "cell_type": "code",
   "execution_count": 34,
   "metadata": {
    "collapsed": false
   },
   "outputs": [],
   "source": [
    "woeidDelhi = subset(avail_trends, name == \"Delhi\")$woeid"
   ]
  },
  {
   "cell_type": "code",
   "execution_count": 35,
   "metadata": {
    "collapsed": false
   },
   "outputs": [],
   "source": [
    "trends = getTrends(woeid=woeidDelhi)"
   ]
  },
  {
   "cell_type": "code",
   "execution_count": 36,
   "metadata": {
    "collapsed": false
   },
   "outputs": [
    {
     "data": {
      "text/html": [
       "<table>\n",
       "<thead><tr><th scope=col>name</th><th scope=col>url</th><th scope=col>query</th><th scope=col>woeid</th></tr></thead>\n",
       "<tbody>\n",
       "\t<tr><td>#SP_BSP&lt;U+0915&gt;&lt;U+0941&gt;&lt;U+0936&gt;&lt;U+093E&gt;&lt;U+0938&gt;&lt;U+0928&gt;</td><td>http://twitter.com/search?q=%23SP_BSP%E0%A4%95%E0%A5%81%E0%A4%B6%E0%A4%BE%E0%A4%B8%E0%A4%A8</td><td>%23SP_BSP%E0%A4%95%E0%A5%81%E0%A4%B6%E0%A4%BE%E0%A4%B8%E0%A4%A8                            </td><td>20070458                                                                                   </td></tr>\n",
       "\t<tr><td>#ISICertifiedBJP                                                                           </td><td>http://twitter.com/search?q=%23ISICertifiedBJP                                             </td><td>%23ISICertifiedBJP                                                                         </td><td>20070458                                                                                   </td></tr>\n",
       "\t<tr><td>#103CrIn7Days                                                                              </td><td>http://twitter.com/search?q=%23103CrIn7Days                                                </td><td>%23103CrIn7Days                                                                            </td><td>20070458                                                                                   </td></tr>\n",
       "\t<tr><td>#ULSafetyFirst                                                                             </td><td>http://twitter.com/search?q=%23ULSafetyFirst                                               </td><td>%23ULSafetyFirst                                                                           </td><td>20070458                                                                                   </td></tr>\n",
       "\t<tr><td>#Vishwaroopam2                                                                             </td><td>http://twitter.com/search?q=%23Vishwaroopam2                                               </td><td>%23Vishwaroopam2                                                                           </td><td>20070458                                                                                   </td></tr>\n",
       "\t<tr><td>Urjit Patel                                                                                </td><td>http://twitter.com/search?q=%22Urjit+Patel%22                                              </td><td>%22Urjit+Patel%22                                                                          </td><td>20070458                                                                                   </td></tr>\n",
       "</tbody>\n",
       "</table>\n"
      ],
      "text/latex": [
       "\\begin{tabular}{r|llll}\n",
       " name & url & query & woeid\\\\\n",
       "\\hline\n",
       "\t \\#SP\\_BSP<U+0915><U+0941><U+0936><U+093E><U+0938><U+0928>                                                                         & http://twitter.com/search?q=\\%23SP\\_BSP\\%E0\\%A4\\%95\\%E0\\%A5\\%81\\%E0\\%A4\\%B6\\%E0\\%A4\\%BE\\%E0\\%A4\\%B8\\%E0\\%A4\\%A8 & \\%23SP\\_BSP\\%E0\\%A4\\%95\\%E0\\%A5\\%81\\%E0\\%A4\\%B6\\%E0\\%A4\\%BE\\%E0\\%A4\\%B8\\%E0\\%A4\\%A8                             & 20070458                                                                                                                           \\\\\n",
       "\t \\#ISICertifiedBJP                                                                            & http://twitter.com/search?q=\\%23ISICertifiedBJP                                              & \\%23ISICertifiedBJP                                                                          & 20070458                                                                                     \\\\\n",
       "\t \\#103CrIn7Days                                                                               & http://twitter.com/search?q=\\%23103CrIn7Days                                                 & \\%23103CrIn7Days                                                                             & 20070458                                                                                     \\\\\n",
       "\t \\#ULSafetyFirst                                                                              & http://twitter.com/search?q=\\%23ULSafetyFirst                                                & \\%23ULSafetyFirst                                                                            & 20070458                                                                                     \\\\\n",
       "\t \\#Vishwaroopam2                                                                              & http://twitter.com/search?q=\\%23Vishwaroopam2                                                & \\%23Vishwaroopam2                                                                            & 20070458                                                                                     \\\\\n",
       "\t Urjit Patel                                                                                     & http://twitter.com/search?q=\\%22Urjit+Patel\\%22                                               & \\%22Urjit+Patel\\%22                                                                           & 20070458                                                                                       \\\\\n",
       "\\end{tabular}\n"
      ],
      "text/markdown": [
       "\n",
       "name | url | query | woeid | \n",
       "|---|---|---|---|---|---|\n",
       "| #SP_BSP<U+0915><U+0941><U+0936><U+093E><U+0938><U+0928>                                     | http://twitter.com/search?q=%23SP_BSP%E0%A4%95%E0%A5%81%E0%A4%B6%E0%A4%BE%E0%A4%B8%E0%A4%A8 | %23SP_BSP%E0%A4%95%E0%A5%81%E0%A4%B6%E0%A4%BE%E0%A4%B8%E0%A4%A8                             | 20070458                                                                                    | \n",
       "| #ISICertifiedBJP                                                                            | http://twitter.com/search?q=%23ISICertifiedBJP                                              | %23ISICertifiedBJP                                                                          | 20070458                                                                                    | \n",
       "| #103CrIn7Days                                                                               | http://twitter.com/search?q=%23103CrIn7Days                                                 | %23103CrIn7Days                                                                             | 20070458                                                                                    | \n",
       "| #ULSafetyFirst                                                                              | http://twitter.com/search?q=%23ULSafetyFirst                                                | %23ULSafetyFirst                                                                            | 20070458                                                                                    | \n",
       "| #Vishwaroopam2                                                                              | http://twitter.com/search?q=%23Vishwaroopam2                                                | %23Vishwaroopam2                                                                            | 20070458                                                                                    | \n",
       "| Urjit Patel                                                                                 | http://twitter.com/search?q=%22Urjit+Patel%22                                               | %22Urjit+Patel%22                                                                           | 20070458                                                                                    | \n",
       "\n",
       "\n"
      ],
      "text/plain": [
       "  name                                                   \n",
       "1 #SP_BSP<U+0915><U+0941><U+0936><U+093E><U+0938><U+0928>\n",
       "2 #ISICertifiedBJP                                       \n",
       "3 #103CrIn7Days                                          \n",
       "4 #ULSafetyFirst                                         \n",
       "5 #Vishwaroopam2                                         \n",
       "6 Urjit Patel                                            \n",
       "  url                                                                                        \n",
       "1 http://twitter.com/search?q=%23SP_BSP%E0%A4%95%E0%A5%81%E0%A4%B6%E0%A4%BE%E0%A4%B8%E0%A4%A8\n",
       "2 http://twitter.com/search?q=%23ISICertifiedBJP                                             \n",
       "3 http://twitter.com/search?q=%23103CrIn7Days                                                \n",
       "4 http://twitter.com/search?q=%23ULSafetyFirst                                               \n",
       "5 http://twitter.com/search?q=%23Vishwaroopam2                                               \n",
       "6 http://twitter.com/search?q=%22Urjit+Patel%22                                              \n",
       "  query                                                           woeid   \n",
       "1 %23SP_BSP%E0%A4%95%E0%A5%81%E0%A4%B6%E0%A4%BE%E0%A4%B8%E0%A4%A8 20070458\n",
       "2 %23ISICertifiedBJP                                              20070458\n",
       "3 %23103CrIn7Days                                                 20070458\n",
       "4 %23ULSafetyFirst                                                20070458\n",
       "5 %23Vishwaroopam2                                                20070458\n",
       "6 %22Urjit+Patel%22                                               20070458"
      ]
     },
     "metadata": {},
     "output_type": "display_data"
    }
   ],
   "source": [
    "head(trends)"
   ]
  },
  {
   "cell_type": "code",
   "execution_count": 37,
   "metadata": {
    "collapsed": false,
    "scrolled": true
   },
   "outputs": [
    {
     "data": {
      "text/html": [
       "<table>\n",
       "<thead><tr><th scope=col>name</th><th scope=col>url</th><th scope=col>query</th><th scope=col>woeid</th></tr></thead>\n",
       "<tbody>\n",
       "\t<tr><td><span style=white-space:pre-wrap>#SP_BSP&lt;U+0915&gt;&lt;U+0941&gt;&lt;U+0936&gt;&lt;U+093E&gt;&lt;U+0938&gt;&lt;U+0928&gt;                                                                        </span>         </td><td><span style=white-space:pre-wrap>http://twitter.com/search?q=%23SP_BSP%E0%A4%95%E0%A5%81%E0%A4%B6%E0%A4%BE%E0%A4%B8%E0%A4%A8                                                                                 </span></td><td><span style=white-space:pre-wrap>%23SP_BSP%E0%A4%95%E0%A5%81%E0%A4%B6%E0%A4%BE%E0%A4%B8%E0%A4%A8                                                                                 </span>                            </td><td>20070458                                                                                                                                                                                                            </td></tr>\n",
       "\t<tr><td>#ISICertifiedBJP                                                                                                                                                            </td><td>http://twitter.com/search?q=%23ISICertifiedBJP                                                                                                                              </td><td>%23ISICertifiedBJP                                                                                                                                                          </td><td>20070458                                                                                                                                                                    </td></tr>\n",
       "\t<tr><td>#103CrIn7Days                                                                                                                                                               </td><td>http://twitter.com/search?q=%23103CrIn7Days                                                                                                                                 </td><td>%23103CrIn7Days                                                                                                                                                             </td><td>20070458                                                                                                                                                                    </td></tr>\n",
       "\t<tr><td>#ULSafetyFirst                                                                                                                                                              </td><td>http://twitter.com/search?q=%23ULSafetyFirst                                                                                                                                </td><td>%23ULSafetyFirst                                                                                                                                                            </td><td>20070458                                                                                                                                                                    </td></tr>\n",
       "\t<tr><td>#Vishwaroopam2                                                                                                                                                              </td><td>http://twitter.com/search?q=%23Vishwaroopam2                                                                                                                                </td><td>%23Vishwaroopam2                                                                                                                                                            </td><td>20070458                                                                                                                                                                    </td></tr>\n",
       "\t<tr><td>Urjit Patel                                                                                                                                                                 </td><td>http://twitter.com/search?q=%22Urjit+Patel%22                                                                                                                               </td><td>%22Urjit+Patel%22                                                                                                                                                           </td><td>20070458                                                                                                                                                                    </td></tr>\n",
       "\t<tr><td>HDFC Bank                                                                                                                                                                   </td><td>http://twitter.com/search?q=%22HDFC+Bank%22                                                                                                                                 </td><td>%22HDFC+Bank%22                                                                                                                                                             </td><td>20070458                                                                                                                                                                    </td></tr>\n",
       "\t<tr><td>Sufi                                                                                                                                                                        </td><td>http://twitter.com/search?q=Sufi                                                                                                                                            </td><td>Sufi                                                                                                                                                                        </td><td>20070458                                                                                                                                                                    </td></tr>\n",
       "\t<tr><td>Lee Jae-yong                                                                                                                                                                </td><td>http://twitter.com/search?q=%22Lee+Jae-yong%22                                                                                                                              </td><td>%22Lee+Jae-yong%22                                                                                                                                                          </td><td>20070458                                                                                                                                                                    </td></tr>\n",
       "\t<tr><td>Rajiv Bajaj                                                                                                                                                                 </td><td>http://twitter.com/search?q=%22Rajiv+Bajaj%22                                                                                                                               </td><td>%22Rajiv+Bajaj%22                                                                                                                                                           </td><td>20070458                                                                                                                                                                    </td></tr>\n",
       "\t<tr><td>UP CM                                                                                                                                                                       </td><td>http://twitter.com/search?q=%22UP+CM%22                                                                                                                                     </td><td>%22UP+CM%22                                                                                                                                                                 </td><td>20070458                                                                                                                                                                    </td></tr>\n",
       "\t<tr><td>Priyanka Gandhi                                                                                                                                                             </td><td>http://twitter.com/search?q=%22Priyanka+Gandhi%22                                                                                                                           </td><td>%22Priyanka+Gandhi%22                                                                                                                                                       </td><td>20070458                                                                                                                                                                    </td></tr>\n",
       "\t<tr><td>Munich                                                                                                                                                                      </td><td>http://twitter.com/search?q=Munich                                                                                                                                          </td><td>Munich                                                                                                                                                                      </td><td>20070458                                                                                                                                                                    </td></tr>\n",
       "\t<tr><td>Vikas Swarup                                                                                                                                                                </td><td>http://twitter.com/search?q=%22Vikas+Swarup%22                                                                                                                              </td><td>%22Vikas+Swarup%22                                                                                                                                                          </td><td>20070458                                                                                                                                                                    </td></tr>\n",
       "\t<tr><td>Hafiz Saeed                                                                                                                                                                 </td><td>http://twitter.com/search?q=%22Hafiz+Saeed%22                                                                                                                               </td><td>%22Hafiz+Saeed%22                                                                                                                                                           </td><td>20070458                                                                                                                                                                    </td></tr>\n",
       "\t<tr><td>TED TALKS WITH SRK                                                                                                                                                          </td><td>http://twitter.com/search?q=%22TED+TALKS+WITH+SRK%22                                                                                                                        </td><td>%22TED+TALKS+WITH+SRK%22                                                                                                                                                    </td><td>20070458                                                                                                                                                                    </td></tr>\n",
       "\t<tr><td>Army Chief                                                                                                                                                                  </td><td>http://twitter.com/search?q=%22Army+Chief%22                                                                                                                                </td><td>%22Army+Chief%22                                                                                                                                                            </td><td>20070458                                                                                                                                                                    </td></tr>\n",
       "\t<tr><td>JOLLY AGAIN THIS WEEKEND                                                                                                                                                    </td><td>http://twitter.com/search?q=%22JOLLY+AGAIN+THIS+WEEKEND%22                                                                                                                  </td><td>%22JOLLY+AGAIN+THIS+WEEKEND%22                                                                                                                                              </td><td>20070458                                                                                                                                                                    </td></tr>\n",
       "\t<tr><td>#HBDSIVAKARTHIKEYAN                                                                                                                                                         </td><td>http://twitter.com/search?q=%23HBDSIVAKARTHIKEYAN                                                                                                                           </td><td>%23HBDSIVAKARTHIKEYAN                                                                                                                                                       </td><td>20070458                                                                                                                                                                    </td></tr>\n",
       "\t<tr><td>#DJFLonFeb18th                                                                                                                                                              </td><td>http://twitter.com/search?q=%23DJFLonFeb18th                                                                                                                                </td><td>%23DJFLonFeb18th                                                                                                                                                            </td><td>20070458                                                                                                                                                                    </td></tr>\n",
       "\t<tr><td>#INDAvAUS                                                                                                                                                                   </td><td>http://twitter.com/search?q=%23INDAvAUS                                                                                                                                     </td><td>%23INDAvAUS                                                                                                                                                                 </td><td>20070458                                                                                                                                                                    </td></tr>\n",
       "\t<tr><td>#Baasha                                                                                                                                                                     </td><td>http://twitter.com/search?q=%23Baasha                                                                                                                                       </td><td>%23Baasha                                                                                                                                                                   </td><td>20070458                                                                                                                                                                    </td></tr>\n",
       "\t<tr><td>#TheHinduReFRESHED                                                                                                                                                          </td><td>http://twitter.com/search?q=%23TheHinduReFRESHED                                                                                                                            </td><td>%23TheHinduReFRESHED                                                                                                                                                        </td><td>20070458                                                                                                                                                                    </td></tr>\n",
       "\t<tr><td>#FridayFeeling                                                                                                                                                              </td><td>http://twitter.com/search?q=%23FridayFeeling                                                                                                                                </td><td>%23FridayFeeling                                                                                                                                                            </td><td>20070458                                                                                                                                                                    </td></tr>\n",
       "\t<tr><td><span style=white-space:pre-wrap>#HBD&lt;U+0BA4&gt;&lt;U+0B99&gt;&lt;U+0BCD&gt;&lt;U+0B95&gt;&lt;U+0BAE&gt;&lt;U+0B95&gt;&lt;U+0BB3&gt;&lt;U+0BCD&gt;DD                                                         </span></td><td><span style=white-space:pre-wrap>http://twitter.com/search?q=%23HBD%E0%AE%A4%E0%AE%99%E0%AF%8D%E0%AE%95%E0%AE%AE%E0%AE%95%E0%AE%B3%E0%AF%8DDD                                                                </span>   </td><td><span style=white-space:pre-wrap>%23HBD%E0%AE%A4%E0%AE%99%E0%AF%8D%E0%AE%95%E0%AE%AE%E0%AE%95%E0%AE%B3%E0%AF%8DDD                                                                </span>                               </td><td>20070458                                                                                                                                                                                                               </td></tr>\n",
       "\t<tr><td>#morningmotivation                                                                                                                                                          </td><td>http://twitter.com/search?q=%23morningmotivation                                                                                                                            </td><td>%23morningmotivation                                                                                                                                                        </td><td>20070458                                                                                                                                                                    </td></tr>\n",
       "\t<tr><td>#GhaziFromToday                                                                                                                                                             </td><td>http://twitter.com/search?q=%23GhaziFromToday                                                                                                                               </td><td>%23GhaziFromToday                                                                                                                                                           </td><td>20070458                                                                                                                                                                    </td></tr>\n",
       "\t<tr><td>#KattappavaKanom                                                                                                                                                            </td><td>http://twitter.com/search?q=%23KattappavaKanom                                                                                                                              </td><td>%23KattappavaKanom                                                                                                                                                          </td><td>20070458                                                                                                                                                                    </td></tr>\n",
       "\t<tr><td><span style=white-space:pre-wrap>#&lt;U+0CB9&gt;&lt;U+0CC6&gt;&lt;U+0CAC&gt;&lt;U+0CCD&gt;&lt;U+0CAC&gt;&lt;U+0CC1&gt;&lt;U+0CB2&gt;&lt;U+0CBF&gt;                                                              </span></td><td><span style=white-space:pre-wrap>http://twitter.com/search?q=%23%E0%B2%B9%E0%B3%86%E0%B2%AC%E0%B3%8D%E0%B2%AC%E0%B3%81%E0%B2%B2%E0%B2%BF                                                                     </span>   </td><td><span style=white-space:pre-wrap>%23%E0%B2%B9%E0%B3%86%E0%B2%AC%E0%B3%8D%E0%B2%AC%E0%B3%81%E0%B2%B2%E0%B2%BF                                                                     </span>                               </td><td>20070458                                                                                                                                                                                                               </td></tr>\n",
       "\t<tr><td>#TrumpPresser                                                                                                                                                               </td><td>http://twitter.com/search?q=%23TrumpPresser                                                                                                                                 </td><td>%23TrumpPresser                                                                                                                                                             </td><td>20070458                                                                                                                                                                    </td></tr>\n",
       "\t<tr><td>#KillPiracy                                                                                                                                                                 </td><td>http://twitter.com/search?q=%23KillPiracy                                                                                                                                   </td><td>%23KillPiracy                                                                                                                                                               </td><td>20070458                                                                                                                                                                    </td></tr>\n",
       "\t<tr><td>#Ignis                                                                                                                                                                      </td><td>http://twitter.com/search?q=%23Ignis                                                                                                                                        </td><td>%23Ignis                                                                                                                                                                    </td><td>20070458                                                                                                                                                                    </td></tr>\n",
       "\t<tr><td>#JohnWick2                                                                                                                                                                  </td><td>http://twitter.com/search?q=%23JohnWick2                                                                                                                                    </td><td>%23JohnWick2                                                                                                                                                                </td><td>20070458                                                                                                                                                                    </td></tr>\n",
       "\t<tr><td>#PizzaHutForIndia                                                                                                                                                           </td><td>http://twitter.com/search?q=%23PizzaHutForIndia                                                                                                                             </td><td>%23PizzaHutForIndia                                                                                                                                                         </td><td>20070458                                                                                                                                                                    </td></tr>\n",
       "\t<tr><td>#ISRO                                                                                                                                                                       </td><td>http://twitter.com/search?q=%23ISRO                                                                                                                                         </td><td>%23ISRO                                                                                                                                                                     </td><td>20070458                                                                                                                                                                    </td></tr>\n",
       "\t<tr><td>#EdappadiPalaniswami                                                                                                                                                        </td><td>http://twitter.com/search?q=%23EdappadiPalaniswami                                                                                                                          </td><td>%23EdappadiPalaniswami                                                                                                                                                      </td><td>20070458                                                                                                                                                                    </td></tr>\n",
       "\t<tr><td>#&lt;U+0928&gt;&lt;U+094B&gt;&lt;U+091F&gt;&lt;U+092C&gt;&lt;U+0902&gt;&lt;U+0926&gt;&lt;U+0940&gt;_&lt;U+0920&gt;&lt;U+0917&gt;&lt;U+0940&gt;_&lt;U+0915&gt;&lt;U+0947&gt;_100&lt;U+0926&gt;&lt;U+093F&gt;&lt;U+0928&gt;</td><td>http://twitter.com/search?q=%23%E0%A4%A8%E0%A5%8B%E0%A4%9F%E0%A4%AC%E0%A4%82%E0%A4%A6%E0%A5%80_%E0%A4%A0%E0%A4%97%E0%A5%80_%E0%A4%95%E0%A5%87_100%E0%A4%A6%E0%A4%BF%E0%A4%A8                                             </td><td>%23%E0%A4%A8%E0%A5%8B%E0%A4%9F%E0%A4%AC%E0%A4%82%E0%A4%A6%E0%A5%80_%E0%A4%A0%E0%A4%97%E0%A5%80_%E0%A4%95%E0%A5%87_100%E0%A4%A6%E0%A4%BF%E0%A4%A8                                                                         </td><td>20070458                                                                                                                                                                                                                 </td></tr>\n",
       "\t<tr><td>#PatanjaliMisleadingConsumers                                                                                                                                               </td><td>http://twitter.com/search?q=%23PatanjaliMisleadingConsumers                                                                                                                 </td><td>%23PatanjaliMisleadingConsumers                                                                                                                                             </td><td>20070458                                                                                                                                                                    </td></tr>\n",
       "\t<tr><td>#DumDum                                                                                                                                                                     </td><td>http://twitter.com/search?q=%23DumDum                                                                                                                                       </td><td>%23DumDum                                                                                                                                                                   </td><td>20070458                                                                                                                                                                    </td></tr>\n",
       "\t<tr><td>#VarunSays                                                                                                                                                                  </td><td>http://twitter.com/search?q=%23VarunSays                                                                                                                                    </td><td>%23VarunSays                                                                                                                                                                </td><td>20070458                                                                                                                                                                    </td></tr>\n",
       "\t<tr><td>#RunningShaadi                                                                                                                                                              </td><td>http://twitter.com/search?q=%23RunningShaadi                                                                                                                                </td><td>%23RunningShaadi                                                                                                                                                            </td><td>20070458                                                                                                                                                                    </td></tr>\n",
       "\t<tr><td>#ShilpaShettyWellnessLaunch                                                                                                                                                 </td><td>http://twitter.com/search?q=%23ShilpaShettyWellnessLaunch                                                                                                                   </td><td>%23ShilpaShettyWellnessLaunch                                                                                                                                               </td><td>20070458                                                                                                                                                                    </td></tr>\n",
       "\t<tr><td>#NASSCOM_ILF                                                                                                                                                                </td><td>http://twitter.com/search?q=%23NASSCOM_ILF                                                                                                                                  </td><td>%23NASSCOM_ILF                                                                                                                                                              </td><td>20070458                                                                                                                                                                    </td></tr>\n",
       "\t<tr><td>#WhatsYourDigiScore                                                                                                                                                         </td><td>http://twitter.com/search?q=%23WhatsYourDigiScore                                                                                                                           </td><td>%23WhatsYourDigiScore                                                                                                                                                       </td><td>20070458                                                                                                                                                                    </td></tr>\n",
       "\t<tr><td>#Peechaankai                                                                                                                                                                </td><td>http://twitter.com/search?q=%23Peechaankai                                                                                                                                  </td><td>%23Peechaankai                                                                                                                                                              </td><td>20070458                                                                                                                                                                    </td></tr>\n",
       "\t<tr><td>#Jharkhand                                                                                                                                                                  </td><td>http://twitter.com/search?q=%23Jharkhand                                                                                                                                    </td><td>%23Jharkhand                                                                                                                                                                </td><td>20070458                                                                                                                                                                    </td></tr>\n",
       "\t<tr><td>#IPL2017                                                                                                                                                                    </td><td>http://twitter.com/search?q=%23IPL2017                                                                                                                                      </td><td>%23IPL2017                                                                                                                                                                  </td><td>20070458                                                                                                                                                                    </td></tr>\n",
       "\t<tr><td>#HBDChallengingStarDarshan                                                                                                                                                  </td><td>http://twitter.com/search?q=%23HBDChallengingStarDarshan                                                                                                                    </td><td>%23HBDChallengingStarDarshan                                                                                                                                                </td><td>20070458                                                                                                                                                                    </td></tr>\n",
       "\t<tr><td>#Kuttram23                                                                                                                                                                  </td><td>http://twitter.com/search?q=%23Kuttram23                                                                                                                                    </td><td>%23Kuttram23                                                                                                                                                                </td><td>20070458                                                                                                                                                                    </td></tr>\n",
       "\t<tr><td>#TamilNadu                                                                                                                                                                  </td><td>http://twitter.com/search?q=%23TamilNadu                                                                                                                                    </td><td>%23TamilNadu                                                                                                                                                                </td><td>20070458                                                                                                                                                                    </td></tr>\n",
       "</tbody>\n",
       "</table>\n"
      ],
      "text/latex": [
       "\\begin{tabular}{r|llll}\n",
       " name & url & query & woeid\\\\\n",
       "\\hline\n",
       "\t \\#SP\\_BSP<U+0915><U+0941><U+0936><U+093E><U+0938><U+0928>                                                                                                                                                          & http://twitter.com/search?q=\\%23SP\\_BSP\\%E0\\%A4\\%95\\%E0\\%A5\\%81\\%E0\\%A4\\%B6\\%E0\\%A4\\%BE\\%E0\\%A4\\%B8\\%E0\\%A4\\%A8                                                                                  & \\%23SP\\_BSP\\%E0\\%A4\\%95\\%E0\\%A5\\%81\\%E0\\%A4\\%B6\\%E0\\%A4\\%BE\\%E0\\%A4\\%B8\\%E0\\%A4\\%A8                                                                                                              & 20070458                                                                                                                                                                                                            \\\\\n",
       "\t \\#ISICertifiedBJP                                                                                                                                                             & http://twitter.com/search?q=\\%23ISICertifiedBJP                                                                                                                               & \\%23ISICertifiedBJP                                                                                                                                                           & 20070458                                                                                                                                                                      \\\\\n",
       "\t \\#103CrIn7Days                                                                                                                                                                & http://twitter.com/search?q=\\%23103CrIn7Days                                                                                                                                  & \\%23103CrIn7Days                                                                                                                                                              & 20070458                                                                                                                                                                      \\\\\n",
       "\t \\#ULSafetyFirst                                                                                                                                                               & http://twitter.com/search?q=\\%23ULSafetyFirst                                                                                                                                 & \\%23ULSafetyFirst                                                                                                                                                             & 20070458                                                                                                                                                                      \\\\\n",
       "\t \\#Vishwaroopam2                                                                                                                                                               & http://twitter.com/search?q=\\%23Vishwaroopam2                                                                                                                                 & \\%23Vishwaroopam2                                                                                                                                                             & 20070458                                                                                                                                                                      \\\\\n",
       "\t Urjit Patel                                                                                                                                                                      & http://twitter.com/search?q=\\%22Urjit+Patel\\%22                                                                                                                                & \\%22Urjit+Patel\\%22                                                                                                                                                            & 20070458                                                                                                                                                                        \\\\\n",
       "\t HDFC Bank                                                                                                                                                                        & http://twitter.com/search?q=\\%22HDFC+Bank\\%22                                                                                                                                  & \\%22HDFC+Bank\\%22                                                                                                                                                              & 20070458                                                                                                                                                                        \\\\\n",
       "\t Sufi                                                                                                                                                                         & http://twitter.com/search?q=Sufi                                                                                                                                             & Sufi                                                                                                                                                                         & 20070458                                                                                                                                                                    \\\\\n",
       "\t Lee Jae-yong                                                                                                                                                                     & http://twitter.com/search?q=\\%22Lee+Jae-yong\\%22                                                                                                                               & \\%22Lee+Jae-yong\\%22                                                                                                                                                           & 20070458                                                                                                                                                                        \\\\\n",
       "\t Rajiv Bajaj                                                                                                                                                                      & http://twitter.com/search?q=\\%22Rajiv+Bajaj\\%22                                                                                                                                & \\%22Rajiv+Bajaj\\%22                                                                                                                                                            & 20070458                                                                                                                                                                        \\\\\n",
       "\t UP CM                                                                                                                                                                            & http://twitter.com/search?q=\\%22UP+CM\\%22                                                                                                                                      & \\%22UP+CM\\%22                                                                                                                                                                  & 20070458                                                                                                                                                                        \\\\\n",
       "\t Priyanka Gandhi                                                                                                                                                                  & http://twitter.com/search?q=\\%22Priyanka+Gandhi\\%22                                                                                                                            & \\%22Priyanka+Gandhi\\%22                                                                                                                                                        & 20070458                                                                                                                                                                        \\\\\n",
       "\t Munich                                                                                                                                                                       & http://twitter.com/search?q=Munich                                                                                                                                           & Munich                                                                                                                                                                       & 20070458                                                                                                                                                                    \\\\\n",
       "\t Vikas Swarup                                                                                                                                                                     & http://twitter.com/search?q=\\%22Vikas+Swarup\\%22                                                                                                                               & \\%22Vikas+Swarup\\%22                                                                                                                                                           & 20070458                                                                                                                                                                        \\\\\n",
       "\t Hafiz Saeed                                                                                                                                                                      & http://twitter.com/search?q=\\%22Hafiz+Saeed\\%22                                                                                                                                & \\%22Hafiz+Saeed\\%22                                                                                                                                                            & 20070458                                                                                                                                                                        \\\\\n",
       "\t TED TALKS WITH SRK                                                                                                                                                               & http://twitter.com/search?q=\\%22TED+TALKS+WITH+SRK\\%22                                                                                                                         & \\%22TED+TALKS+WITH+SRK\\%22                                                                                                                                                     & 20070458                                                                                                                                                                        \\\\\n",
       "\t Army Chief                                                                                                                                                                       & http://twitter.com/search?q=\\%22Army+Chief\\%22                                                                                                                                 & \\%22Army+Chief\\%22                                                                                                                                                             & 20070458                                                                                                                                                                        \\\\\n",
       "\t JOLLY AGAIN THIS WEEKEND                                                                                                                                                         & http://twitter.com/search?q=\\%22JOLLY+AGAIN+THIS+WEEKEND\\%22                                                                                                                   & \\%22JOLLY+AGAIN+THIS+WEEKEND\\%22                                                                                                                                               & 20070458                                                                                                                                                                        \\\\\n",
       "\t \\#HBDSIVAKARTHIKEYAN                                                                                                                                                          & http://twitter.com/search?q=\\%23HBDSIVAKARTHIKEYAN                                                                                                                            & \\%23HBDSIVAKARTHIKEYAN                                                                                                                                                        & 20070458                                                                                                                                                                      \\\\\n",
       "\t \\#DJFLonFeb18th                                                                                                                                                               & http://twitter.com/search?q=\\%23DJFLonFeb18th                                                                                                                                 & \\%23DJFLonFeb18th                                                                                                                                                             & 20070458                                                                                                                                                                      \\\\\n",
       "\t \\#INDAvAUS                                                                                                                                                                    & http://twitter.com/search?q=\\%23INDAvAUS                                                                                                                                      & \\%23INDAvAUS                                                                                                                                                                  & 20070458                                                                                                                                                                      \\\\\n",
       "\t \\#Baasha                                                                                                                                                                      & http://twitter.com/search?q=\\%23Baasha                                                                                                                                        & \\%23Baasha                                                                                                                                                                    & 20070458                                                                                                                                                                      \\\\\n",
       "\t \\#TheHinduReFRESHED                                                                                                                                                           & http://twitter.com/search?q=\\%23TheHinduReFRESHED                                                                                                                             & \\%23TheHinduReFRESHED                                                                                                                                                         & 20070458                                                                                                                                                                      \\\\\n",
       "\t \\#FridayFeeling                                                                                                                                                               & http://twitter.com/search?q=\\%23FridayFeeling                                                                                                                                 & \\%23FridayFeeling                                                                                                                                                             & 20070458                                                                                                                                                                      \\\\\n",
       "\t \\#HBD<U+0BA4><U+0B99><U+0BCD><U+0B95><U+0BAE><U+0B95><U+0BB3><U+0BCD>DD                                                                                                                                                       & http://twitter.com/search?q=\\%23HBD\\%E0\\%AE\\%A4\\%E0\\%AE\\%99\\%E0\\%AF\\%8D\\%E0\\%AE\\%95\\%E0\\%AE\\%AE\\%E0\\%AE\\%95\\%E0\\%AE\\%B3\\%E0\\%AF\\%8DDD                                                                 & \\%23HBD\\%E0\\%AE\\%A4\\%E0\\%AE\\%99\\%E0\\%AF\\%8D\\%E0\\%AE\\%95\\%E0\\%AE\\%AE\\%E0\\%AE\\%95\\%E0\\%AE\\%B3\\%E0\\%AF\\%8DDD                                                                                             & 20070458                                                                                                                                                                                                                      \\\\\n",
       "\t \\#morningmotivation                                                                                                                                                           & http://twitter.com/search?q=\\%23morningmotivation                                                                                                                             & \\%23morningmotivation                                                                                                                                                         & 20070458                                                                                                                                                                      \\\\\n",
       "\t \\#GhaziFromToday                                                                                                                                                              & http://twitter.com/search?q=\\%23GhaziFromToday                                                                                                                                & \\%23GhaziFromToday                                                                                                                                                            & 20070458                                                                                                                                                                      \\\\\n",
       "\t \\#KattappavaKanom                                                                                                                                                             & http://twitter.com/search?q=\\%23KattappavaKanom                                                                                                                               & \\%23KattappavaKanom                                                                                                                                                           & 20070458                                                                                                                                                                      \\\\\n",
       "\t \\#<U+0CB9><U+0CC6><U+0CAC><U+0CCD><U+0CAC><U+0CC1><U+0CB2><U+0CBF>                                                                                                                                                            & http://twitter.com/search?q=\\%23\\%E0\\%B2\\%B9\\%E0\\%B3\\%86\\%E0\\%B2\\%AC\\%E0\\%B3\\%8D\\%E0\\%B2\\%AC\\%E0\\%B3\\%81\\%E0\\%B2\\%B2\\%E0\\%B2\\%BF                                                                      & \\%23\\%E0\\%B2\\%B9\\%E0\\%B3\\%86\\%E0\\%B2\\%AC\\%E0\\%B3\\%8D\\%E0\\%B2\\%AC\\%E0\\%B3\\%81\\%E0\\%B2\\%B2\\%E0\\%B2\\%BF                                                                                                  & 20070458                                                                                                                                                                                                                      \\\\\n",
       "\t \\#TrumpPresser                                                                                                                                                                & http://twitter.com/search?q=\\%23TrumpPresser                                                                                                                                  & \\%23TrumpPresser                                                                                                                                                              & 20070458                                                                                                                                                                      \\\\\n",
       "\t \\#KillPiracy                                                                                                                                                                  & http://twitter.com/search?q=\\%23KillPiracy                                                                                                                                    & \\%23KillPiracy                                                                                                                                                                & 20070458                                                                                                                                                                      \\\\\n",
       "\t \\#Ignis                                                                                                                                                                       & http://twitter.com/search?q=\\%23Ignis                                                                                                                                         & \\%23Ignis                                                                                                                                                                     & 20070458                                                                                                                                                                      \\\\\n",
       "\t \\#JohnWick2                                                                                                                                                                   & http://twitter.com/search?q=\\%23JohnWick2                                                                                                                                     & \\%23JohnWick2                                                                                                                                                                 & 20070458                                                                                                                                                                      \\\\\n",
       "\t \\#PizzaHutForIndia                                                                                                                                                            & http://twitter.com/search?q=\\%23PizzaHutForIndia                                                                                                                              & \\%23PizzaHutForIndia                                                                                                                                                          & 20070458                                                                                                                                                                      \\\\\n",
       "\t \\#ISRO                                                                                                                                                                        & http://twitter.com/search?q=\\%23ISRO                                                                                                                                          & \\%23ISRO                                                                                                                                                                      & 20070458                                                                                                                                                                      \\\\\n",
       "\t \\#EdappadiPalaniswami                                                                                                                                                         & http://twitter.com/search?q=\\%23EdappadiPalaniswami                                                                                                                           & \\%23EdappadiPalaniswami                                                                                                                                                       & 20070458                                                                                                                                                                      \\\\\n",
       "\t \\#<U+0928><U+094B><U+091F><U+092C><U+0902><U+0926><U+0940>\\_<U+0920><U+0917><U+0940>\\_<U+0915><U+0947>\\_100<U+0926><U+093F><U+0928>                                                                                                                                        & http://twitter.com/search?q=\\%23\\%E0\\%A4\\%A8\\%E0\\%A5\\%8B\\%E0\\%A4\\%9F\\%E0\\%A4\\%AC\\%E0\\%A4\\%82\\%E0\\%A4\\%A6\\%E0\\%A5\\%80\\_\\%E0\\%A4\\%A0\\%E0\\%A4\\%97\\%E0\\%A5\\%80\\_\\%E0\\%A4\\%95\\%E0\\%A5\\%87\\_100\\%E0\\%A4\\%A6\\%E0\\%A4\\%BF\\%E0\\%A4\\%A8 & \\%23\\%E0\\%A4\\%A8\\%E0\\%A5\\%8B\\%E0\\%A4\\%9F\\%E0\\%A4\\%AC\\%E0\\%A4\\%82\\%E0\\%A4\\%A6\\%E0\\%A5\\%80\\_\\%E0\\%A4\\%A0\\%E0\\%A4\\%97\\%E0\\%A5\\%80\\_\\%E0\\%A4\\%95\\%E0\\%A5\\%87\\_100\\%E0\\%A4\\%A6\\%E0\\%A4\\%BF\\%E0\\%A4\\%A8                             & 20070458                                                                                                                                                                                                                                                                      \\\\\n",
       "\t \\#PatanjaliMisleadingConsumers                                                                                                                                                & http://twitter.com/search?q=\\%23PatanjaliMisleadingConsumers                                                                                                                  & \\%23PatanjaliMisleadingConsumers                                                                                                                                              & 20070458                                                                                                                                                                      \\\\\n",
       "\t \\#DumDum                                                                                                                                                                      & http://twitter.com/search?q=\\%23DumDum                                                                                                                                        & \\%23DumDum                                                                                                                                                                    & 20070458                                                                                                                                                                      \\\\\n",
       "\t \\#VarunSays                                                                                                                                                                   & http://twitter.com/search?q=\\%23VarunSays                                                                                                                                     & \\%23VarunSays                                                                                                                                                                 & 20070458                                                                                                                                                                      \\\\\n",
       "\t \\#RunningShaadi                                                                                                                                                               & http://twitter.com/search?q=\\%23RunningShaadi                                                                                                                                 & \\%23RunningShaadi                                                                                                                                                             & 20070458                                                                                                                                                                      \\\\\n",
       "\t \\#ShilpaShettyWellnessLaunch                                                                                                                                                  & http://twitter.com/search?q=\\%23ShilpaShettyWellnessLaunch                                                                                                                    & \\%23ShilpaShettyWellnessLaunch                                                                                                                                                & 20070458                                                                                                                                                                      \\\\\n",
       "\t \\#NASSCOM\\_ILF                                                                                                                                                                 & http://twitter.com/search?q=\\%23NASSCOM\\_ILF                                                                                                                                   & \\%23NASSCOM\\_ILF                                                                                                                                                               & 20070458                                                                                                                                                                        \\\\\n",
       "\t \\#WhatsYourDigiScore                                                                                                                                                          & http://twitter.com/search?q=\\%23WhatsYourDigiScore                                                                                                                            & \\%23WhatsYourDigiScore                                                                                                                                                        & 20070458                                                                                                                                                                      \\\\\n",
       "\t \\#Peechaankai                                                                                                                                                                 & http://twitter.com/search?q=\\%23Peechaankai                                                                                                                                   & \\%23Peechaankai                                                                                                                                                               & 20070458                                                                                                                                                                      \\\\\n",
       "\t \\#Jharkhand                                                                                                                                                                   & http://twitter.com/search?q=\\%23Jharkhand                                                                                                                                     & \\%23Jharkhand                                                                                                                                                                 & 20070458                                                                                                                                                                      \\\\\n",
       "\t \\#IPL2017                                                                                                                                                                     & http://twitter.com/search?q=\\%23IPL2017                                                                                                                                       & \\%23IPL2017                                                                                                                                                                   & 20070458                                                                                                                                                                      \\\\\n",
       "\t \\#HBDChallengingStarDarshan                                                                                                                                                   & http://twitter.com/search?q=\\%23HBDChallengingStarDarshan                                                                                                                     & \\%23HBDChallengingStarDarshan                                                                                                                                                 & 20070458                                                                                                                                                                      \\\\\n",
       "\t \\#Kuttram23                                                                                                                                                                   & http://twitter.com/search?q=\\%23Kuttram23                                                                                                                                     & \\%23Kuttram23                                                                                                                                                                 & 20070458                                                                                                                                                                      \\\\\n",
       "\t \\#TamilNadu                                                                                                                                                                   & http://twitter.com/search?q=\\%23TamilNadu                                                                                                                                     & \\%23TamilNadu                                                                                                                                                                 & 20070458                                                                                                                                                                      \\\\\n",
       "\\end{tabular}\n"
      ],
      "text/markdown": [
       "\n",
       "name | url | query | woeid | \n",
       "|---|---|---|---|---|---|---|---|---|---|---|---|---|---|---|---|---|---|---|---|---|---|---|---|---|---|---|---|---|---|---|---|---|---|---|---|---|---|---|---|---|---|---|---|---|---|---|---|---|---|\n",
       "| #SP_BSP<U+0915><U+0941><U+0936><U+093E><U+0938><U+0928>                                                                                                                      | http://twitter.com/search?q=%23SP_BSP%E0%A4%95%E0%A5%81%E0%A4%B6%E0%A4%BE%E0%A4%B8%E0%A4%A8                                                                                  | %23SP_BSP%E0%A4%95%E0%A5%81%E0%A4%B6%E0%A4%BE%E0%A4%B8%E0%A4%A8                                                                                                              | 20070458                                                                                                                                                                     | \n",
       "| #ISICertifiedBJP                                                                                                                                                             | http://twitter.com/search?q=%23ISICertifiedBJP                                                                                                                               | %23ISICertifiedBJP                                                                                                                                                           | 20070458                                                                                                                                                                     | \n",
       "| #103CrIn7Days                                                                                                                                                                | http://twitter.com/search?q=%23103CrIn7Days                                                                                                                                  | %23103CrIn7Days                                                                                                                                                              | 20070458                                                                                                                                                                     | \n",
       "| #ULSafetyFirst                                                                                                                                                               | http://twitter.com/search?q=%23ULSafetyFirst                                                                                                                                 | %23ULSafetyFirst                                                                                                                                                             | 20070458                                                                                                                                                                     | \n",
       "| #Vishwaroopam2                                                                                                                                                               | http://twitter.com/search?q=%23Vishwaroopam2                                                                                                                                 | %23Vishwaroopam2                                                                                                                                                             | 20070458                                                                                                                                                                     | \n",
       "| Urjit Patel                                                                                                                                                                  | http://twitter.com/search?q=%22Urjit+Patel%22                                                                                                                                | %22Urjit+Patel%22                                                                                                                                                            | 20070458                                                                                                                                                                     | \n",
       "| HDFC Bank                                                                                                                                                                    | http://twitter.com/search?q=%22HDFC+Bank%22                                                                                                                                  | %22HDFC+Bank%22                                                                                                                                                              | 20070458                                                                                                                                                                     | \n",
       "| Sufi                                                                                                                                                                         | http://twitter.com/search?q=Sufi                                                                                                                                             | Sufi                                                                                                                                                                         | 20070458                                                                                                                                                                     | \n",
       "| Lee Jae-yong                                                                                                                                                                 | http://twitter.com/search?q=%22Lee+Jae-yong%22                                                                                                                               | %22Lee+Jae-yong%22                                                                                                                                                           | 20070458                                                                                                                                                                     | \n",
       "| Rajiv Bajaj                                                                                                                                                                  | http://twitter.com/search?q=%22Rajiv+Bajaj%22                                                                                                                                | %22Rajiv+Bajaj%22                                                                                                                                                            | 20070458                                                                                                                                                                     | \n",
       "| UP CM                                                                                                                                                                        | http://twitter.com/search?q=%22UP+CM%22                                                                                                                                      | %22UP+CM%22                                                                                                                                                                  | 20070458                                                                                                                                                                     | \n",
       "| Priyanka Gandhi                                                                                                                                                              | http://twitter.com/search?q=%22Priyanka+Gandhi%22                                                                                                                            | %22Priyanka+Gandhi%22                                                                                                                                                        | 20070458                                                                                                                                                                     | \n",
       "| Munich                                                                                                                                                                       | http://twitter.com/search?q=Munich                                                                                                                                           | Munich                                                                                                                                                                       | 20070458                                                                                                                                                                     | \n",
       "| Vikas Swarup                                                                                                                                                                 | http://twitter.com/search?q=%22Vikas+Swarup%22                                                                                                                               | %22Vikas+Swarup%22                                                                                                                                                           | 20070458                                                                                                                                                                     | \n",
       "| Hafiz Saeed                                                                                                                                                                  | http://twitter.com/search?q=%22Hafiz+Saeed%22                                                                                                                                | %22Hafiz+Saeed%22                                                                                                                                                            | 20070458                                                                                                                                                                     | \n",
       "| TED TALKS WITH SRK                                                                                                                                                           | http://twitter.com/search?q=%22TED+TALKS+WITH+SRK%22                                                                                                                         | %22TED+TALKS+WITH+SRK%22                                                                                                                                                     | 20070458                                                                                                                                                                     | \n",
       "| Army Chief                                                                                                                                                                   | http://twitter.com/search?q=%22Army+Chief%22                                                                                                                                 | %22Army+Chief%22                                                                                                                                                             | 20070458                                                                                                                                                                     | \n",
       "| JOLLY AGAIN THIS WEEKEND                                                                                                                                                     | http://twitter.com/search?q=%22JOLLY+AGAIN+THIS+WEEKEND%22                                                                                                                   | %22JOLLY+AGAIN+THIS+WEEKEND%22                                                                                                                                               | 20070458                                                                                                                                                                     | \n",
       "| #HBDSIVAKARTHIKEYAN                                                                                                                                                          | http://twitter.com/search?q=%23HBDSIVAKARTHIKEYAN                                                                                                                            | %23HBDSIVAKARTHIKEYAN                                                                                                                                                        | 20070458                                                                                                                                                                     | \n",
       "| #DJFLonFeb18th                                                                                                                                                               | http://twitter.com/search?q=%23DJFLonFeb18th                                                                                                                                 | %23DJFLonFeb18th                                                                                                                                                             | 20070458                                                                                                                                                                     | \n",
       "| #INDAvAUS                                                                                                                                                                    | http://twitter.com/search?q=%23INDAvAUS                                                                                                                                      | %23INDAvAUS                                                                                                                                                                  | 20070458                                                                                                                                                                     | \n",
       "| #Baasha                                                                                                                                                                      | http://twitter.com/search?q=%23Baasha                                                                                                                                        | %23Baasha                                                                                                                                                                    | 20070458                                                                                                                                                                     | \n",
       "| #TheHinduReFRESHED                                                                                                                                                           | http://twitter.com/search?q=%23TheHinduReFRESHED                                                                                                                             | %23TheHinduReFRESHED                                                                                                                                                         | 20070458                                                                                                                                                                     | \n",
       "| #FridayFeeling                                                                                                                                                               | http://twitter.com/search?q=%23FridayFeeling                                                                                                                                 | %23FridayFeeling                                                                                                                                                             | 20070458                                                                                                                                                                     | \n",
       "| #HBD<U+0BA4><U+0B99><U+0BCD><U+0B95><U+0BAE><U+0B95><U+0BB3><U+0BCD>DD                                                                                                       | http://twitter.com/search?q=%23HBD%E0%AE%A4%E0%AE%99%E0%AF%8D%E0%AE%95%E0%AE%AE%E0%AE%95%E0%AE%B3%E0%AF%8DDD                                                                 | %23HBD%E0%AE%A4%E0%AE%99%E0%AF%8D%E0%AE%95%E0%AE%AE%E0%AE%95%E0%AE%B3%E0%AF%8DDD                                                                                             | 20070458                                                                                                                                                                     | \n",
       "| #morningmotivation                                                                                                                                                           | http://twitter.com/search?q=%23morningmotivation                                                                                                                             | %23morningmotivation                                                                                                                                                         | 20070458                                                                                                                                                                     | \n",
       "| #GhaziFromToday                                                                                                                                                              | http://twitter.com/search?q=%23GhaziFromToday                                                                                                                                | %23GhaziFromToday                                                                                                                                                            | 20070458                                                                                                                                                                     | \n",
       "| #KattappavaKanom                                                                                                                                                             | http://twitter.com/search?q=%23KattappavaKanom                                                                                                                               | %23KattappavaKanom                                                                                                                                                           | 20070458                                                                                                                                                                     | \n",
       "| #<U+0CB9><U+0CC6><U+0CAC><U+0CCD><U+0CAC><U+0CC1><U+0CB2><U+0CBF>                                                                                                            | http://twitter.com/search?q=%23%E0%B2%B9%E0%B3%86%E0%B2%AC%E0%B3%8D%E0%B2%AC%E0%B3%81%E0%B2%B2%E0%B2%BF                                                                      | %23%E0%B2%B9%E0%B3%86%E0%B2%AC%E0%B3%8D%E0%B2%AC%E0%B3%81%E0%B2%B2%E0%B2%BF                                                                                                  | 20070458                                                                                                                                                                     | \n",
       "| #TrumpPresser                                                                                                                                                                | http://twitter.com/search?q=%23TrumpPresser                                                                                                                                  | %23TrumpPresser                                                                                                                                                              | 20070458                                                                                                                                                                     | \n",
       "| #KillPiracy                                                                                                                                                                  | http://twitter.com/search?q=%23KillPiracy                                                                                                                                    | %23KillPiracy                                                                                                                                                                | 20070458                                                                                                                                                                     | \n",
       "| #Ignis                                                                                                                                                                       | http://twitter.com/search?q=%23Ignis                                                                                                                                         | %23Ignis                                                                                                                                                                     | 20070458                                                                                                                                                                     | \n",
       "| #JohnWick2                                                                                                                                                                   | http://twitter.com/search?q=%23JohnWick2                                                                                                                                     | %23JohnWick2                                                                                                                                                                 | 20070458                                                                                                                                                                     | \n",
       "| #PizzaHutForIndia                                                                                                                                                            | http://twitter.com/search?q=%23PizzaHutForIndia                                                                                                                              | %23PizzaHutForIndia                                                                                                                                                          | 20070458                                                                                                                                                                     | \n",
       "| #ISRO                                                                                                                                                                        | http://twitter.com/search?q=%23ISRO                                                                                                                                          | %23ISRO                                                                                                                                                                      | 20070458                                                                                                                                                                     | \n",
       "| #EdappadiPalaniswami                                                                                                                                                         | http://twitter.com/search?q=%23EdappadiPalaniswami                                                                                                                           | %23EdappadiPalaniswami                                                                                                                                                       | 20070458                                                                                                                                                                     | \n",
       "| #<U+0928><U+094B><U+091F><U+092C><U+0902><U+0926><U+0940>_<U+0920><U+0917><U+0940>_<U+0915><U+0947>_100<U+0926><U+093F><U+0928>                                              | http://twitter.com/search?q=%23%E0%A4%A8%E0%A5%8B%E0%A4%9F%E0%A4%AC%E0%A4%82%E0%A4%A6%E0%A5%80_%E0%A4%A0%E0%A4%97%E0%A5%80_%E0%A4%95%E0%A5%87_100%E0%A4%A6%E0%A4%BF%E0%A4%A8 | %23%E0%A4%A8%E0%A5%8B%E0%A4%9F%E0%A4%AC%E0%A4%82%E0%A4%A6%E0%A5%80_%E0%A4%A0%E0%A4%97%E0%A5%80_%E0%A4%95%E0%A5%87_100%E0%A4%A6%E0%A4%BF%E0%A4%A8                             | 20070458                                                                                                                                                                     | \n",
       "| #PatanjaliMisleadingConsumers                                                                                                                                                | http://twitter.com/search?q=%23PatanjaliMisleadingConsumers                                                                                                                  | %23PatanjaliMisleadingConsumers                                                                                                                                              | 20070458                                                                                                                                                                     | \n",
       "| #DumDum                                                                                                                                                                      | http://twitter.com/search?q=%23DumDum                                                                                                                                        | %23DumDum                                                                                                                                                                    | 20070458                                                                                                                                                                     | \n",
       "| #VarunSays                                                                                                                                                                   | http://twitter.com/search?q=%23VarunSays                                                                                                                                     | %23VarunSays                                                                                                                                                                 | 20070458                                                                                                                                                                     | \n",
       "| #RunningShaadi                                                                                                                                                               | http://twitter.com/search?q=%23RunningShaadi                                                                                                                                 | %23RunningShaadi                                                                                                                                                             | 20070458                                                                                                                                                                     | \n",
       "| #ShilpaShettyWellnessLaunch                                                                                                                                                  | http://twitter.com/search?q=%23ShilpaShettyWellnessLaunch                                                                                                                    | %23ShilpaShettyWellnessLaunch                                                                                                                                                | 20070458                                                                                                                                                                     | \n",
       "| #NASSCOM_ILF                                                                                                                                                                 | http://twitter.com/search?q=%23NASSCOM_ILF                                                                                                                                   | %23NASSCOM_ILF                                                                                                                                                               | 20070458                                                                                                                                                                     | \n",
       "| #WhatsYourDigiScore                                                                                                                                                          | http://twitter.com/search?q=%23WhatsYourDigiScore                                                                                                                            | %23WhatsYourDigiScore                                                                                                                                                        | 20070458                                                                                                                                                                     | \n",
       "| #Peechaankai                                                                                                                                                                 | http://twitter.com/search?q=%23Peechaankai                                                                                                                                   | %23Peechaankai                                                                                                                                                               | 20070458                                                                                                                                                                     | \n",
       "| #Jharkhand                                                                                                                                                                   | http://twitter.com/search?q=%23Jharkhand                                                                                                                                     | %23Jharkhand                                                                                                                                                                 | 20070458                                                                                                                                                                     | \n",
       "| #IPL2017                                                                                                                                                                     | http://twitter.com/search?q=%23IPL2017                                                                                                                                       | %23IPL2017                                                                                                                                                                   | 20070458                                                                                                                                                                     | \n",
       "| #HBDChallengingStarDarshan                                                                                                                                                   | http://twitter.com/search?q=%23HBDChallengingStarDarshan                                                                                                                     | %23HBDChallengingStarDarshan                                                                                                                                                 | 20070458                                                                                                                                                                     | \n",
       "| #Kuttram23                                                                                                                                                                   | http://twitter.com/search?q=%23Kuttram23                                                                                                                                     | %23Kuttram23                                                                                                                                                                 | 20070458                                                                                                                                                                     | \n",
       "| #TamilNadu                                                                                                                                                                   | http://twitter.com/search?q=%23TamilNadu                                                                                                                                     | %23TamilNadu                                                                                                                                                                 | 20070458                                                                                                                                                                     | \n",
       "\n",
       "\n"
      ],
      "text/plain": [
       "   name                                                                                                                           \n",
       "1  #SP_BSP<U+0915><U+0941><U+0936><U+093E><U+0938><U+0928>                                                                        \n",
       "2  #ISICertifiedBJP                                                                                                               \n",
       "3  #103CrIn7Days                                                                                                                  \n",
       "4  #ULSafetyFirst                                                                                                                 \n",
       "5  #Vishwaroopam2                                                                                                                 \n",
       "6  Urjit Patel                                                                                                                    \n",
       "7  HDFC Bank                                                                                                                      \n",
       "8  Sufi                                                                                                                           \n",
       "9  Lee Jae-yong                                                                                                                   \n",
       "10 Rajiv Bajaj                                                                                                                    \n",
       "11 UP CM                                                                                                                          \n",
       "12 Priyanka Gandhi                                                                                                                \n",
       "13 Munich                                                                                                                         \n",
       "14 Vikas Swarup                                                                                                                   \n",
       "15 Hafiz Saeed                                                                                                                    \n",
       "16 TED TALKS WITH SRK                                                                                                             \n",
       "17 Army Chief                                                                                                                     \n",
       "18 JOLLY AGAIN THIS WEEKEND                                                                                                       \n",
       "19 #HBDSIVAKARTHIKEYAN                                                                                                            \n",
       "20 #DJFLonFeb18th                                                                                                                 \n",
       "21 #INDAvAUS                                                                                                                      \n",
       "22 #Baasha                                                                                                                        \n",
       "23 #TheHinduReFRESHED                                                                                                             \n",
       "24 #FridayFeeling                                                                                                                 \n",
       "25 #HBD<U+0BA4><U+0B99><U+0BCD><U+0B95><U+0BAE><U+0B95><U+0BB3><U+0BCD>DD                                                         \n",
       "26 #morningmotivation                                                                                                             \n",
       "27 #GhaziFromToday                                                                                                                \n",
       "28 #KattappavaKanom                                                                                                               \n",
       "29 #<U+0CB9><U+0CC6><U+0CAC><U+0CCD><U+0CAC><U+0CC1><U+0CB2><U+0CBF>                                                              \n",
       "30 #TrumpPresser                                                                                                                  \n",
       "31 #KillPiracy                                                                                                                    \n",
       "32 #Ignis                                                                                                                         \n",
       "33 #JohnWick2                                                                                                                     \n",
       "34 #PizzaHutForIndia                                                                                                              \n",
       "35 #ISRO                                                                                                                          \n",
       "36 #EdappadiPalaniswami                                                                                                           \n",
       "37 #<U+0928><U+094B><U+091F><U+092C><U+0902><U+0926><U+0940>_<U+0920><U+0917><U+0940>_<U+0915><U+0947>_100<U+0926><U+093F><U+0928>\n",
       "38 #PatanjaliMisleadingConsumers                                                                                                  \n",
       "39 #DumDum                                                                                                                        \n",
       "40 #VarunSays                                                                                                                     \n",
       "41 #RunningShaadi                                                                                                                 \n",
       "42 #ShilpaShettyWellnessLaunch                                                                                                    \n",
       "43 #NASSCOM_ILF                                                                                                                   \n",
       "44 #WhatsYourDigiScore                                                                                                            \n",
       "45 #Peechaankai                                                                                                                   \n",
       "46 #Jharkhand                                                                                                                     \n",
       "47 #IPL2017                                                                                                                       \n",
       "48 #HBDChallengingStarDarshan                                                                                                     \n",
       "49 #Kuttram23                                                                                                                     \n",
       "50 #TamilNadu                                                                                                                     \n",
       "   url                                                                                                                                                                         \n",
       "1  http://twitter.com/search?q=%23SP_BSP%E0%A4%95%E0%A5%81%E0%A4%B6%E0%A4%BE%E0%A4%B8%E0%A4%A8                                                                                 \n",
       "2  http://twitter.com/search?q=%23ISICertifiedBJP                                                                                                                              \n",
       "3  http://twitter.com/search?q=%23103CrIn7Days                                                                                                                                 \n",
       "4  http://twitter.com/search?q=%23ULSafetyFirst                                                                                                                                \n",
       "5  http://twitter.com/search?q=%23Vishwaroopam2                                                                                                                                \n",
       "6  http://twitter.com/search?q=%22Urjit+Patel%22                                                                                                                               \n",
       "7  http://twitter.com/search?q=%22HDFC+Bank%22                                                                                                                                 \n",
       "8  http://twitter.com/search?q=Sufi                                                                                                                                            \n",
       "9  http://twitter.com/search?q=%22Lee+Jae-yong%22                                                                                                                              \n",
       "10 http://twitter.com/search?q=%22Rajiv+Bajaj%22                                                                                                                               \n",
       "11 http://twitter.com/search?q=%22UP+CM%22                                                                                                                                     \n",
       "12 http://twitter.com/search?q=%22Priyanka+Gandhi%22                                                                                                                           \n",
       "13 http://twitter.com/search?q=Munich                                                                                                                                          \n",
       "14 http://twitter.com/search?q=%22Vikas+Swarup%22                                                                                                                              \n",
       "15 http://twitter.com/search?q=%22Hafiz+Saeed%22                                                                                                                               \n",
       "16 http://twitter.com/search?q=%22TED+TALKS+WITH+SRK%22                                                                                                                        \n",
       "17 http://twitter.com/search?q=%22Army+Chief%22                                                                                                                                \n",
       "18 http://twitter.com/search?q=%22JOLLY+AGAIN+THIS+WEEKEND%22                                                                                                                  \n",
       "19 http://twitter.com/search?q=%23HBDSIVAKARTHIKEYAN                                                                                                                           \n",
       "20 http://twitter.com/search?q=%23DJFLonFeb18th                                                                                                                                \n",
       "21 http://twitter.com/search?q=%23INDAvAUS                                                                                                                                     \n",
       "22 http://twitter.com/search?q=%23Baasha                                                                                                                                       \n",
       "23 http://twitter.com/search?q=%23TheHinduReFRESHED                                                                                                                            \n",
       "24 http://twitter.com/search?q=%23FridayFeeling                                                                                                                                \n",
       "25 http://twitter.com/search?q=%23HBD%E0%AE%A4%E0%AE%99%E0%AF%8D%E0%AE%95%E0%AE%AE%E0%AE%95%E0%AE%B3%E0%AF%8DDD                                                                \n",
       "26 http://twitter.com/search?q=%23morningmotivation                                                                                                                            \n",
       "27 http://twitter.com/search?q=%23GhaziFromToday                                                                                                                               \n",
       "28 http://twitter.com/search?q=%23KattappavaKanom                                                                                                                              \n",
       "29 http://twitter.com/search?q=%23%E0%B2%B9%E0%B3%86%E0%B2%AC%E0%B3%8D%E0%B2%AC%E0%B3%81%E0%B2%B2%E0%B2%BF                                                                     \n",
       "30 http://twitter.com/search?q=%23TrumpPresser                                                                                                                                 \n",
       "31 http://twitter.com/search?q=%23KillPiracy                                                                                                                                   \n",
       "32 http://twitter.com/search?q=%23Ignis                                                                                                                                        \n",
       "33 http://twitter.com/search?q=%23JohnWick2                                                                                                                                    \n",
       "34 http://twitter.com/search?q=%23PizzaHutForIndia                                                                                                                             \n",
       "35 http://twitter.com/search?q=%23ISRO                                                                                                                                         \n",
       "36 http://twitter.com/search?q=%23EdappadiPalaniswami                                                                                                                          \n",
       "37 http://twitter.com/search?q=%23%E0%A4%A8%E0%A5%8B%E0%A4%9F%E0%A4%AC%E0%A4%82%E0%A4%A6%E0%A5%80_%E0%A4%A0%E0%A4%97%E0%A5%80_%E0%A4%95%E0%A5%87_100%E0%A4%A6%E0%A4%BF%E0%A4%A8\n",
       "38 http://twitter.com/search?q=%23PatanjaliMisleadingConsumers                                                                                                                 \n",
       "39 http://twitter.com/search?q=%23DumDum                                                                                                                                       \n",
       "40 http://twitter.com/search?q=%23VarunSays                                                                                                                                    \n",
       "41 http://twitter.com/search?q=%23RunningShaadi                                                                                                                                \n",
       "42 http://twitter.com/search?q=%23ShilpaShettyWellnessLaunch                                                                                                                   \n",
       "43 http://twitter.com/search?q=%23NASSCOM_ILF                                                                                                                                  \n",
       "44 http://twitter.com/search?q=%23WhatsYourDigiScore                                                                                                                           \n",
       "45 http://twitter.com/search?q=%23Peechaankai                                                                                                                                  \n",
       "46 http://twitter.com/search?q=%23Jharkhand                                                                                                                                    \n",
       "47 http://twitter.com/search?q=%23IPL2017                                                                                                                                      \n",
       "48 http://twitter.com/search?q=%23HBDChallengingStarDarshan                                                                                                                    \n",
       "49 http://twitter.com/search?q=%23Kuttram23                                                                                                                                    \n",
       "50 http://twitter.com/search?q=%23TamilNadu                                                                                                                                    \n",
       "   query                                                                                                                                           \n",
       "1  %23SP_BSP%E0%A4%95%E0%A5%81%E0%A4%B6%E0%A4%BE%E0%A4%B8%E0%A4%A8                                                                                 \n",
       "2  %23ISICertifiedBJP                                                                                                                              \n",
       "3  %23103CrIn7Days                                                                                                                                 \n",
       "4  %23ULSafetyFirst                                                                                                                                \n",
       "5  %23Vishwaroopam2                                                                                                                                \n",
       "6  %22Urjit+Patel%22                                                                                                                               \n",
       "7  %22HDFC+Bank%22                                                                                                                                 \n",
       "8  Sufi                                                                                                                                            \n",
       "9  %22Lee+Jae-yong%22                                                                                                                              \n",
       "10 %22Rajiv+Bajaj%22                                                                                                                               \n",
       "11 %22UP+CM%22                                                                                                                                     \n",
       "12 %22Priyanka+Gandhi%22                                                                                                                           \n",
       "13 Munich                                                                                                                                          \n",
       "14 %22Vikas+Swarup%22                                                                                                                              \n",
       "15 %22Hafiz+Saeed%22                                                                                                                               \n",
       "16 %22TED+TALKS+WITH+SRK%22                                                                                                                        \n",
       "17 %22Army+Chief%22                                                                                                                                \n",
       "18 %22JOLLY+AGAIN+THIS+WEEKEND%22                                                                                                                  \n",
       "19 %23HBDSIVAKARTHIKEYAN                                                                                                                           \n",
       "20 %23DJFLonFeb18th                                                                                                                                \n",
       "21 %23INDAvAUS                                                                                                                                     \n",
       "22 %23Baasha                                                                                                                                       \n",
       "23 %23TheHinduReFRESHED                                                                                                                            \n",
       "24 %23FridayFeeling                                                                                                                                \n",
       "25 %23HBD%E0%AE%A4%E0%AE%99%E0%AF%8D%E0%AE%95%E0%AE%AE%E0%AE%95%E0%AE%B3%E0%AF%8DDD                                                                \n",
       "26 %23morningmotivation                                                                                                                            \n",
       "27 %23GhaziFromToday                                                                                                                               \n",
       "28 %23KattappavaKanom                                                                                                                              \n",
       "29 %23%E0%B2%B9%E0%B3%86%E0%B2%AC%E0%B3%8D%E0%B2%AC%E0%B3%81%E0%B2%B2%E0%B2%BF                                                                     \n",
       "30 %23TrumpPresser                                                                                                                                 \n",
       "31 %23KillPiracy                                                                                                                                   \n",
       "32 %23Ignis                                                                                                                                        \n",
       "33 %23JohnWick2                                                                                                                                    \n",
       "34 %23PizzaHutForIndia                                                                                                                             \n",
       "35 %23ISRO                                                                                                                                         \n",
       "36 %23EdappadiPalaniswami                                                                                                                          \n",
       "37 %23%E0%A4%A8%E0%A5%8B%E0%A4%9F%E0%A4%AC%E0%A4%82%E0%A4%A6%E0%A5%80_%E0%A4%A0%E0%A4%97%E0%A5%80_%E0%A4%95%E0%A5%87_100%E0%A4%A6%E0%A4%BF%E0%A4%A8\n",
       "38 %23PatanjaliMisleadingConsumers                                                                                                                 \n",
       "39 %23DumDum                                                                                                                                       \n",
       "40 %23VarunSays                                                                                                                                    \n",
       "41 %23RunningShaadi                                                                                                                                \n",
       "42 %23ShilpaShettyWellnessLaunch                                                                                                                   \n",
       "43 %23NASSCOM_ILF                                                                                                                                  \n",
       "44 %23WhatsYourDigiScore                                                                                                                           \n",
       "45 %23Peechaankai                                                                                                                                  \n",
       "46 %23Jharkhand                                                                                                                                    \n",
       "47 %23IPL2017                                                                                                                                      \n",
       "48 %23HBDChallengingStarDarshan                                                                                                                    \n",
       "49 %23Kuttram23                                                                                                                                    \n",
       "50 %23TamilNadu                                                                                                                                    \n",
       "   woeid   \n",
       "1  20070458\n",
       "2  20070458\n",
       "3  20070458\n",
       "4  20070458\n",
       "5  20070458\n",
       "6  20070458\n",
       "7  20070458\n",
       "8  20070458\n",
       "9  20070458\n",
       "10 20070458\n",
       "11 20070458\n",
       "12 20070458\n",
       "13 20070458\n",
       "14 20070458\n",
       "15 20070458\n",
       "16 20070458\n",
       "17 20070458\n",
       "18 20070458\n",
       "19 20070458\n",
       "20 20070458\n",
       "21 20070458\n",
       "22 20070458\n",
       "23 20070458\n",
       "24 20070458\n",
       "25 20070458\n",
       "26 20070458\n",
       "27 20070458\n",
       "28 20070458\n",
       "29 20070458\n",
       "30 20070458\n",
       "31 20070458\n",
       "32 20070458\n",
       "33 20070458\n",
       "34 20070458\n",
       "35 20070458\n",
       "36 20070458\n",
       "37 20070458\n",
       "38 20070458\n",
       "39 20070458\n",
       "40 20070458\n",
       "41 20070458\n",
       "42 20070458\n",
       "43 20070458\n",
       "44 20070458\n",
       "45 20070458\n",
       "46 20070458\n",
       "47 20070458\n",
       "48 20070458\n",
       "49 20070458\n",
       "50 20070458"
      ]
     },
     "metadata": {},
     "output_type": "display_data"
    }
   ],
   "source": [
    "trends"
   ]
  },
  {
   "cell_type": "code",
   "execution_count": 38,
   "metadata": {
    "collapsed": false
   },
   "outputs": [
    {
     "data": {
      "text/html": [
       "<ol class=list-inline>\n",
       "\t<li>'#SP_BSPकुशासन'</li>\n",
       "\t<li>'#ISICertifiedBJP'</li>\n",
       "\t<li>'#103CrIn7Days'</li>\n",
       "\t<li>'#ULSafetyFirst'</li>\n",
       "\t<li>'#Vishwaroopam2'</li>\n",
       "\t<li>'Urjit Patel'</li>\n",
       "\t<li>'HDFC Bank'</li>\n",
       "\t<li>'Sufi'</li>\n",
       "\t<li>'Lee Jae-yong'</li>\n",
       "\t<li>'Rajiv Bajaj'</li>\n",
       "\t<li>'UP CM'</li>\n",
       "\t<li>'Priyanka Gandhi'</li>\n",
       "\t<li>'Munich'</li>\n",
       "\t<li>'Vikas Swarup'</li>\n",
       "\t<li>'Hafiz Saeed'</li>\n",
       "\t<li>'TED TALKS WITH SRK'</li>\n",
       "\t<li>'Army Chief'</li>\n",
       "\t<li>'JOLLY AGAIN THIS WEEKEND'</li>\n",
       "\t<li>'#HBDSIVAKARTHIKEYAN'</li>\n",
       "\t<li>'#DJFLonFeb18th'</li>\n",
       "\t<li>'#INDAvAUS'</li>\n",
       "\t<li>'#Baasha'</li>\n",
       "\t<li>'#TheHinduReFRESHED'</li>\n",
       "\t<li>'#FridayFeeling'</li>\n",
       "\t<li>'#HBDதங்கமகள்DD'</li>\n",
       "\t<li>'#morningmotivation'</li>\n",
       "\t<li>'#GhaziFromToday'</li>\n",
       "\t<li>'#KattappavaKanom'</li>\n",
       "\t<li>'#ಹೆಬ್ಬುಲಿ'</li>\n",
       "\t<li>'#TrumpPresser'</li>\n",
       "\t<li>'#KillPiracy'</li>\n",
       "\t<li>'#Ignis'</li>\n",
       "\t<li>'#JohnWick2'</li>\n",
       "\t<li>'#PizzaHutForIndia'</li>\n",
       "\t<li>'#ISRO'</li>\n",
       "\t<li>'#EdappadiPalaniswami'</li>\n",
       "\t<li>'#नोटबंदी_ठगी_के_100दिन'</li>\n",
       "\t<li>'#PatanjaliMisleadingConsumers'</li>\n",
       "\t<li>'#DumDum'</li>\n",
       "\t<li>'#VarunSays'</li>\n",
       "\t<li>'#RunningShaadi'</li>\n",
       "\t<li>'#ShilpaShettyWellnessLaunch'</li>\n",
       "\t<li>'#NASSCOM_ILF'</li>\n",
       "\t<li>'#WhatsYourDigiScore'</li>\n",
       "\t<li>'#Peechaankai'</li>\n",
       "\t<li>'#Jharkhand'</li>\n",
       "\t<li>'#IPL2017'</li>\n",
       "\t<li>'#HBDChallengingStarDarshan'</li>\n",
       "\t<li>'#Kuttram23'</li>\n",
       "\t<li>'#TamilNadu'</li>\n",
       "</ol>\n"
      ],
      "text/latex": [
       "\\begin{enumerate*}\n",
       "\\item '\\#SP\\_BSPकुशासन'\n",
       "\\item '\\#ISICertifiedBJP'\n",
       "\\item '\\#103CrIn7Days'\n",
       "\\item '\\#ULSafetyFirst'\n",
       "\\item '\\#Vishwaroopam2'\n",
       "\\item 'Urjit Patel'\n",
       "\\item 'HDFC Bank'\n",
       "\\item 'Sufi'\n",
       "\\item 'Lee Jae-yong'\n",
       "\\item 'Rajiv Bajaj'\n",
       "\\item 'UP CM'\n",
       "\\item 'Priyanka Gandhi'\n",
       "\\item 'Munich'\n",
       "\\item 'Vikas Swarup'\n",
       "\\item 'Hafiz Saeed'\n",
       "\\item 'TED TALKS WITH SRK'\n",
       "\\item 'Army Chief'\n",
       "\\item 'JOLLY AGAIN THIS WEEKEND'\n",
       "\\item '\\#HBDSIVAKARTHIKEYAN'\n",
       "\\item '\\#DJFLonFeb18th'\n",
       "\\item '\\#INDAvAUS'\n",
       "\\item '\\#Baasha'\n",
       "\\item '\\#TheHinduReFRESHED'\n",
       "\\item '\\#FridayFeeling'\n",
       "\\item '\\#HBDதங்கமகள்DD'\n",
       "\\item '\\#morningmotivation'\n",
       "\\item '\\#GhaziFromToday'\n",
       "\\item '\\#KattappavaKanom'\n",
       "\\item '\\#ಹೆಬ್ಬುಲಿ'\n",
       "\\item '\\#TrumpPresser'\n",
       "\\item '\\#KillPiracy'\n",
       "\\item '\\#Ignis'\n",
       "\\item '\\#JohnWick2'\n",
       "\\item '\\#PizzaHutForIndia'\n",
       "\\item '\\#ISRO'\n",
       "\\item '\\#EdappadiPalaniswami'\n",
       "\\item '\\#नोटबंदी\\_ठगी\\_के\\_100दिन'\n",
       "\\item '\\#PatanjaliMisleadingConsumers'\n",
       "\\item '\\#DumDum'\n",
       "\\item '\\#VarunSays'\n",
       "\\item '\\#RunningShaadi'\n",
       "\\item '\\#ShilpaShettyWellnessLaunch'\n",
       "\\item '\\#NASSCOM\\_ILF'\n",
       "\\item '\\#WhatsYourDigiScore'\n",
       "\\item '\\#Peechaankai'\n",
       "\\item '\\#Jharkhand'\n",
       "\\item '\\#IPL2017'\n",
       "\\item '\\#HBDChallengingStarDarshan'\n",
       "\\item '\\#Kuttram23'\n",
       "\\item '\\#TamilNadu'\n",
       "\\end{enumerate*}\n"
      ],
      "text/markdown": [
       "1. '#SP_BSPकुशासन'\n",
       "2. '#ISICertifiedBJP'\n",
       "3. '#103CrIn7Days'\n",
       "4. '#ULSafetyFirst'\n",
       "5. '#Vishwaroopam2'\n",
       "6. 'Urjit Patel'\n",
       "7. 'HDFC Bank'\n",
       "8. 'Sufi'\n",
       "9. 'Lee Jae-yong'\n",
       "10. 'Rajiv Bajaj'\n",
       "11. 'UP CM'\n",
       "12. 'Priyanka Gandhi'\n",
       "13. 'Munich'\n",
       "14. 'Vikas Swarup'\n",
       "15. 'Hafiz Saeed'\n",
       "16. 'TED TALKS WITH SRK'\n",
       "17. 'Army Chief'\n",
       "18. 'JOLLY AGAIN THIS WEEKEND'\n",
       "19. '#HBDSIVAKARTHIKEYAN'\n",
       "20. '#DJFLonFeb18th'\n",
       "21. '#INDAvAUS'\n",
       "22. '#Baasha'\n",
       "23. '#TheHinduReFRESHED'\n",
       "24. '#FridayFeeling'\n",
       "25. '#HBDதங்கமகள்DD'\n",
       "26. '#morningmotivation'\n",
       "27. '#GhaziFromToday'\n",
       "28. '#KattappavaKanom'\n",
       "29. '#ಹೆಬ್ಬುಲಿ'\n",
       "30. '#TrumpPresser'\n",
       "31. '#KillPiracy'\n",
       "32. '#Ignis'\n",
       "33. '#JohnWick2'\n",
       "34. '#PizzaHutForIndia'\n",
       "35. '#ISRO'\n",
       "36. '#EdappadiPalaniswami'\n",
       "37. '#नोटबंदी_ठगी_के_100दिन'\n",
       "38. '#PatanjaliMisleadingConsumers'\n",
       "39. '#DumDum'\n",
       "40. '#VarunSays'\n",
       "41. '#RunningShaadi'\n",
       "42. '#ShilpaShettyWellnessLaunch'\n",
       "43. '#NASSCOM_ILF'\n",
       "44. '#WhatsYourDigiScore'\n",
       "45. '#Peechaankai'\n",
       "46. '#Jharkhand'\n",
       "47. '#IPL2017'\n",
       "48. '#HBDChallengingStarDarshan'\n",
       "49. '#Kuttram23'\n",
       "50. '#TamilNadu'\n",
       "\n",
       "\n"
      ],
      "text/plain": [
       " [1] \"#SP_BSP<U+0915><U+0941><U+0936><U+093E><U+0938><U+0928>\" \"#ISICertifiedBJP\"             \n",
       " [3] \"#103CrIn7Days\"                 \"#ULSafetyFirst\"               \n",
       " [5] \"#Vishwaroopam2\"                \"Urjit Patel\"                  \n",
       " [7] \"HDFC Bank\"                     \"Sufi\"                         \n",
       " [9] \"Lee Jae-yong\"                  \"Rajiv Bajaj\"                  \n",
       "[11] \"UP CM\"                         \"Priyanka Gandhi\"              \n",
       "[13] \"Munich\"                        \"Vikas Swarup\"                 \n",
       "[15] \"Hafiz Saeed\"                   \"TED TALKS WITH SRK\"           \n",
       "[17] \"Army Chief\"                    \"JOLLY AGAIN THIS WEEKEND\"     \n",
       "[19] \"#HBDSIVAKARTHIKEYAN\"           \"#DJFLonFeb18th\"               \n",
       "[21] \"#INDAvAUS\"                     \"#Baasha\"                      \n",
       "[23] \"#TheHinduReFRESHED\"            \"#FridayFeeling\"               \n",
       "[25] \"#HBD<U+0BA4><U+0B99><U+0BCD><U+0B95><U+0BAE><U+0B95><U+0BB3><U+0BCD>DD\" \"#morningmotivation\"           \n",
       "[27] \"#GhaziFromToday\"               \"#KattappavaKanom\"             \n",
       "[29] \"#<U+0CB9><U+0CC6><U+0CAC><U+0CCD><U+0CAC><U+0CC1><U+0CB2><U+0CBF>\" \"#TrumpPresser\"                \n",
       "[31] \"#KillPiracy\"                   \"#Ignis\"                       \n",
       "[33] \"#JohnWick2\"                    \"#PizzaHutForIndia\"            \n",
       "[35] \"#ISRO\"                         \"#EdappadiPalaniswami\"         \n",
       "[37] \"#<U+0928><U+094B><U+091F><U+092C><U+0902><U+0926><U+0940>_<U+0920><U+0917><U+0940>_<U+0915><U+0947>_100<U+0926><U+093F><U+0928>\" \"#PatanjaliMisleadingConsumers\"\n",
       "[39] \"#DumDum\"                       \"#VarunSays\"                   \n",
       "[41] \"#RunningShaadi\"                \"#ShilpaShettyWellnessLaunch\"  \n",
       "[43] \"#NASSCOM_ILF\"                  \"#WhatsYourDigiScore\"          \n",
       "[45] \"#Peechaankai\"                  \"#Jharkhand\"                   \n",
       "[47] \"#IPL2017\"                      \"#HBDChallengingStarDarshan\"   \n",
       "[49] \"#Kuttram23\"                    \"#TamilNadu\"                   "
      ]
     },
     "metadata": {},
     "output_type": "display_data"
    }
   ],
   "source": [
    "trends$name"
   ]
  },
  {
   "cell_type": "code",
   "execution_count": 39,
   "metadata": {
    "collapsed": true
   },
   "outputs": [],
   "source": [
    "close_trends = closestTrendLocations(-42.8, -71.1)"
   ]
  },
  {
   "cell_type": "code",
   "execution_count": 40,
   "metadata": {
    "collapsed": false
   },
   "outputs": [
    {
     "data": {
      "text/html": [
       "<table>\n",
       "<thead><tr><th scope=col>name</th><th scope=col>country</th><th scope=col>woeid</th></tr></thead>\n",
       "<tbody>\n",
       "\t<tr><td>Concepcion</td><td>Chile     </td><td>349860    </td></tr>\n",
       "</tbody>\n",
       "</table>\n"
      ],
      "text/latex": [
       "\\begin{tabular}{r|lll}\n",
       " name & country & woeid\\\\\n",
       "\\hline\n",
       "\t Concepcion & Chile      & 349860    \\\\\n",
       "\\end{tabular}\n"
      ],
      "text/markdown": [
       "\n",
       "name | country | woeid | \n",
       "|---|\n",
       "| Concepcion | Chile      | 349860     | \n",
       "\n",
       "\n"
      ],
      "text/plain": [
       "  name       country woeid \n",
       "1 Concepcion Chile   349860"
      ]
     },
     "metadata": {},
     "output_type": "display_data"
    }
   ],
   "source": [
    "head(close_trends)"
   ]
  },
  {
   "cell_type": "code",
   "execution_count": 41,
   "metadata": {
    "collapsed": true
   },
   "outputs": [],
   "source": [
    "trends = getTrends(2367105)"
   ]
  },
  {
   "cell_type": "code",
   "execution_count": 42,
   "metadata": {
    "collapsed": false
   },
   "outputs": [
    {
     "data": {
      "text/html": [
       "<table>\n",
       "<thead><tr><th scope=col>name</th><th scope=col>url</th><th scope=col>query</th><th scope=col>woeid</th></tr></thead>\n",
       "<tbody>\n",
       "\t<tr><td>#HTGAWM                                             </td><td>http://twitter.com/search?q=%23HTGAWM               </td><td>%23HTGAWM                                           </td><td>2367105                                             </td></tr>\n",
       "\t<tr><td>Bulls                                               </td><td>http://twitter.com/search?q=Bulls                   </td><td>Bulls                                               </td><td>2367105                                             </td></tr>\n",
       "\t<tr><td>#Riverdale                                          </td><td>http://twitter.com/search?q=%23Riverdale            </td><td>%23Riverdale                                        </td><td>2367105                                             </td></tr>\n",
       "\t<tr><td>#Scandal                                            </td><td>http://twitter.com/search?q=%23Scandal              </td><td>%23Scandal                                          </td><td>2367105                                             </td></tr>\n",
       "\t<tr><td>#TrumpPressConference                               </td><td>http://twitter.com/search?q=%23TrumpPressConference </td><td>%23TrumpPressConference                             </td><td>2367105                                             </td></tr>\n",
       "\t<tr><td>#ADayWithoutImmigrants                              </td><td>http://twitter.com/search?q=%23ADayWithoutImmigrants</td><td>%23ADayWithoutImmigrants                            </td><td>2367105                                             </td></tr>\n",
       "</tbody>\n",
       "</table>\n"
      ],
      "text/latex": [
       "\\begin{tabular}{r|llll}\n",
       " name & url & query & woeid\\\\\n",
       "\\hline\n",
       "\t \\#HTGAWM                                              & http://twitter.com/search?q=\\%23HTGAWM                & \\%23HTGAWM                                            & 2367105                                               \\\\\n",
       "\t Bulls                                                & http://twitter.com/search?q=Bulls                    & Bulls                                                & 2367105                                             \\\\\n",
       "\t \\#Riverdale                                           & http://twitter.com/search?q=\\%23Riverdale             & \\%23Riverdale                                         & 2367105                                               \\\\\n",
       "\t \\#Scandal                                             & http://twitter.com/search?q=\\%23Scandal               & \\%23Scandal                                           & 2367105                                               \\\\\n",
       "\t \\#TrumpPressConference                                & http://twitter.com/search?q=\\%23TrumpPressConference  & \\%23TrumpPressConference                              & 2367105                                               \\\\\n",
       "\t \\#ADayWithoutImmigrants                               & http://twitter.com/search?q=\\%23ADayWithoutImmigrants & \\%23ADayWithoutImmigrants                             & 2367105                                               \\\\\n",
       "\\end{tabular}\n"
      ],
      "text/markdown": [
       "\n",
       "name | url | query | woeid | \n",
       "|---|---|---|---|---|---|\n",
       "| #HTGAWM                                              | http://twitter.com/search?q=%23HTGAWM                | %23HTGAWM                                            | 2367105                                              | \n",
       "| Bulls                                                | http://twitter.com/search?q=Bulls                    | Bulls                                                | 2367105                                              | \n",
       "| #Riverdale                                           | http://twitter.com/search?q=%23Riverdale             | %23Riverdale                                         | 2367105                                              | \n",
       "| #Scandal                                             | http://twitter.com/search?q=%23Scandal               | %23Scandal                                           | 2367105                                              | \n",
       "| #TrumpPressConference                                | http://twitter.com/search?q=%23TrumpPressConference  | %23TrumpPressConference                              | 2367105                                              | \n",
       "| #ADayWithoutImmigrants                               | http://twitter.com/search?q=%23ADayWithoutImmigrants | %23ADayWithoutImmigrants                             | 2367105                                              | \n",
       "\n",
       "\n"
      ],
      "text/plain": [
       "  name                   url                                                 \n",
       "1 #HTGAWM                http://twitter.com/search?q=%23HTGAWM               \n",
       "2 Bulls                  http://twitter.com/search?q=Bulls                   \n",
       "3 #Riverdale             http://twitter.com/search?q=%23Riverdale            \n",
       "4 #Scandal               http://twitter.com/search?q=%23Scandal              \n",
       "5 #TrumpPressConference  http://twitter.com/search?q=%23TrumpPressConference \n",
       "6 #ADayWithoutImmigrants http://twitter.com/search?q=%23ADayWithoutImmigrants\n",
       "  query                    woeid  \n",
       "1 %23HTGAWM                2367105\n",
       "2 Bulls                    2367105\n",
       "3 %23Riverdale             2367105\n",
       "4 %23Scandal               2367105\n",
       "5 %23TrumpPressConference  2367105\n",
       "6 %23ADayWithoutImmigrants 2367105"
      ]
     },
     "metadata": {},
     "output_type": "display_data"
    }
   ],
   "source": [
    "head(trends)"
   ]
  },
  {
   "cell_type": "code",
   "execution_count": 43,
   "metadata": {
    "collapsed": true
   },
   "outputs": [],
   "source": [
    " r_tweets <- searchTwitter(\"#rstats\", n=300)"
   ]
  },
  {
   "cell_type": "markdown",
   "metadata": {
    "collapsed": true
   },
   "source": [
    "<b> Step 8 : Apply some functions in R </b>\n",
    "\n",
    "\n",
    "<i> sapply and lapply two functions work in a similar way, traversing over a set of data like a list or vector, and calling the specified function for each item. Here we will use sapply, which works on a list or vector of data. <br>\n",
    "\n",
    "sapply(1:3, function(x) x^2) <br>\n",
    "[1] 1 4 9 </i>"
   ]
  },
  {
   "cell_type": "code",
   "execution_count": 44,
   "metadata": {
    "collapsed": true
   },
   "outputs": [],
   "source": [
    " sources <- sapply(r_tweets, function(x) x$getStatusSource())"
   ]
  },
  {
   "cell_type": "markdown",
   "metadata": {
    "collapsed": true
   },
   "source": [
    "<i> gsub() function replaces all matches of a string, if the parameter is a string vector, returns a \n",
    "string vector of the same length and with the same attributes (after possible coercion to character).\n",
    "Elements of string vectors which are not substituted will be returned unchanged (including any declared encoding). \n",
    "gsub(pattern, replacement, x, ignore.case = FALSE, perl = FALSE,\n",
    "    fixed = FALSE, useBytes = FALSE)\n",
    "\n",
    "• pattern: string to be matched <br>\n",
    "• replacement: string for replacement <br>\n",
    "• x: string or string vector <br>\n",
    "• ignore.case: if TRUE, ignore case </i>"
   ]
  },
  {
   "cell_type": "code",
   "execution_count": 45,
   "metadata": {
    "collapsed": true
   },
   "outputs": [],
   "source": [
    "sources <- gsub(\"</a>\", \"\", sources)"
   ]
  },
  {
   "cell_type": "code",
   "execution_count": 46,
   "metadata": {
    "collapsed": true
   },
   "outputs": [],
   "source": [
    "sources <- strsplit(sources, \">\")"
   ]
  },
  {
   "cell_type": "code",
   "execution_count": 47,
   "metadata": {
    "collapsed": true
   },
   "outputs": [],
   "source": [
    "sources <- sapply(sources, function(x) ifelse(length(x) > 1, x[2], x[1]))"
   ]
  },
  {
   "cell_type": "code",
   "execution_count": 48,
   "metadata": {
    "collapsed": true
   },
   "outputs": [],
   "source": [
    "source_table = table(sources)"
   ]
  },
  {
   "cell_type": "code",
   "execution_count": 49,
   "metadata": {
    "collapsed": false
   },
   "outputs": [
    {
     "data": {
      "image/png": "[encoded data removed]",
      "text/plain": [
       "plot without title"
      ]
     },
     "metadata": {},
     "output_type": "display_data"
    }
   ],
   "source": [
    "pie(source_table[source_table > 10])"
   ]
  },
  {
   "cell_type": "markdown",
   "metadata": {
    "collapsed": true
   },
   "source": [
    "<b> References : </b>\n",
    "\n",
    "1. J. Gentry. TwitteR Vignette: A Twitter Client for R. http://geoffjentry.hexdump.org/twitteR.pdf, last viewed 2017. \n",
    "2. TwitteR package. https://cran.r-project.org/web/packages/twitteR/twitteR.pdf, last viewed 2017"
   ]
  }
 ],
 "metadata": {
  "kernelspec": {
   "display_name": "R",
   "language": "R",
   "name": "ir"
  },
  "language_info": {
   "codemirror_mode": "r",
   "file_extension": ".r",
   "mimetype": "text/x-r-source",
   "name": "R",
   "pygments_lexer": "r",
   "version": "3.3.2"
  }
 },
 "nbformat": 4,
 "nbformat_minor": 2
}
