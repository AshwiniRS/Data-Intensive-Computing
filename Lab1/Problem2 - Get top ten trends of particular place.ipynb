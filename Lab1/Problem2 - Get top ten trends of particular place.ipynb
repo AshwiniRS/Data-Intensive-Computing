{
 "cells": [
  {
   "cell_type": "markdown",
   "metadata": {
    "collapsed": true
   },
   "source": [
    "<b><h1>  Problem 2: Summarizing trending topics about a location (place). </b>"
   ]
  },
  {
   "cell_type": "markdown",
   "metadata": {},
   "source": [
    "<b>Step 1 : To find trends of particular location, we will declare a variable of that particular location or to find trends of particular geo-coordinates we declare variables of latitude and longitude.</b><br><br>\n",
    "<i> If you do not want either of the parameter, initialize that parameter to NULL."
   ]
  },
  {
   "cell_type": "code",
   "execution_count": 19,
   "metadata": {
    "collapsed": true
   },
   "outputs": [],
   "source": [
    "nameOfLocation=NULL\n",
    "\n",
    "lat=NULL\n",
    "lon=NULL"
   ]
  },
  {
   "cell_type": "markdown",
   "metadata": {},
   "source": [
    "<b> Step 2 : Importing required packages. </b>\n",
    "<ul>\n",
    "    <li> twitteR - To get trends of that particular location.\n",
    "    <li> ggmap - To find geo-coordinates of the given location using geocode API.\n",
    "</ul>"
   ]
  },
  {
   "cell_type": "code",
   "execution_count": 27,
   "metadata": {
    "collapsed": false
   },
   "outputs": [],
   "source": [
    "library(twitteR)\n",
    "library(ggmap)"
   ]
  },
  {
   "cell_type": "markdown",
   "metadata": {},
   "source": [
    "<b> Step 3 : Setting up twitter authentication and registering google key for geocode API. </b>\n",
    "\n",
    "<i>OAuth is an authentication mechanism which allows applications to provide client functionality to a web service without granting an end user’s credentials to the client itself. </i>\n",
    "\n",
    "<i> Insert your keys is the following variables. </i>"
   ]
  },
  {
   "cell_type": "code",
   "execution_count": 28,
   "metadata": {
    "collapsed": false
   },
   "outputs": [
    {
     "name": "stdout",
     "output_type": "stream",
     "text": [
      "[1] \"Using direct authentication\"\n"
     ]
    }
   ],
   "source": [
    "consumer_key <- \"\"\n",
    "consumer_secret <- \"\"\n",
    "access_token <- \"\"\n",
    "access_secret <- \"\"\n",
    "setup_twitter_oauth(consumer_key, consumer_secret, access_token, access_secret)\n",
    "register_google(key = \"\")"
   ]
  },
  {
   "cell_type": "markdown",
   "metadata": {},
   "source": [
    "<b> Step 4 : Retrieve available trends from al locations using twitter functions. </b>\n",
    "\n",
    "<i>Twitter keeps track of topics that are popular at any given point of time, and allows one to extract that data.\n",
    "The availableTrendLocations function will return a data.frame with three columns - name, country and woeid giving us all the available trends in all locations. </i>"
   ]
  },
  {
   "cell_type": "code",
   "execution_count": 26,
   "metadata": {
    "collapsed": false
   },
   "outputs": [
    {
     "data": {
      "text/html": [
       "<table>\n",
       "<thead><tr><th scope=col>name</th><th scope=col>country</th><th scope=col>woeid</th></tr></thead>\n",
       "<tbody>\n",
       "\t<tr><td>Worldwide</td><td>         </td><td>1        </td></tr>\n",
       "\t<tr><td>Winnipeg </td><td>Canada   </td><td>2972     </td></tr>\n",
       "\t<tr><td>Ottawa   </td><td>Canada   </td><td>3369     </td></tr>\n",
       "\t<tr><td>Quebec   </td><td>Canada   </td><td>3444     </td></tr>\n",
       "\t<tr><td>Montreal </td><td>Canada   </td><td>3534     </td></tr>\n",
       "\t<tr><td>Toronto  </td><td>Canada   </td><td>4118     </td></tr>\n",
       "</tbody>\n",
       "</table>\n"
      ],
      "text/latex": [
       "\\begin{tabular}{r|lll}\n",
       " name & country & woeid\\\\\n",
       "\\hline\n",
       "\t Worldwide &           & 1        \\\\\n",
       "\t Winnipeg  & Canada    & 2972     \\\\\n",
       "\t Ottawa    & Canada    & 3369     \\\\\n",
       "\t Quebec    & Canada    & 3444     \\\\\n",
       "\t Montreal  & Canada    & 3534     \\\\\n",
       "\t Toronto   & Canada    & 4118     \\\\\n",
       "\\end{tabular}\n"
      ],
      "text/markdown": [
       "\n",
       "name | country | woeid | \n",
       "|---|---|---|---|---|---|\n",
       "| Worldwide |           | 1         | \n",
       "| Winnipeg  | Canada    | 2972      | \n",
       "| Ottawa    | Canada    | 3369      | \n",
       "| Quebec    | Canada    | 3444      | \n",
       "| Montreal  | Canada    | 3534      | \n",
       "| Toronto   | Canada    | 4118      | \n",
       "\n",
       "\n"
      ],
      "text/plain": [
       "  name      country woeid\n",
       "1 Worldwide         1    \n",
       "2 Winnipeg  Canada  2972 \n",
       "3 Ottawa    Canada  3369 \n",
       "4 Quebec    Canada  3444 \n",
       "5 Montreal  Canada  3534 \n",
       "6 Toronto   Canada  4118 "
      ]
     },
     "metadata": {},
     "output_type": "display_data"
    }
   ],
   "source": [
    "avail_trends = availableTrendLocations()\n",
    "head(avail_trends)"
   ]
  },
  {
   "cell_type": "markdown",
   "metadata": {},
   "source": [
    "<b> Step 5 : Finding the 10 top trends of the required locations. </b>\n",
    "\n",
    "<ul>\n",
    "    <li> If the name of location is given, we find its woeid from the avail_trends. If not found from that table, we obtain its geo-coordinates using geocode API and use it to find trends through closestTrendLocations function.\n",
    "    <li> Else If the latitude and longitude is given, we retrieve trends using the geo-coordinates.\n",
    "    <li> Else we find trends of hard-coded location - New York."
   ]
  },
  {
   "cell_type": "code",
   "execution_count": 25,
   "metadata": {
    "collapsed": false
   },
   "outputs": [
    {
     "name": "stdout",
     "output_type": "stream",
     "text": [
      "In New York currently topics trending are #married2med, Prod, #HurtBae, #SJUBase, #umes, Spring, #DonaldTrump, Romeo, Bill Maher, Ivan Koloff ."
     ]
    }
   ],
   "source": [
    "if(!is.null(nameOfLocation)){\n",
    "    woeidLocation = subset(avail_trends, name == nameOfLocation)$woeid \n",
    "    if((!length(woeidLocation)<=0)){\n",
    "        trends = getTrends(woeid=woeidLocation)\n",
    "        trends = trends[1:10,1]\n",
    "        trends = toString(trends)\n",
    "        cat(\"In \", nameOfLocation,\"currently trending topics are\",trends,\".\")\n",
    "    }else{\n",
    "        latlon = geocode(nameOfLocation, output =\"latlon\")\n",
    "        if(!is.null(latlon[1])){\n",
    "            closestTrends=closestTrendLocations(latlon[2], latlon[1])\n",
    "            trends = getTrends(closestTrends[3])\n",
    "            trends = toString(trends[1:10,1])\n",
    "            cat(\"In \", nameOfLocation,\"currently trending topics are\",trends,\".\")\n",
    "       }else{\n",
    "            cat(\"Trending topics of \", nameOfLocation,\"is not availble.\") \n",
    "       }\n",
    "    }\n",
    "}else if(!is.null(lat)& !is.null(lon)){\n",
    "    closestTrends = closestTrendLocations(latlon[2], laton[1])\n",
    "    trends = getTrends(closestTrends[3])\n",
    "    trends = toString(trends[1:10,1])\n",
    "    cat(\"In the given geo-coordinates currently trending topics are\",trends,\".\")\n",
    "}else{\n",
    "    woeidLocation = subset(avail_trends, name == \"New York\")$woeid\n",
    "    trends = getTrends(woeid=woeidLocation)\n",
    "    trends = trends[1:10,1]\n",
    "    trends = toString(trends)\n",
    "    cat(\"In New York currently trending topics are\",trends,\".\")\n",
    "}"
   ]
  }
 ],
 "metadata": {
  "kernelspec": {
   "display_name": "R",
   "language": "R",
   "name": "ir"
  },
  "language_info": {
   "codemirror_mode": "r",
   "file_extension": ".r",
   "mimetype": "text/x-r-source",
   "name": "R",
   "pygments_lexer": "r",
   "version": "3.3.2"
  }
 },
 "nbformat": 4,
 "nbformat_minor": 2
}
