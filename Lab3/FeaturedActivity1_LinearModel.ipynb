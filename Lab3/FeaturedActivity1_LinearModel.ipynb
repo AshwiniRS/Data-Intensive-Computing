{
 "cells": [
  {
   "cell_type": "markdown",
   "metadata": {},
   "source": [
    "<h2>Featured Activity 1: Linear Model </h2>"
   ]
  },
  {
   "cell_type": "markdown",
   "metadata": {},
   "source": [
    "<B> TASKS </B><br>\n",
    "a. After the initial fitting, evaluate the fit by noting the R2 and p values of the fit. <brr>\n",
    "b. Change the model so that it line is forced through Wayne Gretzky. Note the R2 and p values of\n",
    "the fit. This will another line or if you prefer another plot.<br>\n",
    "c. Now add the data for another player Patrick Kane (he is a current player). You need to get the\n",
    "data for form online sources. Create a new chart with this addition and force the line through\n",
    "Kane but not Gretzky. Note R2 and p values of the fit. <br>\n",
    "d. Make all the model go through (0,0) and create new models. Note R2 and p values of the fit. <br>\n",
    "e. Create a table of model names (reference), R2 and p values of the fit. Interpret your results. <br>"
   ]
  },
  {
   "cell_type": "markdown",
   "metadata": {},
   "source": [
    "Load the required libraries."
   ]
  },
  {
   "cell_type": "code",
   "execution_count": 1,
   "metadata": {
    "collapsed": false
   },
   "outputs": [
    {
     "name": "stderr",
     "output_type": "stream",
     "text": [
      "\n",
      "Attaching package: 'dplyr'\n",
      "\n",
      "The following objects are masked from 'package:stats':\n",
      "\n",
      "    filter, lag\n",
      "\n",
      "The following objects are masked from 'package:base':\n",
      "\n",
      "    intersect, setdiff, setequal, union\n",
      "\n"
     ]
    }
   ],
   "source": [
    "library(readxl)\n",
    "library(dplyr)\n",
    "library(ggplot2)"
   ]
  },
  {
   "cell_type": "markdown",
   "metadata": {},
   "source": [
    "Reading the file."
   ]
  },
  {
   "cell_type": "code",
   "execution_count": 2,
   "metadata": {
    "collapsed": false
   },
   "outputs": [
    {
     "data": {
      "text/html": [
       "<table>\n",
       "<thead><tr><th scope=col>Rank</th><th scope=col>Player</th><th scope=col>Team</th><th scope=col>Pos</th><th scope=col>1st NHL Season</th><th scope=col>Last NHL Season</th><th scope=col>GP</th><th scope=col>G</th><th scope=col>A</th><th scope=col>P</th><th scope=col>+/-</th><th scope=col>PIM</th><th scope=col>PP</th><th scope=col>SH</th><th scope=col>GW</th><th scope=col>GT</th><th scope=col>OT</th><th scope=col>Shots</th></tr></thead>\n",
       "<tbody>\n",
       "\t<tr><td>1            </td><td>Wayne Gretzky</td><td>NA           </td><td>C            </td><td>1979-1980    </td><td>1998-1999    </td><td>1487         </td><td>894          </td><td>1963         </td><td>2857         </td><td>518          </td><td> 577         </td><td>204          </td><td>73           </td><td>91           </td><td>12           </td><td> 1           </td><td>5089         </td></tr>\n",
       "\t<tr><td>2            </td><td>Mark Messier </td><td>NA           </td><td>C            </td><td>1979-1980    </td><td>2003-2004    </td><td>1756         </td><td>694          </td><td>1193         </td><td>1887         </td><td>210          </td><td>1910         </td><td>179          </td><td>63           </td><td>92           </td><td>15           </td><td> 7           </td><td>4219         </td></tr>\n",
       "\t<tr><td>3            </td><td>Gordie Howe  </td><td>NA           </td><td>R            </td><td>1946-1947    </td><td>1979-1980    </td><td>1767         </td><td>801          </td><td>1049         </td><td>1850         </td><td> 87          </td><td>1685         </td><td> 39          </td><td> 5           </td><td>18           </td><td>NA           </td><td>NA           </td><td>  NA         </td></tr>\n",
       "\t<tr><td>4            </td><td>Ron Francis  </td><td>NA           </td><td>C            </td><td>1981-1982    </td><td>2003-2004    </td><td>1731         </td><td>549          </td><td>1249         </td><td>1798         </td><td>-10          </td><td> 979         </td><td>188          </td><td>12           </td><td>79           </td><td>13           </td><td> 3           </td><td>3754         </td></tr>\n",
       "\t<tr><td>5            </td><td>Marcel Dionne</td><td>NA           </td><td>C            </td><td>1971-1972    </td><td>1988-1989    </td><td>1348         </td><td>731          </td><td>1040         </td><td>1771         </td><td> 28          </td><td> 600         </td><td>234          </td><td>19           </td><td>74           </td><td> 1           </td><td> 2           </td><td>5366         </td></tr>\n",
       "\t<tr><td>6            </td><td>Steve Yzerman</td><td>NA           </td><td>C            </td><td>1983-1984    </td><td>2005-2006    </td><td>1514         </td><td>692          </td><td>1063         </td><td>1755         </td><td>202          </td><td> 924         </td><td>202          </td><td>50           </td><td>94           </td><td>12           </td><td> 8           </td><td>4602         </td></tr>\n",
       "</tbody>\n",
       "</table>\n"
      ],
      "text/latex": [
       "\\begin{tabular}{r|llllllllllllllllll}\n",
       " Rank & Player & Team & Pos & 1st NHL Season & Last NHL Season & GP & G & A & P & +/- & PIM & PP & SH & GW & GT & OT & Shots\\\\\n",
       "\\hline\n",
       "\t 1             & Wayne Gretzky & NA            & C             & 1979-1980     & 1998-1999     & 1487          & 894           & 1963          & 2857          & 518           &  577          & 204           & 73            & 91            & 12            &  1            & 5089         \\\\\n",
       "\t 2             & Mark Messier  & NA            & C             & 1979-1980     & 2003-2004     & 1756          & 694           & 1193          & 1887          & 210           & 1910          & 179           & 63            & 92            & 15            &  7            & 4219         \\\\\n",
       "\t 3             & Gordie Howe   & NA            & R             & 1946-1947     & 1979-1980     & 1767          & 801           & 1049          & 1850          &  87           & 1685          &  39           &  5            & 18            & NA            & NA            &   NA         \\\\\n",
       "\t 4             & Ron Francis   & NA            & C             & 1981-1982     & 2003-2004     & 1731          & 549           & 1249          & 1798          & -10           &  979          & 188           & 12            & 79            & 13            &  3            & 3754         \\\\\n",
       "\t 5             & Marcel Dionne & NA            & C             & 1971-1972     & 1988-1989     & 1348          & 731           & 1040          & 1771          &  28           &  600          & 234           & 19            & 74            &  1            &  2            & 5366         \\\\\n",
       "\t 6             & Steve Yzerman & NA            & C             & 1983-1984     & 2005-2006     & 1514          & 692           & 1063          & 1755          & 202           &  924          & 202           & 50            & 94            & 12            &  8            & 4602         \\\\\n",
       "\\end{tabular}\n"
      ],
      "text/markdown": [
       "\n",
       "Rank | Player | Team | Pos | 1st NHL Season | Last NHL Season | GP | G | A | P | +/- | PIM | PP | SH | GW | GT | OT | Shots | \n",
       "|---|---|---|---|---|---|\n",
       "| 1             | Wayne Gretzky | NA            | C             | 1979-1980     | 1998-1999     | 1487          | 894           | 1963          | 2857          | 518           |  577          | 204           | 73            | 91            | 12            |  1            | 5089          | \n",
       "| 2             | Mark Messier  | NA            | C             | 1979-1980     | 2003-2004     | 1756          | 694           | 1193          | 1887          | 210           | 1910          | 179           | 63            | 92            | 15            |  7            | 4219          | \n",
       "| 3             | Gordie Howe   | NA            | R             | 1946-1947     | 1979-1980     | 1767          | 801           | 1049          | 1850          |  87           | 1685          |  39           |  5            | 18            | NA            | NA            |   NA          | \n",
       "| 4             | Ron Francis   | NA            | C             | 1981-1982     | 2003-2004     | 1731          | 549           | 1249          | 1798          | -10           |  979          | 188           | 12            | 79            | 13            |  3            | 3754          | \n",
       "| 5             | Marcel Dionne | NA            | C             | 1971-1972     | 1988-1989     | 1348          | 731           | 1040          | 1771          |  28           |  600          | 234           | 19            | 74            |  1            |  2            | 5366          | \n",
       "| 6             | Steve Yzerman | NA            | C             | 1983-1984     | 2005-2006     | 1514          | 692           | 1063          | 1755          | 202           |  924          | 202           | 50            | 94            | 12            |  8            | 4602          | \n",
       "\n",
       "\n"
      ],
      "text/plain": [
       "  Rank Player        Team Pos 1st NHL Season Last NHL Season GP   G   A    P   \n",
       "1 1    Wayne Gretzky NA   C   1979-1980      1998-1999       1487 894 1963 2857\n",
       "2 2    Mark Messier  NA   C   1979-1980      2003-2004       1756 694 1193 1887\n",
       "3 3    Gordie Howe   NA   R   1946-1947      1979-1980       1767 801 1049 1850\n",
       "4 4    Ron Francis   NA   C   1981-1982      2003-2004       1731 549 1249 1798\n",
       "5 5    Marcel Dionne NA   C   1971-1972      1988-1989       1348 731 1040 1771\n",
       "6 6    Steve Yzerman NA   C   1983-1984      2005-2006       1514 692 1063 1755\n",
       "  +/- PIM  PP  SH GW GT OT Shots\n",
       "1 518  577 204 73 91 12  1 5089 \n",
       "2 210 1910 179 63 92 15  7 4219 \n",
       "3  87 1685  39  5 18 NA NA   NA \n",
       "4 -10  979 188 12 79 13  3 3754 \n",
       "5  28  600 234 19 74  1  2 5366 \n",
       "6 202  924 202 50 94 12  8 4602 "
      ]
     },
     "metadata": {},
     "output_type": "display_data"
    }
   ],
   "source": [
    "nh1_data=read_excel(\"data/NHLTop100.xlsx\")\n",
    "head(nh1_data)"
   ]
  },
  {
   "cell_type": "code",
   "execution_count": 3,
   "metadata": {
    "collapsed": false
   },
   "outputs": [
    {
     "data": {
      "text/plain": [
       "      Rank           Player              Team               Pos           \n",
       " Min.   :  1.00   Length:100         Length:100         Length:100        \n",
       " 1st Qu.: 25.75   Class :character   Class :character   Class :character  \n",
       " Median : 50.50   Mode  :character   Mode  :character   Mode  :character  \n",
       " Mean   : 50.50                                                           \n",
       " 3rd Qu.: 75.25                                                           \n",
       " Max.   :100.00                                                           \n",
       "                                                                          \n",
       " 1st NHL Season     Last NHL Season          GP             G        \n",
       " Length:100         Length:100         Min.   : 657   Min.   :185.0  \n",
       " Class :character   Class :character   1st Qu.:1108   1st Qu.:391.0  \n",
       " Mode  :character   Mode  :character   Median :1246   Median :470.5  \n",
       "                                       Mean   :1261   Mean   :475.4  \n",
       "                                       3rd Qu.:1408   3rd Qu.:550.8  \n",
       "                                       Max.   :1767   Max.   :894.0  \n",
       "                                                                     \n",
       "       A                P             +/-              PIM        \n",
       " Min.   : 421.0   Min.   : 896   Min.   :-146.0   Min.   : 117.0  \n",
       " 1st Qu.: 585.0   1st Qu.:1018   1st Qu.:  26.5   1st Qu.: 564.8  \n",
       " Median : 700.5   Median :1136   Median :  97.0   Median : 920.5  \n",
       " Mean   : 741.8   Mean   :1217   Mean   : 135.7   Mean   :1036.1  \n",
       " 3rd Qu.: 816.8   3rd Qu.:1353   3rd Qu.: 199.0   3rd Qu.:1285.8  \n",
       " Max.   :1963.0   Max.   :2857   Max.   : 730.0   Max.   :3565.0  \n",
       "                                 NA's   :1                        \n",
       "       PP              SH              GW               GT        \n",
       " Min.   :  8.0   Min.   : 0.00   Min.   :  7.00   Min.   : 0.000  \n",
       " 1st Qu.:108.5   1st Qu.: 6.50   1st Qu.: 44.00   1st Qu.: 3.000  \n",
       " Median :134.0   Median :12.00   Median : 59.00   Median : 7.000  \n",
       " Mean   :139.9   Mean   :15.22   Mean   : 60.93   Mean   : 7.038  \n",
       " 3rd Qu.:178.5   3rd Qu.:22.50   3rd Qu.: 78.00   3rd Qu.:11.000  \n",
       " Max.   :274.0   Max.   :73.00   Max.   :118.00   Max.   :17.000  \n",
       " NA's   :1       NA's   :1       NA's   :1        NA's   :21      \n",
       "       OT             Shots     \n",
       " Min.   : 0.000   Min.   :2045  \n",
       " 1st Qu.: 2.000   1st Qu.:2816  \n",
       " Median : 4.000   Median :3287  \n",
       " Mean   : 4.962   Mean   :3438  \n",
       " 3rd Qu.: 7.000   3rd Qu.:3814  \n",
       " Max.   :17.000   Max.   :6206  \n",
       " NA's   :21       NA's   :16    "
      ]
     },
     "metadata": {},
     "output_type": "display_data"
    }
   ],
   "source": [
    "summary(nh1_data)"
   ]
  },
  {
   "cell_type": "code",
   "execution_count": 4,
   "metadata": {
    "collapsed": false
   },
   "outputs": [],
   "source": [
    "resultdf = data.frame(Model=character(),Rsquared=integer(),pvalue=character())"
   ]
  },
  {
   "cell_type": "markdown",
   "metadata": {},
   "source": [
    "Select the required data.\n"
   ]
  },
  {
   "cell_type": "code",
   "execution_count": 5,
   "metadata": {
    "collapsed": false
   },
   "outputs": [
    {
     "data": {
      "text/html": [
       "<table>\n",
       "<thead><tr><th scope=col>Rank</th><th scope=col>Player</th><th scope=col>GP</th><th scope=col>G</th><th scope=col>A</th><th scope=col>P</th></tr></thead>\n",
       "<tbody>\n",
       "\t<tr><td>1            </td><td>Wayne Gretzky</td><td>1487         </td><td>894          </td><td>1963         </td><td>2857         </td></tr>\n",
       "\t<tr><td>2            </td><td>Mark Messier </td><td>1756         </td><td>694          </td><td>1193         </td><td>1887         </td></tr>\n",
       "\t<tr><td>3            </td><td>Gordie Howe  </td><td>1767         </td><td>801          </td><td>1049         </td><td>1850         </td></tr>\n",
       "\t<tr><td>4            </td><td>Ron Francis  </td><td>1731         </td><td>549          </td><td>1249         </td><td>1798         </td></tr>\n",
       "\t<tr><td>5            </td><td>Marcel Dionne</td><td>1348         </td><td>731          </td><td>1040         </td><td>1771         </td></tr>\n",
       "\t<tr><td>6            </td><td>Steve Yzerman</td><td>1514         </td><td>692          </td><td>1063         </td><td>1755         </td></tr>\n",
       "</tbody>\n",
       "</table>\n"
      ],
      "text/latex": [
       "\\begin{tabular}{r|llllll}\n",
       " Rank & Player & GP & G & A & P\\\\\n",
       "\\hline\n",
       "\t 1             & Wayne Gretzky & 1487          & 894           & 1963          & 2857         \\\\\n",
       "\t 2             & Mark Messier  & 1756          & 694           & 1193          & 1887         \\\\\n",
       "\t 3             & Gordie Howe   & 1767          & 801           & 1049          & 1850         \\\\\n",
       "\t 4             & Ron Francis   & 1731          & 549           & 1249          & 1798         \\\\\n",
       "\t 5             & Marcel Dionne & 1348          & 731           & 1040          & 1771         \\\\\n",
       "\t 6             & Steve Yzerman & 1514          & 692           & 1063          & 1755         \\\\\n",
       "\\end{tabular}\n"
      ],
      "text/markdown": [
       "\n",
       "Rank | Player | GP | G | A | P | \n",
       "|---|---|---|---|---|---|\n",
       "| 1             | Wayne Gretzky | 1487          | 894           | 1963          | 2857          | \n",
       "| 2             | Mark Messier  | 1756          | 694           | 1193          | 1887          | \n",
       "| 3             | Gordie Howe   | 1767          | 801           | 1049          | 1850          | \n",
       "| 4             | Ron Francis   | 1731          | 549           | 1249          | 1798          | \n",
       "| 5             | Marcel Dionne | 1348          | 731           | 1040          | 1771          | \n",
       "| 6             | Steve Yzerman | 1514          | 692           | 1063          | 1755          | \n",
       "\n",
       "\n"
      ],
      "text/plain": [
       "  Rank Player        GP   G   A    P   \n",
       "1 1    Wayne Gretzky 1487 894 1963 2857\n",
       "2 2    Mark Messier  1756 694 1193 1887\n",
       "3 3    Gordie Howe   1767 801 1049 1850\n",
       "4 4    Ron Francis   1731 549 1249 1798\n",
       "5 5    Marcel Dionne 1348 731 1040 1771\n",
       "6 6    Steve Yzerman 1514 692 1063 1755"
      ]
     },
     "metadata": {},
     "output_type": "display_data"
    }
   ],
   "source": [
    "nh1GA_data=select(nh1_data,Rank,Player,GP,G,A,P)\n",
    "head(nh1GA_data)"
   ]
  },
  {
   "cell_type": "markdown",
   "metadata": {},
   "source": [
    "Plotting the data using ggplot."
   ]
  },
  {
   "cell_type": "code",
   "execution_count": 6,
   "metadata": {
    "collapsed": false
   },
   "outputs": [
    {
     "data": {},
     "metadata": {},
     "output_type": "display_data"
    },
    {
     "data": {
      "image/png": "[encoded data removed]",
      "text/plain": [
       "plot without title"
      ]
     },
     "metadata": {},
     "output_type": "display_data"
    }
   ],
   "source": [
    "ggplot(nh1GA_data,aes(x=G,y=A,size=G),fill='#FFFFFF') + geom_point(aes(color = GP),alpha = 0.5)+scale_colour_gradientn(colours = rainbow(7)) + ggtitle(\"G vs A\")"
   ]
  },
  {
   "cell_type": "markdown",
   "metadata": {},
   "source": [
    "For the default fit."
   ]
  },
  {
   "cell_type": "markdown",
   "metadata": {},
   "source": [
    "<h3>a. After the initial fitting, evaluate the fit by noting the R2 and p values of the fit.</h3>"
   ]
  },
  {
   "cell_type": "code",
   "execution_count": 7,
   "metadata": {
    "collapsed": false
   },
   "outputs": [],
   "source": [
    "nh1GAfit = lm(A ~ G, data=nh1GA_data)\n",
    "nh1GAfit.predict = predict(nh1GAfit)"
   ]
  },
  {
   "cell_type": "code",
   "execution_count": 8,
   "metadata": {
    "collapsed": false
   },
   "outputs": [
    {
     "data": {},
     "metadata": {},
     "output_type": "display_data"
    },
    {
     "data": {
      "image/png": "[encoded data removed]",
      "text/plain": [
       "plot without title"
      ]
     },
     "metadata": {},
     "output_type": "display_data"
    }
   ],
   "source": [
    "ggplot(nh1GA_data,aes(x=G,y=A)) + geom_point(color=\"purple\") + geom_line(aes(y=nh1GAfit.predict)) + ggtitle(\"G vs A\")"
   ]
  },
  {
   "cell_type": "code",
   "execution_count": 9,
   "metadata": {
    "collapsed": false
   },
   "outputs": [
    {
     "data": {
      "text/plain": [
       "\n",
       "Call:\n",
       "lm(formula = A ~ G, data = nh1GA_data)\n",
       "\n",
       "Residuals:\n",
       "    Min      1Q  Median      3Q     Max \n",
       "-356.51 -158.59  -10.29  125.08 1003.42 \n",
       "\n",
       "Coefficients:\n",
       "            Estimate Std. Error t value Pr(>|t|)    \n",
       "(Intercept) 494.5135    74.6410   6.625 1.88e-09 ***\n",
       "G             0.5202     0.1508   3.449 0.000832 ***\n",
       "---\n",
       "Signif. codes:  0 '***' 0.001 '**' 0.01 '*' 0.05 '.' 0.1 ' ' 1\n",
       "\n",
       "Residual standard error: 207 on 98 degrees of freedom\n",
       "Multiple R-squared:  0.1082,\tAdjusted R-squared:  0.09913 \n",
       "F-statistic: 11.89 on 1 and 98 DF,  p-value: 0.0008317\n"
      ]
     },
     "metadata": {},
     "output_type": "display_data"
    }
   ],
   "source": [
    "summary(nh1GAfit)"
   ]
  },
  {
   "cell_type": "code",
   "execution_count": 10,
   "metadata": {
    "collapsed": false
   },
   "outputs": [
    {
     "data": {
      "text/plain": [
       "\n",
       "Call:\n",
       "lm(formula = A ~ G, data = nh1GA_data)\n",
       "\n",
       "Coefficients:\n",
       "(Intercept)            G  \n",
       "   494.5135       0.5202  \n"
      ]
     },
     "metadata": {},
     "output_type": "display_data"
    }
   ],
   "source": [
    "nh1GAfit"
   ]
  },
  {
   "cell_type": "markdown",
   "metadata": {},
   "source": [
    "We are getting the slope as 0.5202. We will remember this slope and use it in further models."
   ]
  },
  {
   "cell_type": "code",
   "execution_count": 11,
   "metadata": {
    "collapsed": true
   },
   "outputs": [],
   "source": [
    "slope_default = 0.5202"
   ]
  },
  {
   "cell_type": "markdown",
   "metadata": {},
   "source": [
    "<h4> R-squared value = 0.1082 <br>\n",
    "p-value = 0.0008317 </h4>"
   ]
  },
  {
   "cell_type": "code",
   "execution_count": 12,
   "metadata": {
    "collapsed": false
   },
   "outputs": [],
   "source": [
    "defaultResult = data.frame(Model=\"Default Fit\",Rsquared=0.01082,pvalue=\"0.0008317\")\n",
    "resultdf = rbind.data.frame(resultdf,defaultResult) "
   ]
  },
  {
   "cell_type": "code",
   "execution_count": 13,
   "metadata": {
    "collapsed": false
   },
   "outputs": [
    {
     "data": {
      "text/html": [
       "<table>\n",
       "<thead><tr><th scope=col>Model</th><th scope=col>Rsquared</th><th scope=col>pvalue</th></tr></thead>\n",
       "<tbody>\n",
       "\t<tr><td>Default Fit</td><td>0.01082    </td><td>0.0008317  </td></tr>\n",
       "</tbody>\n",
       "</table>\n"
      ],
      "text/latex": [
       "\\begin{tabular}{r|lll}\n",
       " Model & Rsquared & pvalue\\\\\n",
       "\\hline\n",
       "\t Default Fit & 0.01082     & 0.0008317  \\\\\n",
       "\\end{tabular}\n"
      ],
      "text/markdown": [
       "\n",
       "Model | Rsquared | pvalue | \n",
       "|---|\n",
       "| Default Fit | 0.01082     | 0.0008317   | \n",
       "\n",
       "\n"
      ],
      "text/plain": [
       "  Model       Rsquared pvalue   \n",
       "1 Default Fit 0.01082  0.0008317"
      ]
     },
     "metadata": {},
     "output_type": "display_data"
    }
   ],
   "source": [
    "resultdf"
   ]
  },
  {
   "cell_type": "markdown",
   "metadata": {},
   "source": [
    "<h3> b. Change the model so that it line is forced through Wayne Gretzky. Note the R2 and p values of\n",
    "the fit. This will another line or if you prefer another plot. </h3>"
   ]
  },
  {
   "cell_type": "markdown",
   "metadata": {},
   "source": [
    "<h3> First Method </h3>"
   ]
  },
  {
   "cell_type": "code",
   "execution_count": 14,
   "metadata": {
    "collapsed": false
   },
   "outputs": [],
   "source": [
    "nh1GAfit_wg = (lm(I(A-1963)~I(G-894)+0, data=nh1GA_data))\n",
    "nh1GAfit_wg.predict = predict(nh1GAfit_wg, newdata = list(G=0))"
   ]
  },
  {
   "cell_type": "code",
   "execution_count": 15,
   "metadata": {
    "collapsed": false
   },
   "outputs": [
    {
     "data": {
      "image/png": "[encoded data removed]",
      "text/plain": [
       "plot without title"
      ]
     },
     "metadata": {},
     "output_type": "display_data"
    }
   ],
   "source": [
    "plot(nh1GA_data$G,nh1GA_data$A,pch=19)\n",
    "text(x=894, y=1963, labels=\"Wayne Gretzky\",cex= 0.7,pos=2)\n",
    "abline(nh1GAfit,col=\"blue\")\n",
    "abline(nh1GAfit_wg.predict+1963,coef(nh1GAfit_wg),col=\"red\")"
   ]
  },
  {
   "cell_type": "code",
   "execution_count": 16,
   "metadata": {
    "collapsed": false
   },
   "outputs": [
    {
     "data": {
      "text/plain": [
       "\n",
       "Call:\n",
       "lm(formula = I(A - 1963) ~ I(G - 894) + 0, data = nh1GA_data)\n",
       "\n",
       "Residuals:\n",
       "   Min     1Q Median     3Q    Max \n",
       "-902.2 -333.4 -145.4  103.3  703.4 \n",
       "\n",
       "Coefficients:\n",
       "           Estimate Std. Error t value Pr(>|t|)    \n",
       "I(G - 894)   2.6847     0.0853   31.48   <2e-16 ***\n",
       "---\n",
       "Signif. codes:  0 '***' 0.001 '**' 0.01 '*' 0.05 '.' 0.1 ' ' 1\n",
       "\n",
       "Residual standard error: 375.7 on 99 degrees of freedom\n",
       "Multiple R-squared:  0.9091,\tAdjusted R-squared:  0.9082 \n",
       "F-statistic: 990.7 on 1 and 99 DF,  p-value: < 2.2e-16\n"
      ]
     },
     "metadata": {},
     "output_type": "display_data"
    }
   ],
   "source": [
    "summary(nh1GAfit_wg)"
   ]
  },
  {
   "cell_type": "code",
   "execution_count": 17,
   "metadata": {
    "collapsed": false
   },
   "outputs": [
    {
     "data": {
      "text/plain": [
       "\n",
       "Call:\n",
       "lm(formula = I(A - 1963) ~ I(G - 894) + 0, data = nh1GA_data)\n",
       "\n",
       "Coefficients:\n",
       "I(G - 894)  \n",
       "     2.685  \n"
      ]
     },
     "metadata": {},
     "output_type": "display_data"
    }
   ],
   "source": [
    "nh1GAfit_wg"
   ]
  },
  {
   "cell_type": "markdown",
   "metadata": {},
   "source": [
    "Values of R-squared and p\n",
    "<B> R-squared value = 0.9091 <br>\n",
    "p-value < 2.2e-16 </B>"
   ]
  },
  {
   "cell_type": "code",
   "execution_count": 18,
   "metadata": {
    "collapsed": true
   },
   "outputs": [],
   "source": [
    "defaultResult = data.frame(Model=\"Wayne Gretzky\",Rsquared=0.9091,pvalue=\"< 2.2e-16\")\n",
    "resultdf = rbind.data.frame(resultdf,defaultResult) "
   ]
  },
  {
   "cell_type": "code",
   "execution_count": 19,
   "metadata": {
    "collapsed": false
   },
   "outputs": [
    {
     "data": {
      "text/html": [
       "<table>\n",
       "<thead><tr><th scope=col>Model</th><th scope=col>Rsquared</th><th scope=col>pvalue</th></tr></thead>\n",
       "<tbody>\n",
       "\t<tr><td>Default Fit  </td><td>0.01082      </td><td>0.0008317    </td></tr>\n",
       "\t<tr><td>Wayne Gretzky</td><td>0.90910      </td><td>&lt; 2.2e-16 </td></tr>\n",
       "</tbody>\n",
       "</table>\n"
      ],
      "text/latex": [
       "\\begin{tabular}{r|lll}\n",
       " Model & Rsquared & pvalue\\\\\n",
       "\\hline\n",
       "\t Default Fit   & 0.01082       & 0.0008317    \\\\\n",
       "\t Wayne Gretzky & 0.90910       & < 2.2e-16    \\\\\n",
       "\\end{tabular}\n"
      ],
      "text/markdown": [
       "\n",
       "Model | Rsquared | pvalue | \n",
       "|---|---|\n",
       "| Default Fit   | 0.01082       | 0.0008317     | \n",
       "| Wayne Gretzky | 0.90910       | < 2.2e-16     | \n",
       "\n",
       "\n"
      ],
      "text/plain": [
       "  Model         Rsquared pvalue   \n",
       "1 Default Fit   0.01082  0.0008317\n",
       "2 Wayne Gretzky 0.90910  < 2.2e-16"
      ]
     },
     "metadata": {},
     "output_type": "display_data"
    }
   ],
   "source": [
    "resultdf"
   ]
  },
  {
   "cell_type": "markdown",
   "metadata": {},
   "source": [
    "<h3> Second Method </h3>"
   ]
  },
  {
   "cell_type": "code",
   "execution_count": 20,
   "metadata": {
    "collapsed": false
   },
   "outputs": [
    {
     "data": {
      "text/plain": [
       "\n",
       "Call:\n",
       "lm(formula = I(A - 1963) ~ I(G - 894), data = nh1GA_data)\n",
       "\n",
       "Residuals:\n",
       "    Min      1Q  Median      3Q     Max \n",
       "-356.51 -158.59  -10.29  125.08 1003.42 \n",
       "\n",
       "Coefficients:\n",
       "              Estimate Std. Error t value Pr(>|t|)    \n",
       "(Intercept) -1003.4220    66.4463 -15.101  < 2e-16 ***\n",
       "I(G - 894)      0.5202     0.1508   3.449 0.000832 ***\n",
       "---\n",
       "Signif. codes:  0 '***' 0.001 '**' 0.01 '*' 0.05 '.' 0.1 ' ' 1\n",
       "\n",
       "Residual standard error: 207 on 98 degrees of freedom\n",
       "Multiple R-squared:  0.1082,\tAdjusted R-squared:  0.09913 \n",
       "F-statistic: 11.89 on 1 and 98 DF,  p-value: 0.0008317\n"
      ]
     },
     "metadata": {},
     "output_type": "display_data"
    }
   ],
   "source": [
    "nh1GAfit_wg2 = (lm(I(A-1963)~I(G-894), data=nh1GA_data))\n",
    "# nh1GAfit_wg2.predict = predict(nh1GAfit_wg2, newdata = list(G=0))\n",
    "summary(nh1GAfit_wg2)"
   ]
  },
  {
   "cell_type": "markdown",
   "metadata": {},
   "source": [
    "<b> Intercept : -1003.4220 <br>\n",
    "Slope : 0.5202 </b>"
   ]
  },
  {
   "cell_type": "markdown",
   "metadata": {},
   "source": [
    "We will add this intercept in our Assist axis."
   ]
  },
  {
   "cell_type": "code",
   "execution_count": 21,
   "metadata": {
    "collapsed": false
   },
   "outputs": [
    {
     "data": {
      "text/plain": [
       "\n",
       "Call:\n",
       "lm(formula = I(A + 1003) ~ I(G), data = nh1GA_data)\n",
       "\n",
       "Residuals:\n",
       "    Min      1Q  Median      3Q     Max \n",
       "-356.51 -158.59  -10.29  125.08 1003.42 \n",
       "\n",
       "Coefficients:\n",
       "             Estimate Std. Error t value Pr(>|t|)    \n",
       "(Intercept) 1497.5135    74.6410  20.063  < 2e-16 ***\n",
       "I(G)           0.5202     0.1508   3.449 0.000832 ***\n",
       "---\n",
       "Signif. codes:  0 '***' 0.001 '**' 0.01 '*' 0.05 '.' 0.1 ' ' 1\n",
       "\n",
       "Residual standard error: 207 on 98 degrees of freedom\n",
       "Multiple R-squared:  0.1082,\tAdjusted R-squared:  0.09913 \n",
       "F-statistic: 11.89 on 1 and 98 DF,  p-value: 0.0008317\n"
      ]
     },
     "metadata": {},
     "output_type": "display_data"
    }
   ],
   "source": [
    "nh1GAfit_wg2 = (lm(I(A+1003)~I(G), data=nh1GA_data))\n",
    "# nh1GAfit_wg2.predict = predict(nh1GAfit_wg2, newdata = list(G=0))\n",
    "summary(nh1GAfit_wg2)"
   ]
  },
  {
   "cell_type": "code",
   "execution_count": 22,
   "metadata": {
    "collapsed": false
   },
   "outputs": [
    {
     "data": {
      "image/png": "[encoded data removed]",
      "text/plain": [
       "plot without title"
      ]
     },
     "metadata": {},
     "output_type": "display_data"
    }
   ],
   "source": [
    "plot(nh1GA_data$G,nh1GA_data$A,pch=19)\n",
    "abline(coef(nh1GAfit_wg2),col=\"blue\")\n",
    "text(x=894, y=1963, labels=\"Wayne Gretzky\",cex= 0.7,pos=2)\n",
    "abline(nh1GAfit,col=\"blue\")"
   ]
  },
  {
   "cell_type": "markdown",
   "metadata": {
    "collapsed": true
   },
   "source": [
    "<h3>c. Now add the data for another player Patrick Kane (he is a current player). You need to get the\n",
    "data for form online sources. Create a new chart with this addition and force the line through\n",
    "Kane but not Gretzky. Note R2 and p values of the fit. </h3>"
   ]
  },
  {
   "cell_type": "code",
   "execution_count": 23,
   "metadata": {
    "collapsed": true
   },
   "outputs": [],
   "source": [
    "nh1GA_data = as.data.frame(rbind(nh1GA_data, c(101,\"Patrick Kane\",735,285,462,747)))"
   ]
  },
  {
   "cell_type": "code",
   "execution_count": 24,
   "metadata": {
    "collapsed": true
   },
   "outputs": [],
   "source": [
    "nh1GA_data$G=as.numeric(nh1GA_data$G)\n",
    "nh1GA_data$A=as.numeric(nh1GA_data$A)"
   ]
  },
  {
   "cell_type": "markdown",
   "metadata": {},
   "source": [
    "<h3> First Method </h3>"
   ]
  },
  {
   "cell_type": "code",
   "execution_count": 25,
   "metadata": {
    "collapsed": false
   },
   "outputs": [],
   "source": [
    "nh1GAfit_pk = (lm(I(A-462)~I(G-285)+0, data=nh1GA_data))\n",
    "nh1GAfit_pk.predict = predict(nh1GAfit_pk, newdata = list(G=0))"
   ]
  },
  {
   "cell_type": "code",
   "execution_count": 26,
   "metadata": {
    "collapsed": false
   },
   "outputs": [
    {
     "data": {
      "image/png": "[encoded data removed]",
      "text/plain": [
       "plot without title"
      ]
     },
     "metadata": {},
     "output_type": "display_data"
    }
   ],
   "source": [
    "plot(nh1GA_data$G,nh1GA_data$A,pch=19)\n",
    "text(x=285, y=462, labels=\"Patrick Kane\",cex= 0.7,pos=2)\n",
    "abline(nh1GAfit,col=\"blue\")\n",
    "abline(nh1GAfit_pk.predict+462,coef(nh1GAfit_pk),col=\"red\")\n",
    "abline(nh1GAfit_wg.predict+1963,coef(nh1GAfit_wg),col=\"purple\")\n",
    "text(x=894, y=1963, labels=\"Wayne Gretzky\",cex= 0.7,pos=2)"
   ]
  },
  {
   "cell_type": "code",
   "execution_count": 27,
   "metadata": {
    "collapsed": false
   },
   "outputs": [
    {
     "data": {
      "text/plain": [
       "\n",
       "Call:\n",
       "lm(formula = I(A - 462) ~ I(G - 285) + 0, data = nh1GA_data)\n",
       "\n",
       "Residuals:\n",
       "    Min      1Q  Median      3Q     Max \n",
       "-337.54 -112.83   40.72  167.42  803.74 \n",
       "\n",
       "Coefficients:\n",
       "           Estimate Std. Error t value Pr(>|t|)    \n",
       "I(G - 285)  1.14493    0.09825   11.65   <2e-16 ***\n",
       "---\n",
       "Signif. codes:  0 '***' 0.001 '**' 0.01 '*' 0.05 '.' 0.1 ' ' 1\n",
       "\n",
       "Residual standard error: 230.6 on 100 degrees of freedom\n",
       "Multiple R-squared:  0.5759,\tAdjusted R-squared:  0.5717 \n",
       "F-statistic: 135.8 on 1 and 100 DF,  p-value: < 2.2e-16\n"
      ]
     },
     "metadata": {},
     "output_type": "display_data"
    }
   ],
   "source": [
    "summary(nh1GAfit_pk)"
   ]
  },
  {
   "cell_type": "code",
   "execution_count": 28,
   "metadata": {
    "collapsed": false
   },
   "outputs": [
    {
     "data": {
      "text/plain": [
       "\n",
       "Call:\n",
       "lm(formula = I(A - 462) ~ I(G - 285) + 0, data = nh1GA_data)\n",
       "\n",
       "Coefficients:\n",
       "I(G - 285)  \n",
       "     1.145  \n"
      ]
     },
     "metadata": {},
     "output_type": "display_data"
    }
   ],
   "source": [
    "nh1GAfit_pk"
   ]
  },
  {
   "cell_type": "markdown",
   "metadata": {},
   "source": [
    "Values of R-squared and p\n",
    "<B> R-squared value = 0.5759 <br>\n",
    "p-value < 2.2e-16 </B>"
   ]
  },
  {
   "cell_type": "markdown",
   "metadata": {},
   "source": [
    "<h3> Second Method </h3>"
   ]
  },
  {
   "cell_type": "code",
   "execution_count": 29,
   "metadata": {
    "collapsed": false
   },
   "outputs": [
    {
     "data": {
      "text/plain": [
       "\n",
       "Call:\n",
       "lm(formula = I(A - 462) ~ I(G - 285), data = nh1GA_data)\n",
       "\n",
       "Residuals:\n",
       "    Min      1Q  Median      3Q     Max \n",
       "-355.97 -175.12   -8.92  126.23  997.75 \n",
       "\n",
       "Coefficients:\n",
       "            Estimate Std. Error t value Pr(>|t|)    \n",
       "(Intercept) 175.6358    34.8548   5.039 2.11e-06 ***\n",
       "I(G - 285)    0.5380     0.1492   3.605 0.000491 ***\n",
       "---\n",
       "Signif. codes:  0 '***' 0.001 '**' 0.01 '*' 0.05 '.' 0.1 ' ' 1\n",
       "\n",
       "Residual standard error: 206.8 on 99 degrees of freedom\n",
       "Multiple R-squared:  0.116,\tAdjusted R-squared:  0.1071 \n",
       "F-statistic:    13 on 1 and 99 DF,  p-value: 0.0004909\n"
      ]
     },
     "metadata": {},
     "output_type": "display_data"
    }
   ],
   "source": [
    "nh1GAfit_pk2 = (lm(I(A-462)~I(G-285), data=nh1GA_data))\n",
    "# nh1GAfit_pk.predict = predict(nh1GAfit_pk, newdata = list(G=0))\n",
    "summary(nh1GAfit_pk2)"
   ]
  },
  {
   "cell_type": "markdown",
   "metadata": {},
   "source": [
    "<b> Intercept : 175.6358 <br>\n",
    "Slope : 0.5202 </b>"
   ]
  },
  {
   "cell_type": "markdown",
   "metadata": {},
   "source": [
    "We will add this intercept in Assist axis."
   ]
  },
  {
   "cell_type": "code",
   "execution_count": 30,
   "metadata": {
    "collapsed": false
   },
   "outputs": [
    {
     "data": {
      "text/plain": [
       "\n",
       "Call:\n",
       "lm(formula = I(A - 175.6358) ~ I(G), data = nh1GA_data)\n",
       "\n",
       "Residuals:\n",
       "    Min      1Q  Median      3Q     Max \n",
       "-355.97 -175.12   -8.92  126.23  997.75 \n",
       "\n",
       "Coefficients:\n",
       "            Estimate Std. Error t value Pr(>|t|)    \n",
       "(Intercept) 308.6821    73.5982   4.194 5.97e-05 ***\n",
       "I(G)          0.5380     0.1492   3.605 0.000491 ***\n",
       "---\n",
       "Signif. codes:  0 '***' 0.001 '**' 0.01 '*' 0.05 '.' 0.1 ' ' 1\n",
       "\n",
       "Residual standard error: 206.8 on 99 degrees of freedom\n",
       "Multiple R-squared:  0.116,\tAdjusted R-squared:  0.1071 \n",
       "F-statistic:    13 on 1 and 99 DF,  p-value: 0.0004909\n"
      ]
     },
     "metadata": {},
     "output_type": "display_data"
    },
    {
     "data": {
      "image/png": "[encoded data removed]",
      "text/plain": [
       "plot without title"
      ]
     },
     "metadata": {},
     "output_type": "display_data"
    }
   ],
   "source": [
    "nh1GAfit_pk2 = (lm(I(A-175.6358)~I(G), data=nh1GA_data))\n",
    "# nh1GAfit_wg2.predict = predict(nh1GAfit_wg2, newdata = list(G=0))\n",
    "summary(nh1GAfit_pk2)\n",
    "plot(nh1GA_data$G,nh1GA_data$A,pch=19)\n",
    "abline(coef(nh1GAfit_pk2),col=\"blue\")\n",
    "text(x=285, y=462, labels=\"Patrick Kane\",cex= 0.7,pos=2)\n",
    "abline(nh1GAfit,col=\"blue\")"
   ]
  },
  {
   "cell_type": "code",
   "execution_count": 31,
   "metadata": {
    "collapsed": false
   },
   "outputs": [
    {
     "data": {
      "text/html": [
       "<table>\n",
       "<thead><tr><th scope=col>Model</th><th scope=col>Rsquared</th><th scope=col>pvalue</th></tr></thead>\n",
       "<tbody>\n",
       "\t<tr><td>Default Fit  </td><td>0.01082      </td><td>0.0008317    </td></tr>\n",
       "\t<tr><td>Wayne Gretzky</td><td>0.90910      </td><td>&lt; 2.2e-16 </td></tr>\n",
       "\t<tr><td>Patrick Kane </td><td>0.57590      </td><td>&lt; 2.2e-16 </td></tr>\n",
       "</tbody>\n",
       "</table>\n"
      ],
      "text/latex": [
       "\\begin{tabular}{r|lll}\n",
       " Model & Rsquared & pvalue\\\\\n",
       "\\hline\n",
       "\t Default Fit   & 0.01082       & 0.0008317    \\\\\n",
       "\t Wayne Gretzky & 0.90910       & < 2.2e-16    \\\\\n",
       "\t Patrick Kane  & 0.57590       & < 2.2e-16    \\\\\n",
       "\\end{tabular}\n"
      ],
      "text/markdown": [
       "\n",
       "Model | Rsquared | pvalue | \n",
       "|---|---|---|\n",
       "| Default Fit   | 0.01082       | 0.0008317     | \n",
       "| Wayne Gretzky | 0.90910       | < 2.2e-16     | \n",
       "| Patrick Kane  | 0.57590       | < 2.2e-16     | \n",
       "\n",
       "\n"
      ],
      "text/plain": [
       "  Model         Rsquared pvalue   \n",
       "1 Default Fit   0.01082  0.0008317\n",
       "2 Wayne Gretzky 0.90910  < 2.2e-16\n",
       "3 Patrick Kane  0.57590  < 2.2e-16"
      ]
     },
     "metadata": {},
     "output_type": "display_data"
    }
   ],
   "source": [
    "defaultResult = data.frame(Model=\"Patrick Kane\",Rsquared=0.5759,pvalue=\"< 2.2e-16\")\n",
    "resultdf = rbind.data.frame(resultdf,defaultResult)\n",
    "resultdf"
   ]
  },
  {
   "cell_type": "markdown",
   "metadata": {},
   "source": [
    "<h3> d. Make all the model go through (0,0) and create new models. Note R2 and p values of the fit. </h3>"
   ]
  },
  {
   "cell_type": "markdown",
   "metadata": {},
   "source": [
    "To pass the the line through (0,0) point, we will add 0 in our lm value and to shift the line towards the origin, we will add some value to Assist axis based on multiple observations."
   ]
  },
  {
   "cell_type": "markdown",
   "metadata": {},
   "source": [
    "<b>\n",
    "1. Default Fit Passing through 0,0</b>"
   ]
  },
  {
   "cell_type": "code",
   "execution_count": 32,
   "metadata": {
    "collapsed": true
   },
   "outputs": [],
   "source": [
    "nh1GAfit_default = (lm(A~G+0, data=nh1GA_data))\n",
    "nh1GAfit_default.predict = predict(nh1GAfit_default)"
   ]
  },
  {
   "cell_type": "code",
   "execution_count": 33,
   "metadata": {
    "collapsed": false
   },
   "outputs": [
    {
     "data": {
      "image/png": "[encoded data removed]",
      "text/plain": [
       "plot without title"
      ]
     },
     "metadata": {},
     "output_type": "display_data"
    }
   ],
   "source": [
    "plot(nh1GA_data$G,nh1GA_data$A,pch=19,,xlim=c(0,1000), ylim=c(0,2100))\n",
    "abline(nh1GAfit_default,col=\"blue\")\n",
    "points(x=0,y=0, col = \"red\")"
   ]
  },
  {
   "cell_type": "code",
   "execution_count": 34,
   "metadata": {
    "collapsed": false
   },
   "outputs": [
    {
     "data": {
      "text/plain": [
       "\n",
       "Call:\n",
       "lm(formula = A ~ G + 0, data = nh1GA_data)\n",
       "\n",
       "Residuals:\n",
       "   Min     1Q Median     3Q    Max \n",
       "-447.3 -137.1    3.6  157.9  639.2 \n",
       "\n",
       "Coefficients:\n",
       "  Estimate Std. Error t value Pr(>|t|)    \n",
       "G  1.48080    0.04976   29.76   <2e-16 ***\n",
       "---\n",
       "Signif. codes:  0 '***' 0.001 '**' 0.01 '*' 0.05 '.' 0.1 ' ' 1\n",
       "\n",
       "Residual standard error: 246.7 on 100 degrees of freedom\n",
       "Multiple R-squared:  0.8985,\tAdjusted R-squared:  0.8975 \n",
       "F-statistic: 885.4 on 1 and 100 DF,  p-value: < 2.2e-16\n"
      ]
     },
     "metadata": {},
     "output_type": "display_data"
    }
   ],
   "source": [
    "summary(nh1GAfit_default)"
   ]
  },
  {
   "cell_type": "code",
   "execution_count": 35,
   "metadata": {
    "collapsed": false
   },
   "outputs": [
    {
     "data": {
      "text/plain": [
       "\n",
       "Call:\n",
       "lm(formula = A ~ G + 0, data = nh1GA_data)\n",
       "\n",
       "Coefficients:\n",
       "    G  \n",
       "1.481  \n"
      ]
     },
     "metadata": {},
     "output_type": "display_data"
    }
   ],
   "source": [
    "nh1GAfit_default"
   ]
  },
  {
   "cell_type": "markdown",
   "metadata": {},
   "source": [
    "Values of R-squared and p\n",
    "<B> R-squared value = 0.8985 <br>\n",
    "p-value < 2.2e-16 </B>"
   ]
  },
  {
   "cell_type": "code",
   "execution_count": 36,
   "metadata": {
    "collapsed": false
   },
   "outputs": [
    {
     "data": {
      "text/html": [
       "<table>\n",
       "<thead><tr><th scope=col>Model</th><th scope=col>Rsquared</th><th scope=col>pvalue</th></tr></thead>\n",
       "<tbody>\n",
       "\t<tr><td>Default Fit                    </td><td>0.01082                        </td><td>0.0008317                      </td></tr>\n",
       "\t<tr><td><span style=white-space:pre-wrap>Wayne Gretzky                  </span></td><td>0.90910                                                                </td><td>&lt; 2.2e-16                                                           </td></tr>\n",
       "\t<tr><td><span style=white-space:pre-wrap>Patrick Kane                   </span></td><td>0.57590                                                                </td><td>&lt; 2.2e-16                                                           </td></tr>\n",
       "\t<tr><td>Default Fit passing through 0,0</td><td>0.89850                        </td><td>&lt; 2.2e-16                   </td></tr>\n",
       "</tbody>\n",
       "</table>\n"
      ],
      "text/latex": [
       "\\begin{tabular}{r|lll}\n",
       " Model & Rsquared & pvalue\\\\\n",
       "\\hline\n",
       "\t Default Fit                     & 0.01082                         & 0.0008317                      \\\\\n",
       "\t Wayne Gretzky                   & 0.90910                         & < 2.2e-16                      \\\\\n",
       "\t Patrick Kane                    & 0.57590                         & < 2.2e-16                      \\\\\n",
       "\t Default Fit passing through 0,0 & 0.89850                         & < 2.2e-16                      \\\\\n",
       "\\end{tabular}\n"
      ],
      "text/markdown": [
       "\n",
       "Model | Rsquared | pvalue | \n",
       "|---|---|---|---|\n",
       "| Default Fit                     | 0.01082                         | 0.0008317                       | \n",
       "| Wayne Gretzky                   | 0.90910                         | < 2.2e-16                       | \n",
       "| Patrick Kane                    | 0.57590                         | < 2.2e-16                       | \n",
       "| Default Fit passing through 0,0 | 0.89850                         | < 2.2e-16                       | \n",
       "\n",
       "\n"
      ],
      "text/plain": [
       "  Model                           Rsquared pvalue   \n",
       "1 Default Fit                     0.01082  0.0008317\n",
       "2 Wayne Gretzky                   0.90910  < 2.2e-16\n",
       "3 Patrick Kane                    0.57590  < 2.2e-16\n",
       "4 Default Fit passing through 0,0 0.89850  < 2.2e-16"
      ]
     },
     "metadata": {},
     "output_type": "display_data"
    }
   ],
   "source": [
    "defaultResult = data.frame(Model=\"Default Fit passing through 0,0\",Rsquared=0.8985,pvalue=\"< 2.2e-16\")\n",
    "resultdf = rbind.data.frame(resultdf,defaultResult)\n",
    "resultdf"
   ]
  },
  {
   "cell_type": "markdown",
   "metadata": {},
   "source": [
    "<b>2. Wayne Gretzky</b>"
   ]
  },
  {
   "cell_type": "code",
   "execution_count": 37,
   "metadata": {
    "collapsed": true
   },
   "outputs": [],
   "source": [
    "nh1GAfit_wg00 = (lm(A+368~G+0, data=nh1GA_data))\n",
    "nh1GAfit_wg00.predict = predict(nh1GAfit_wg00)"
   ]
  },
  {
   "cell_type": "code",
   "execution_count": 38,
   "metadata": {
    "collapsed": false
   },
   "outputs": [
    {
     "data": {
      "image/png": "[encoded data removed]",
      "text/plain": [
       "plot without title"
      ]
     },
     "metadata": {},
     "output_type": "display_data"
    }
   ],
   "source": [
    "plot(nh1GA_data$G,nh1GA_data$A,pch=19,xlim=c(0,1000), ylim=c(0,2100))\n",
    "abline(nh1GAfit_wg00,col=\"blue\")\n",
    "points(x=0,y=0, col=\"red\")\n",
    "text(x=894, y=1963, labels=\"Wayne Gretzky\",cex= 0.7,pos=2)"
   ]
  },
  {
   "cell_type": "code",
   "execution_count": 39,
   "metadata": {
    "collapsed": false
   },
   "outputs": [
    {
     "data": {
      "text/plain": [
       "\n",
       "Call:\n",
       "lm(formula = A + 368 ~ G + 0, data = nh1GA_data)\n",
       "\n",
       "Residuals:\n",
       "    Min      1Q  Median      3Q     Max \n",
       "-610.13 -121.29   30.37  225.18  724.52 \n",
       "\n",
       "Coefficients:\n",
       "  Estimate Std. Error t value Pr(>|t|)    \n",
       "G  2.19720    0.06369    34.5   <2e-16 ***\n",
       "---\n",
       "Signif. codes:  0 '***' 0.001 '**' 0.01 '*' 0.05 '.' 0.1 ' ' 1\n",
       "\n",
       "Residual standard error: 315.7 on 100 degrees of freedom\n",
       "Multiple R-squared:  0.9225,\tAdjusted R-squared:  0.9217 \n",
       "F-statistic:  1190 on 1 and 100 DF,  p-value: < 2.2e-16\n"
      ]
     },
     "metadata": {},
     "output_type": "display_data"
    }
   ],
   "source": [
    "summary(nh1GAfit_wg00)"
   ]
  },
  {
   "cell_type": "code",
   "execution_count": 40,
   "metadata": {
    "collapsed": false
   },
   "outputs": [
    {
     "data": {
      "text/plain": [
       "\n",
       "Call:\n",
       "lm(formula = A + 368 ~ G + 0, data = nh1GA_data)\n",
       "\n",
       "Coefficients:\n",
       "    G  \n",
       "2.197  \n"
      ]
     },
     "metadata": {},
     "output_type": "display_data"
    }
   ],
   "source": [
    "nh1GAfit_wg00"
   ]
  },
  {
   "cell_type": "markdown",
   "metadata": {},
   "source": [
    "Values of R-squared and p\n",
    "<B> R-squared value = 0.9225 <br>\n",
    "p-value < 2.2e-16 </B>"
   ]
  },
  {
   "cell_type": "code",
   "execution_count": 41,
   "metadata": {
    "collapsed": false
   },
   "outputs": [
    {
     "data": {
      "text/html": [
       "<table>\n",
       "<thead><tr><th scope=col>Model</th><th scope=col>Rsquared</th><th scope=col>pvalue</th></tr></thead>\n",
       "<tbody>\n",
       "\t<tr><td>Default Fit                      </td><td>0.01082                          </td><td>0.0008317                        </td></tr>\n",
       "\t<tr><td><span style=white-space:pre-wrap>Wayne Gretzky                    </span></td><td>0.90910                                                                  </td><td>&lt; 2.2e-16                                                             </td></tr>\n",
       "\t<tr><td><span style=white-space:pre-wrap>Patrick Kane                     </span></td><td>0.57590                                                                  </td><td>&lt; 2.2e-16                                                             </td></tr>\n",
       "\t<tr><td><span style=white-space:pre-wrap>Default Fit passing through 0,0  </span></td><td>0.89850                                                                  </td><td>&lt; 2.2e-16                                                             </td></tr>\n",
       "\t<tr><td>Wayne Gretzky passing through 0,0</td><td>0.92250                          </td><td>&lt; 2.2e-16                     </td></tr>\n",
       "</tbody>\n",
       "</table>\n"
      ],
      "text/latex": [
       "\\begin{tabular}{r|lll}\n",
       " Model & Rsquared & pvalue\\\\\n",
       "\\hline\n",
       "\t Default Fit                       & 0.01082                           & 0.0008317                        \\\\\n",
       "\t Wayne Gretzky                     & 0.90910                           & < 2.2e-16                        \\\\\n",
       "\t Patrick Kane                      & 0.57590                           & < 2.2e-16                        \\\\\n",
       "\t Default Fit passing through 0,0   & 0.89850                           & < 2.2e-16                        \\\\\n",
       "\t Wayne Gretzky passing through 0,0 & 0.92250                           & < 2.2e-16                        \\\\\n",
       "\\end{tabular}\n"
      ],
      "text/markdown": [
       "\n",
       "Model | Rsquared | pvalue | \n",
       "|---|---|---|---|---|\n",
       "| Default Fit                       | 0.01082                           | 0.0008317                         | \n",
       "| Wayne Gretzky                     | 0.90910                           | < 2.2e-16                         | \n",
       "| Patrick Kane                      | 0.57590                           | < 2.2e-16                         | \n",
       "| Default Fit passing through 0,0   | 0.89850                           | < 2.2e-16                         | \n",
       "| Wayne Gretzky passing through 0,0 | 0.92250                           | < 2.2e-16                         | \n",
       "\n",
       "\n"
      ],
      "text/plain": [
       "  Model                             Rsquared pvalue   \n",
       "1 Default Fit                       0.01082  0.0008317\n",
       "2 Wayne Gretzky                     0.90910  < 2.2e-16\n",
       "3 Patrick Kane                      0.57590  < 2.2e-16\n",
       "4 Default Fit passing through 0,0   0.89850  < 2.2e-16\n",
       "5 Wayne Gretzky passing through 0,0 0.92250  < 2.2e-16"
      ]
     },
     "metadata": {},
     "output_type": "display_data"
    }
   ],
   "source": [
    "defaultResult = data.frame(Model=\"Wayne Gretzky passing through 0,0\",Rsquared=0.9225,pvalue=\"< 2.2e-16\")\n",
    "resultdf = rbind.data.frame(resultdf,defaultResult)\n",
    "resultdf"
   ]
  },
  {
   "cell_type": "markdown",
   "metadata": {},
   "source": [
    "<b>3. Patrick Kane Passing through 0,0 </b>"
   ]
  },
  {
   "cell_type": "code",
   "execution_count": 42,
   "metadata": {
    "collapsed": true
   },
   "outputs": [],
   "source": [
    "nh1GAfit_pk00 = (lm(A+70~G+0, data=nh1GA_data))\n",
    "nh1GAfit_pk00.predict = predict(nh1GAfit_pk00)"
   ]
  },
  {
   "cell_type": "code",
   "execution_count": 43,
   "metadata": {
    "collapsed": false
   },
   "outputs": [
    {
     "data": {
      "image/png": "[encoded data removed]",
      "text/plain": [
       "plot without title"
      ]
     },
     "metadata": {},
     "output_type": "display_data"
    }
   ],
   "source": [
    "plot(nh1GA_data$G,nh1GA_data$A,pch=19,xlim=c(0,1000), ylim=c(0,2100))\n",
    "abline(nh1GAfit_pk00,col=\"blue\")\n",
    "points(x=0,y=0, col=\"red\")\n",
    "text(x=285, y=462, labels=\"Patrick Kane\",cex= 0.7,pos=2)"
   ]
  },
  {
   "cell_type": "code",
   "execution_count": 44,
   "metadata": {
    "collapsed": false
   },
   "outputs": [
    {
     "data": {
      "text/plain": [
       "\n",
       "Call:\n",
       "lm(formula = A + 70 ~ G + 0, data = nh1GA_data)\n",
       "\n",
       "Residuals:\n",
       "    Min      1Q  Median      3Q     Max \n",
       "-478.25 -130.81   13.99  170.13  597.58 \n",
       "\n",
       "Coefficients:\n",
       "  Estimate Std. Error t value Pr(>|t|)    \n",
       "G  1.61707    0.05206   31.06   <2e-16 ***\n",
       "---\n",
       "Signif. codes:  0 '***' 0.001 '**' 0.01 '*' 0.05 '.' 0.1 ' ' 1\n",
       "\n",
       "Residual standard error: 258 on 100 degrees of freedom\n",
       "Multiple R-squared:  0.9061,\tAdjusted R-squared:  0.9052 \n",
       "F-statistic: 964.9 on 1 and 100 DF,  p-value: < 2.2e-16\n"
      ]
     },
     "metadata": {},
     "output_type": "display_data"
    }
   ],
   "source": [
    "summary(nh1GAfit_pk00)"
   ]
  },
  {
   "cell_type": "code",
   "execution_count": 45,
   "metadata": {
    "collapsed": false
   },
   "outputs": [
    {
     "data": {
      "text/plain": [
       "\n",
       "Call:\n",
       "lm(formula = A + 70 ~ G + 0, data = nh1GA_data)\n",
       "\n",
       "Coefficients:\n",
       "    G  \n",
       "1.617  \n"
      ]
     },
     "metadata": {},
     "output_type": "display_data"
    }
   ],
   "source": [
    "nh1GAfit_pk00"
   ]
  },
  {
   "cell_type": "markdown",
   "metadata": {},
   "source": [
    "Values of R-squared and p\n",
    "<B> R-squared value = 0.9061 <br>\n",
    "p-value < 2.2e-16 </B>"
   ]
  },
  {
   "cell_type": "code",
   "execution_count": 46,
   "metadata": {
    "collapsed": false
   },
   "outputs": [
    {
     "data": {
      "text/html": [
       "<table>\n",
       "<thead><tr><th scope=col>Model</th><th scope=col>Rsquared</th><th scope=col>pvalue</th></tr></thead>\n",
       "<tbody>\n",
       "\t<tr><td>Default Fit                      </td><td>0.01082                          </td><td>0.0008317                        </td></tr>\n",
       "\t<tr><td><span style=white-space:pre-wrap>Wayne Gretzky                    </span></td><td>0.90910                                                                  </td><td>&lt; 2.2e-16                                                             </td></tr>\n",
       "\t<tr><td><span style=white-space:pre-wrap>Patrick Kane                     </span></td><td>0.57590                                                                  </td><td>&lt; 2.2e-16                                                             </td></tr>\n",
       "\t<tr><td><span style=white-space:pre-wrap>Default Fit passing through 0,0  </span></td><td>0.89850                                                                  </td><td>&lt; 2.2e-16                                                             </td></tr>\n",
       "\t<tr><td>Wayne Gretzky passing through 0,0</td><td>0.92250                          </td><td>&lt; 2.2e-16                     </td></tr>\n",
       "\t<tr><td>Patrick Kane passing through 0,0 </td><td>0.90610                          </td><td>&lt; 2.2e-16                     </td></tr>\n",
       "</tbody>\n",
       "</table>\n"
      ],
      "text/latex": [
       "\\begin{tabular}{r|lll}\n",
       " Model & Rsquared & pvalue\\\\\n",
       "\\hline\n",
       "\t Default Fit                       & 0.01082                           & 0.0008317                        \\\\\n",
       "\t Wayne Gretzky                     & 0.90910                           & < 2.2e-16                        \\\\\n",
       "\t Patrick Kane                      & 0.57590                           & < 2.2e-16                        \\\\\n",
       "\t Default Fit passing through 0,0   & 0.89850                           & < 2.2e-16                        \\\\\n",
       "\t Wayne Gretzky passing through 0,0 & 0.92250                           & < 2.2e-16                        \\\\\n",
       "\t Patrick Kane passing through 0,0  & 0.90610                           & < 2.2e-16                        \\\\\n",
       "\\end{tabular}\n"
      ],
      "text/markdown": [
       "\n",
       "Model | Rsquared | pvalue | \n",
       "|---|---|---|---|---|---|\n",
       "| Default Fit                       | 0.01082                           | 0.0008317                         | \n",
       "| Wayne Gretzky                     | 0.90910                           | < 2.2e-16                         | \n",
       "| Patrick Kane                      | 0.57590                           | < 2.2e-16                         | \n",
       "| Default Fit passing through 0,0   | 0.89850                           | < 2.2e-16                         | \n",
       "| Wayne Gretzky passing through 0,0 | 0.92250                           | < 2.2e-16                         | \n",
       "| Patrick Kane passing through 0,0  | 0.90610                           | < 2.2e-16                         | \n",
       "\n",
       "\n"
      ],
      "text/plain": [
       "  Model                             Rsquared pvalue   \n",
       "1 Default Fit                       0.01082  0.0008317\n",
       "2 Wayne Gretzky                     0.90910  < 2.2e-16\n",
       "3 Patrick Kane                      0.57590  < 2.2e-16\n",
       "4 Default Fit passing through 0,0   0.89850  < 2.2e-16\n",
       "5 Wayne Gretzky passing through 0,0 0.92250  < 2.2e-16\n",
       "6 Patrick Kane passing through 0,0  0.90610  < 2.2e-16"
      ]
     },
     "metadata": {},
     "output_type": "display_data"
    }
   ],
   "source": [
    "defaultResult = data.frame(Model=\"Patrick Kane passing through 0,0\",Rsquared=0.9061,pvalue=\"< 2.2e-16\")\n",
    "resultdf = rbind.data.frame(resultdf,defaultResult)\n",
    "resultdf"
   ]
  },
  {
   "cell_type": "markdown",
   "metadata": {},
   "source": [
    "<h3>Interpreting the Results:  </h3>"
   ]
  },
  {
   "cell_type": "markdown",
   "metadata": {},
   "source": [
    "The above table shows us the values of R-squared and p-value for different models, some forced to pass through origin. <br>\n",
    "• R-square tells you how much variation is explained by our model. <br>\n",
    "• p-value tells us about the F statistic hypothesis testing of the \"fit of the intercept only model and your model are\n",
    "equal. p-value less than the significance level (< 0.05) then our models fits the data well.\n",
    "<br><br>\n",
    "Through our resultdf table, it is clear that we have p-value less than 0.05 and hence all models fits our data well.\n",
    "Only the thing is same for all moels except for default fit line. <br>\n",
    "•  A predictor that has a low p-value is likely to be a meaningful addition to our model because changes in the predictor's value are related to changes in the response variable.<br>\n",
    "• Conversely, a larger (insignificant) p-value suggests that changes in the predictor are not associated with changes in the response.<br>\n",
    "<br>\n",
    "Then we also observe that we have quite different values for R-sqaure for every model. We are interested in high R-sqaured and low p-values. As there is no such variation in p-values, let us consider only R-squared values now.<br> \n",
    "• High R-squared value is obained for Wayne Gretzky passing through point(0,0) which is greater than the same model but not passing through (0,0). Wayne Gretzky point can be considered as outlier due to its high x and y points. Hence we can interpret that outliers when passed through (0,0) can give us high R-squared value.<br>\n",
    "• For all the models, R-squared value has increased when passed through point(0,0). <br>\n",
    "<br>\n",
    "Again this interpretation depends on data and hence R-squared an p-values will entirely depend on data and distribution of values in that data."
   ]
  }
 ],
 "metadata": {
  "kernelspec": {
   "display_name": "R",
   "language": "R",
   "name": "ir"
  },
  "language_info": {
   "codemirror_mode": "r",
   "file_extension": ".r",
   "mimetype": "text/x-r-source",
   "name": "R",
   "pygments_lexer": "r",
   "version": "3.3.2"
  }
 },
 "nbformat": 4,
 "nbformat_minor": 2
}
